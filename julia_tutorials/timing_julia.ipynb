{
 "cells": [
  {
   "cell_type": "markdown",
   "metadata": {},
   "source": [
    "# Timing in Julia\n",
    "\n",
    "這一節我們要來介紹計算時間的指令。簡單來說，julia 計算程式運行效能有幾個指令：\n",
    "\n",
    "* `@time` 顯示出程式運行的秒數以及記憶體的使用狀況\n",
    "* `@timed` 顯示程式執行回傳值，秒數以及記憶體的使用狀況\n",
    "* `@timev` 顯示`@time`一樣的資訊，最後顯示程式執行回傳值\n",
    "* `@elapsed` 顯示出某程式運行的秒數\n",
    "\n",
    "**BUT,** 真正要計算程式效能, 還是推薦用 `BenchmarkTools.jl` 這個 package.\n",
    "\n",
    "這裡我們需要使用兩個 package: `LinearAlgebra` 以及 `BenchmarkTools`"
   ]
  },
  {
   "cell_type": "code",
   "execution_count": 1,
   "metadata": {},
   "outputs": [],
   "source": [
    "using LinearAlgebra\n",
    "using BenchmarkTools"
   ]
  },
  {
   "cell_type": "markdown",
   "metadata": {},
   "source": [
    "## Example 1: Matrix-matrix multiplication\n",
    "\n",
    "我們以矩陣乘法為例：$A:n\\times p$, $B:p\\times m$, $C=AB:n\\times m$"
   ]
  },
  {
   "cell_type": "code",
   "execution_count": 2,
   "metadata": {},
   "outputs": [
    {
     "data": {
      "text/plain": [
       "f1 (generic function with 1 method)"
      ]
     },
     "execution_count": 2,
     "metadata": {},
     "output_type": "execute_result"
    }
   ],
   "source": [
    "function f1(n, p, m)\n",
    "   A=rand(n,p)\n",
    "   B=rand(p,m)\n",
    "   C=zeros(Float64,n,m)\n",
    "   for i in 1:n\n",
    "      for j in 1:m\n",
    "         for k in 1:p\n",
    "            C[i,j] = C[i,j]+A[i,k]*B[k,j]\n",
    "         end\n",
    "       end\n",
    "    end\n",
    "end"
   ]
  },
  {
   "cell_type": "markdown",
   "metadata": {},
   "source": [
    "我們先試試看以 julia 既有的計算時間指令來看結果如何"
   ]
  },
  {
   "cell_type": "code",
   "execution_count": 3,
   "metadata": {},
   "outputs": [
    {
     "name": "stdout",
     "output_type": "stream",
     "text": [
      "  0.076423 seconds (161.79 k allocations: 8.380 MiB)\n"
     ]
    }
   ],
   "source": [
    "@time f1(100,10,200)"
   ]
  },
  {
   "cell_type": "code",
   "execution_count": 4,
   "metadata": {},
   "outputs": [
    {
     "data": {
      "text/plain": [
       "(nothing, 0.000448109, 184496, 0.0, Base.GC_Diff(184496, 1, 0, 5, 2, 0, 0, 0, 0))"
      ]
     },
     "execution_count": 4,
     "metadata": {},
     "output_type": "execute_result"
    }
   ],
   "source": [
    "@timed f1(100,10,200)"
   ]
  },
  {
   "cell_type": "code",
   "execution_count": 5,
   "metadata": {},
   "outputs": [
    {
     "name": "stdout",
     "output_type": "stream",
     "text": [
      "  0.005932 seconds (8 allocations: 180.172 KiB, 92.28% gc time)\n",
      "elapsed time (ns): 5931535\n",
      "gc time (ns):      5473727\n",
      "bytes allocated:   184496\n",
      "pool allocs:       5\n",
      "non-pool GC allocs:2\n",
      "malloc() calls:    1\n",
      "GC pauses:         1\n"
     ]
    }
   ],
   "source": [
    "@timev f1(100,10,200)"
   ]
  },
  {
   "cell_type": "code",
   "execution_count": 6,
   "metadata": {},
   "outputs": [
    {
     "data": {
      "text/plain": [
       "0.000561533"
      ]
     },
     "execution_count": 6,
     "metadata": {},
     "output_type": "execute_result"
    }
   ],
   "source": [
    "@elapsed f1(100,10,200)"
   ]
  },
  {
   "cell_type": "markdown",
   "metadata": {},
   "source": [
    "這些指令的表現如同一開始我們所介紹的, 顯示出程式執行時間以及其他資訊. \n",
    "\n",
    "不過一般而言一個程式在第一次跑及之後幾次跑的運行效能會不同, 這是由於初始化的關係. 所以我們通常要跑好幾次來算平均, 已得知一個程式的真正效能. \n",
    "\n",
    "`benchmark` 就提供了這樣的功用, 他會跑好幾次程式, 並且計算最大最小時間. "
   ]
  },
  {
   "cell_type": "code",
   "execution_count": 7,
   "metadata": {},
   "outputs": [
    {
     "data": {
      "text/plain": [
       "BenchmarkTools.Trial: \n",
       "  memory estimate:  180.02 KiB\n",
       "  allocs estimate:  4\n",
       "  --------------\n",
       "  minimum time:     437.243 μs (0.00% GC)\n",
       "  median time:      485.922 μs (0.00% GC)\n",
       "  mean time:        513.114 μs (3.90% GC)\n",
       "  maximum time:     44.383 ms (98.89% GC)\n",
       "  --------------\n",
       "  samples:          9711\n",
       "  evals/sample:     1"
      ]
     },
     "execution_count": 7,
     "metadata": {},
     "output_type": "execute_result"
    }
   ],
   "source": [
    "@benchmark f1(100,10,200)"
   ]
  },
  {
   "cell_type": "markdown",
   "metadata": {},
   "source": [
    "接著我們看一下如果用 `LinearAlgebra` 裡的矩陣乘法指令效能如何."
   ]
  },
  {
   "cell_type": "code",
   "execution_count": 8,
   "metadata": {},
   "outputs": [
    {
     "data": {
      "text/plain": [
       "f2 (generic function with 1 method)"
      ]
     },
     "execution_count": 8,
     "metadata": {},
     "output_type": "execute_result"
    }
   ],
   "source": [
    "function f2(n, p, m)\n",
    "    A=rand(n,p)\n",
    "    B=rand(p,m)\n",
    "    C=zeros(Float64,n,m)\n",
    "    mul!(C,A,B);\n",
    "end"
   ]
  },
  {
   "cell_type": "code",
   "execution_count": 9,
   "metadata": {},
   "outputs": [
    {
     "data": {
      "text/plain": [
       "BenchmarkTools.Trial: \n",
       "  memory estimate:  180.02 KiB\n",
       "  allocs estimate:  4\n",
       "  --------------\n",
       "  minimum time:     41.088 μs (0.00% GC)\n",
       "  median time:      91.270 μs (0.00% GC)\n",
       "  mean time:        106.954 μs (19.04% GC)\n",
       "  maximum time:     45.286 ms (99.75% GC)\n",
       "  --------------\n",
       "  samples:          10000\n",
       "  evals/sample:     1"
      ]
     },
     "execution_count": 9,
     "metadata": {},
     "output_type": "execute_result"
    }
   ],
   "source": [
    "@benchmark f2(100,10,200)"
   ]
  },
  {
   "cell_type": "markdown",
   "metadata": {},
   "source": [
    "看起來似乎比我們自己寫的 for-loop 效能好一些. \n",
    "\n",
    "## type-stability\n",
    "\n",
    "以下幾個巨集程式是 julia 內建用來診斷程式內部問題的. "
   ]
  },
  {
   "cell_type": "code",
   "execution_count": 10,
   "metadata": {
    "collapsed": true,
    "jupyter": {
     "outputs_hidden": true
    }
   },
   "outputs": [
    {
     "name": "stdout",
     "output_type": "stream",
     "text": [
      "Body\u001b[36m::Nothing\u001b[39m\n",
      "\u001b[90m1 ──\u001b[39m %1   = Random.GLOBAL_RNG\u001b[36m::Random.MersenneTwister\u001b[39m\n",
      "\u001b[90m│   \u001b[39m %2   = $(Expr(:foreigncall, :(:jl_alloc_array_2d), Array{Float64,2}, svec(Any, Int64, Int64), :(:ccall), 3, Array{Float64,2}, :(n), :(p), :(p), :(n)))\u001b[36m::Array{Float64,2}\u001b[39m\n",
      "\u001b[90m│   \u001b[39m %3   = (Base.arraylen)(%2)\u001b[36m::Int64\u001b[39m\n",
      "\u001b[90m│   \u001b[39m %4   = (Base.mul_int)(8, %3)\u001b[36m::Int64\u001b[39m\n",
      "\u001b[90m│   \u001b[39m %5   = (Base.arraylen)(%2)\u001b[36m::Int64\u001b[39m\n",
      "\u001b[90m│   \u001b[39m %6   = (Base.mul_int)(8, %5)\u001b[36m::Int64\u001b[39m\n",
      "\u001b[90m│   \u001b[39m %7   = (Base.sle_int)(%4, %6)\u001b[36m::Bool\u001b[39m\n",
      "\u001b[90m└───\u001b[39m        goto #3 if not %7\n",
      "\u001b[90m2 ──\u001b[39m        goto #4\n",
      "\u001b[90m3 ──\u001b[39m        nothing\n",
      "\u001b[90m4 ┄─\u001b[39m %11  = φ (#2 => true, #3 => false)\u001b[36m::Bool\u001b[39m\n",
      "\u001b[90m└───\u001b[39m        goto #6 if not %11\n",
      "\u001b[90m5 ──\u001b[39m %13  = $(Expr(:gc_preserve_begin, :(%2)))\n",
      "\u001b[90m│   \u001b[39m %14  = $(Expr(:foreigncall, :(:jl_array_ptr), Ptr{Float64}, svec(Any), :(:ccall), 1, :(%2)))\u001b[36m::Ptr{Float64}\u001b[39m\n",
      "\u001b[90m│   \u001b[39m %15  = %new(Random.UnsafeView{Float64}, %14, %3)\u001b[36m::Random.UnsafeView{Float64}\u001b[39m\n",
      "\u001b[90m│   \u001b[39m        invoke Random.rand!(%1::Random.MersenneTwister, %15::Random.UnsafeView{Float64}, $(QuoteNode(Random.SamplerTrivial{Random.CloseOpen01{Float64},Float64}(Random.CloseOpen01{Float64}())))::Random.SamplerTrivial{Random.CloseOpen01{Float64},Float64})\n",
      "\u001b[90m│   \u001b[39m        $(Expr(:gc_preserve_end, :(%13)))\n",
      "\u001b[90m└───\u001b[39m        goto #7\n",
      "\u001b[90m6 ──\u001b[39m %19  = %new(Core.AssertionError, \"sizeof(Float64) * n64 <= sizeof(T) * length(A) && isbitstype(T)\")\u001b[36m::AssertionError\u001b[39m\n",
      "\u001b[90m│   \u001b[39m        (Base.throw)(%19)\n",
      "\u001b[90m└───\u001b[39m        $(Expr(:unreachable))\n",
      "\u001b[90m7 ┄─\u001b[39m        goto #8\n",
      "\u001b[90m8 ──\u001b[39m        goto #9\n",
      "\u001b[90m9 ──\u001b[39m        goto #10\n",
      "\u001b[90m10 ─\u001b[39m        goto #11\n",
      "\u001b[90m11 ─\u001b[39m        goto #12\n",
      "\u001b[90m12 ─\u001b[39m %27  = Random.GLOBAL_RNG\u001b[36m::Random.MersenneTwister\u001b[39m\n",
      "\u001b[90m│   \u001b[39m %28  = $(Expr(:foreigncall, :(:jl_alloc_array_2d), Array{Float64,2}, svec(Any, Int64, Int64), :(:ccall), 3, Array{Float64,2}, :(p), :(m), :(m), :(p)))\u001b[36m::Array{Float64,2}\u001b[39m\n",
      "\u001b[90m│   \u001b[39m %29  = (Base.arraylen)(%28)\u001b[36m::Int64\u001b[39m\n",
      "\u001b[90m│   \u001b[39m %30  = (Base.mul_int)(8, %29)\u001b[36m::Int64\u001b[39m\n",
      "\u001b[90m│   \u001b[39m %31  = (Base.arraylen)(%28)\u001b[36m::Int64\u001b[39m\n",
      "\u001b[90m│   \u001b[39m %32  = (Base.mul_int)(8, %31)\u001b[36m::Int64\u001b[39m\n",
      "\u001b[90m│   \u001b[39m %33  = (Base.sle_int)(%30, %32)\u001b[36m::Bool\u001b[39m\n",
      "\u001b[90m└───\u001b[39m        goto #14 if not %33\n",
      "\u001b[90m13 ─\u001b[39m        goto #15\n",
      "\u001b[90m14 ─\u001b[39m        nothing\n",
      "\u001b[90m15 ┄\u001b[39m %37  = φ (#13 => true, #14 => false)\u001b[36m::Bool\u001b[39m\n",
      "\u001b[90m└───\u001b[39m        goto #17 if not %37\n",
      "\u001b[90m16 ─\u001b[39m %39  = $(Expr(:gc_preserve_begin, :(%28)))\n",
      "\u001b[90m│   \u001b[39m %40  = $(Expr(:foreigncall, :(:jl_array_ptr), Ptr{Float64}, svec(Any), :(:ccall), 1, :(%28)))\u001b[36m::Ptr{Float64}\u001b[39m\n",
      "\u001b[90m│   \u001b[39m %41  = %new(Random.UnsafeView{Float64}, %40, %29)\u001b[36m::Random.UnsafeView{Float64}\u001b[39m\n",
      "\u001b[90m│   \u001b[39m        invoke Random.rand!(%27::Random.MersenneTwister, %41::Random.UnsafeView{Float64}, $(QuoteNode(Random.SamplerTrivial{Random.CloseOpen01{Float64},Float64}(Random.CloseOpen01{Float64}())))::Random.SamplerTrivial{Random.CloseOpen01{Float64},Float64})\n",
      "\u001b[90m│   \u001b[39m        $(Expr(:gc_preserve_end, :(%39)))\n",
      "\u001b[90m└───\u001b[39m        goto #18\n",
      "\u001b[90m17 ─\u001b[39m %45  = %new(Core.AssertionError, \"sizeof(Float64) * n64 <= sizeof(T) * length(A) && isbitstype(T)\")\u001b[36m::AssertionError\u001b[39m\n",
      "\u001b[90m│   \u001b[39m        (Base.throw)(%45)\n",
      "\u001b[90m└───\u001b[39m        $(Expr(:unreachable))\n",
      "\u001b[90m18 ┄\u001b[39m        goto #19\n",
      "\u001b[90m19 ─\u001b[39m        goto #20\n",
      "\u001b[90m20 ─\u001b[39m        goto #21\n",
      "\u001b[90m21 ─\u001b[39m        goto #22\n",
      "\u001b[90m22 ─\u001b[39m        goto #23\n",
      "\u001b[90m23 ─\u001b[39m %53  = $(Expr(:foreigncall, :(:jl_alloc_array_2d), Array{Float64,2}, svec(Any, Int64, Int64), :(:ccall), 3, Array{Float64,2}, :(n), :(m), :(m), :(n)))\u001b[36m::Array{Float64,2}\u001b[39m\n",
      "\u001b[90m│   \u001b[39m %54  = invoke Base.fill!(%53::Array{Float64,2}, 0.0::Float64)\u001b[36m::Array{Float64,2}\u001b[39m\n",
      "\u001b[90m│   \u001b[39m %55  = (Base.sle_int)(1, n)\u001b[36m::Bool\u001b[39m\n",
      "\u001b[90m│   \u001b[39m %56  = (Base.ifelse)(%55, n, 0)\u001b[36m::Int64\u001b[39m\n",
      "\u001b[90m│   \u001b[39m %57  = (Base.slt_int)(%56, 1)\u001b[36m::Bool\u001b[39m\n",
      "\u001b[90m└───\u001b[39m        goto #25 if not %57\n",
      "\u001b[90m24 ─\u001b[39m        goto #26\n",
      "\u001b[90m25 ─\u001b[39m        goto #26\n",
      "\u001b[90m26 ┄\u001b[39m %61  = φ (#24 => true, #25 => false)\u001b[36m::Bool\u001b[39m\n",
      "\u001b[90m│   \u001b[39m %62  = φ (#25 => 1)\u001b[36m::Int64\u001b[39m\n",
      "\u001b[90m│   \u001b[39m %63  = φ (#25 => 1)\u001b[36m::Int64\u001b[39m\n",
      "\u001b[90m│   \u001b[39m %64  = (Base.not_int)(%61)\u001b[36m::Bool\u001b[39m\n",
      "\u001b[90m└───\u001b[39m        goto #50 if not %64\n",
      "\u001b[90m27 ┄\u001b[39m %66  = φ (#26 => %62, #49 => %127)\u001b[36m::Int64\u001b[39m\n",
      "\u001b[90m│   \u001b[39m %67  = φ (#26 => %63, #49 => %128)\u001b[36m::Int64\u001b[39m\n",
      "\u001b[90m│   \u001b[39m %68  = (Base.sle_int)(1, m)\u001b[36m::Bool\u001b[39m\n",
      "\u001b[90m│   \u001b[39m %69  = (Base.ifelse)(%68, m, 0)\u001b[36m::Int64\u001b[39m\n",
      "\u001b[90m│   \u001b[39m %70  = (Base.slt_int)(%69, 1)\u001b[36m::Bool\u001b[39m\n",
      "\u001b[90m└───\u001b[39m        goto #29 if not %70\n",
      "\u001b[90m28 ─\u001b[39m        goto #30\n",
      "\u001b[90m29 ─\u001b[39m        goto #30\n",
      "\u001b[90m30 ┄\u001b[39m %74  = φ (#28 => true, #29 => false)\u001b[36m::Bool\u001b[39m\n",
      "\u001b[90m│   \u001b[39m %75  = φ (#29 => 1)\u001b[36m::Int64\u001b[39m\n",
      "\u001b[90m│   \u001b[39m %76  = φ (#29 => 1)\u001b[36m::Int64\u001b[39m\n",
      "\u001b[90m│   \u001b[39m %77  = (Base.not_int)(%74)\u001b[36m::Bool\u001b[39m\n",
      "\u001b[90m└───\u001b[39m        goto #45 if not %77\n",
      "\u001b[90m31 ┄\u001b[39m %79  = φ (#30 => %75, #44 => %116)\u001b[36m::Int64\u001b[39m\n",
      "\u001b[90m│   \u001b[39m %80  = φ (#30 => %76, #44 => %117)\u001b[36m::Int64\u001b[39m\n",
      "\u001b[90m│   \u001b[39m %81  = (Base.sle_int)(1, p)\u001b[36m::Bool\u001b[39m\n",
      "\u001b[90m│   \u001b[39m %82  = (Base.ifelse)(%81, p, 0)\u001b[36m::Int64\u001b[39m\n",
      "\u001b[90m│   \u001b[39m %83  = (Base.slt_int)(%82, 1)\u001b[36m::Bool\u001b[39m\n",
      "\u001b[90m└───\u001b[39m        goto #33 if not %83\n",
      "\u001b[90m32 ─\u001b[39m        goto #34\n",
      "\u001b[90m33 ─\u001b[39m        goto #34\n",
      "\u001b[90m34 ┄\u001b[39m %87  = φ (#32 => true, #33 => false)\u001b[36m::Bool\u001b[39m\n",
      "\u001b[90m│   \u001b[39m %88  = φ (#33 => 1)\u001b[36m::Int64\u001b[39m\n",
      "\u001b[90m│   \u001b[39m %89  = φ (#33 => 1)\u001b[36m::Int64\u001b[39m\n",
      "\u001b[90m│   \u001b[39m %90  = (Base.not_int)(%87)\u001b[36m::Bool\u001b[39m\n",
      "\u001b[90m└───\u001b[39m        goto #40 if not %90\n",
      "\u001b[90m35 ┄\u001b[39m %92  = φ (#34 => %88, #39 => %105)\u001b[36m::Int64\u001b[39m\n",
      "\u001b[90m│   \u001b[39m %93  = φ (#34 => %89, #39 => %106)\u001b[36m::Int64\u001b[39m\n",
      "\u001b[90m│   \u001b[39m %94  = (Base.arrayref)(true, %54, %66, %79)\u001b[36m::Float64\u001b[39m\n",
      "\u001b[90m│   \u001b[39m %95  = (Base.arrayref)(true, %2, %66, %92)\u001b[36m::Float64\u001b[39m\n",
      "\u001b[90m│   \u001b[39m %96  = (Base.arrayref)(true, %28, %92, %79)\u001b[36m::Float64\u001b[39m\n",
      "\u001b[90m│   \u001b[39m %97  = (Base.mul_float)(%95, %96)\u001b[36m::Float64\u001b[39m\n",
      "\u001b[90m│   \u001b[39m %98  = (Base.add_float)(%94, %97)\u001b[36m::Float64\u001b[39m\n",
      "\u001b[90m│   \u001b[39m        (Base.arrayset)(true, %54, %98, %66, %79)\n",
      "\u001b[90m│   \u001b[39m %100 = (%93 === %82)\u001b[36m::Bool\u001b[39m\n",
      "\u001b[90m└───\u001b[39m        goto #37 if not %100\n",
      "\u001b[90m36 ─\u001b[39m        goto #38\n",
      "\u001b[90m37 ─\u001b[39m %103 = (Base.add_int)(%93, 1)\u001b[36m::Int64\u001b[39m\n",
      "\u001b[90m└───\u001b[39m        goto #38\n",
      "\u001b[90m38 ┄\u001b[39m %105 = φ (#37 => %103)\u001b[36m::Int64\u001b[39m\n",
      "\u001b[90m│   \u001b[39m %106 = φ (#37 => %103)\u001b[36m::Int64\u001b[39m\n",
      "\u001b[90m│   \u001b[39m %107 = φ (#36 => true, #37 => false)\u001b[36m::Bool\u001b[39m\n",
      "\u001b[90m│   \u001b[39m %108 = (Base.not_int)(%107)\u001b[36m::Bool\u001b[39m\n",
      "\u001b[90m└───\u001b[39m        goto #40 if not %108\n",
      "\u001b[90m39 ─\u001b[39m        goto #35\n",
      "\u001b[90m40 ┄\u001b[39m %111 = (%80 === %69)\u001b[36m::Bool\u001b[39m\n",
      "\u001b[90m└───\u001b[39m        goto #42 if not %111\n",
      "\u001b[90m41 ─\u001b[39m        goto #43\n",
      "\u001b[90m42 ─\u001b[39m %114 = (Base.add_int)(%80, 1)\u001b[36m::Int64\u001b[39m\n",
      "\u001b[90m└───\u001b[39m        goto #43\n",
      "\u001b[90m43 ┄\u001b[39m %116 = φ (#42 => %114)\u001b[36m::Int64\u001b[39m\n",
      "\u001b[90m│   \u001b[39m %117 = φ (#42 => %114)\u001b[36m::Int64\u001b[39m\n",
      "\u001b[90m│   \u001b[39m %118 = φ (#41 => true, #42 => false)\u001b[36m::Bool\u001b[39m\n",
      "\u001b[90m│   \u001b[39m %119 = (Base.not_int)(%118)\u001b[36m::Bool\u001b[39m\n",
      "\u001b[90m└───\u001b[39m        goto #45 if not %119\n",
      "\u001b[90m44 ─\u001b[39m        goto #31\n",
      "\u001b[90m45 ┄\u001b[39m %122 = (%67 === %56)\u001b[36m::Bool\u001b[39m\n",
      "\u001b[90m└───\u001b[39m        goto #47 if not %122\n",
      "\u001b[90m46 ─\u001b[39m        goto #48\n",
      "\u001b[90m47 ─\u001b[39m %125 = (Base.add_int)(%67, 1)\u001b[36m::Int64\u001b[39m\n",
      "\u001b[90m└───\u001b[39m        goto #48\n",
      "\u001b[90m48 ┄\u001b[39m %127 = φ (#47 => %125)\u001b[36m::Int64\u001b[39m\n",
      "\u001b[90m│   \u001b[39m %128 = φ (#47 => %125)\u001b[36m::Int64\u001b[39m\n",
      "\u001b[90m│   \u001b[39m %129 = φ (#46 => true, #47 => false)\u001b[36m::Bool\u001b[39m\n",
      "\u001b[90m│   \u001b[39m %130 = (Base.not_int)(%129)\u001b[36m::Bool\u001b[39m\n",
      "\u001b[90m└───\u001b[39m        goto #50 if not %130\n",
      "\u001b[90m49 ─\u001b[39m        goto #27\n",
      "\u001b[90m50 ┄\u001b[39m        return\n"
     ]
    }
   ],
   "source": [
    "@code_warntype f1(10,10,10)"
   ]
  },
  {
   "cell_type": "code",
   "execution_count": 11,
   "metadata": {
    "collapsed": true
   },
   "outputs": [
    {
     "data": {
      "text/plain": [
       "CodeInfo(\n",
       "\u001b[90m1 ──\u001b[39m %1   = Random.GLOBAL_RNG\u001b[36m::MersenneTwister\u001b[39m\n",
       "\u001b[90m│   \u001b[39m %2   = $(Expr(:foreigncall, :(:jl_alloc_array_2d), Array{Float64,2}, svec(Any, Int64, Int64), :(:ccall), 3, Array{Float64,2}, :(n), :(p), :(p), :(n)))\u001b[36m::Array{Float64,2}\u001b[39m\n",
       "\u001b[90m│   \u001b[39m %3   = (Base.arraylen)(%2)\u001b[36m::Int64\u001b[39m\n",
       "\u001b[90m│   \u001b[39m %4   = (Base.mul_int)(8, %3)\u001b[36m::Int64\u001b[39m\n",
       "\u001b[90m│   \u001b[39m %5   = (Base.arraylen)(%2)\u001b[36m::Int64\u001b[39m\n",
       "\u001b[90m│   \u001b[39m %6   = (Base.mul_int)(8, %5)\u001b[36m::Int64\u001b[39m\n",
       "\u001b[90m│   \u001b[39m %7   = (Base.sle_int)(%4, %6)\u001b[36m::Bool\u001b[39m\n",
       "\u001b[90m└───\u001b[39m        goto #3 if not %7\n",
       "\u001b[90m2 ──\u001b[39m        goto #4\n",
       "\u001b[90m3 ──\u001b[39m        nothing\u001b[90m::Nothing\u001b[39m\n",
       "\u001b[90m4 ┄─\u001b[39m %11  = φ (#2 => true, #3 => false)\u001b[36m::Bool\u001b[39m\n",
       "\u001b[90m└───\u001b[39m        goto #6 if not %11\n",
       "\u001b[90m5 ──\u001b[39m %13  = $(Expr(:gc_preserve_begin, :(%2)))\n",
       "\u001b[90m│   \u001b[39m %14  = $(Expr(:foreigncall, :(:jl_array_ptr), Ptr{Float64}, svec(Any), :(:ccall), 1, :(%2)))\u001b[36m::Ptr{Float64}\u001b[39m\n",
       "\u001b[90m│   \u001b[39m %15  = %new(UnsafeView{Float64}, %14, %3)\u001b[36m::UnsafeView{Float64}\u001b[39m\n",
       "\u001b[90m│   \u001b[39m        invoke Random.rand!(%1::Random.MersenneTwister, %15::Random.UnsafeView{Float64}, $(QuoteNode(Random.SamplerTrivial{Random.CloseOpen01{Float64},Float64}(Random.CloseOpen01{Float64}())))::Random.SamplerTrivial{Random.CloseOpen01{Float64},Float64})\u001b[90m::UnsafeView{Float64}\u001b[39m\n",
       "\u001b[90m│   \u001b[39m        $(Expr(:gc_preserve_end, :(%13)))\n",
       "\u001b[90m└───\u001b[39m        goto #7\n",
       "\u001b[90m6 ──\u001b[39m %19  = %new(Core.AssertionError, \"sizeof(Float64) * n64 <= sizeof(T) * length(A) && isbitstype(T)\")\u001b[36m::AssertionError\u001b[39m\n",
       "\u001b[90m│   \u001b[39m        (Base.throw)(%19)\u001b[90m::Union{}\u001b[39m\n",
       "\u001b[90m└───\u001b[39m        $(Expr(:unreachable))\u001b[90m::Union{}\u001b[39m\n",
       "\u001b[90m7 ┄─\u001b[39m        goto #8\n",
       "\u001b[90m8 ──\u001b[39m        goto #9\n",
       "\u001b[90m9 ──\u001b[39m        goto #10\n",
       "\u001b[90m10 ─\u001b[39m        goto #11\n",
       "\u001b[90m11 ─\u001b[39m        goto #12\n",
       "\u001b[90m12 ─\u001b[39m %27  = Random.GLOBAL_RNG\u001b[36m::MersenneTwister\u001b[39m\n",
       "\u001b[90m│   \u001b[39m %28  = $(Expr(:foreigncall, :(:jl_alloc_array_2d), Array{Float64,2}, svec(Any, Int64, Int64), :(:ccall), 3, Array{Float64,2}, :(p), :(m), :(m), :(p)))\u001b[36m::Array{Float64,2}\u001b[39m\n",
       "\u001b[90m│   \u001b[39m %29  = (Base.arraylen)(%28)\u001b[36m::Int64\u001b[39m\n",
       "\u001b[90m│   \u001b[39m %30  = (Base.mul_int)(8, %29)\u001b[36m::Int64\u001b[39m\n",
       "\u001b[90m│   \u001b[39m %31  = (Base.arraylen)(%28)\u001b[36m::Int64\u001b[39m\n",
       "\u001b[90m│   \u001b[39m %32  = (Base.mul_int)(8, %31)\u001b[36m::Int64\u001b[39m\n",
       "\u001b[90m│   \u001b[39m %33  = (Base.sle_int)(%30, %32)\u001b[36m::Bool\u001b[39m\n",
       "\u001b[90m└───\u001b[39m        goto #14 if not %33\n",
       "\u001b[90m13 ─\u001b[39m        goto #15\n",
       "\u001b[90m14 ─\u001b[39m        nothing\u001b[90m::Nothing\u001b[39m\n",
       "\u001b[90m15 ┄\u001b[39m %37  = φ (#13 => true, #14 => false)\u001b[36m::Bool\u001b[39m\n",
       "\u001b[90m└───\u001b[39m        goto #17 if not %37\n",
       "\u001b[90m16 ─\u001b[39m %39  = $(Expr(:gc_preserve_begin, :(%28)))\n",
       "\u001b[90m│   \u001b[39m %40  = $(Expr(:foreigncall, :(:jl_array_ptr), Ptr{Float64}, svec(Any), :(:ccall), 1, :(%28)))\u001b[36m::Ptr{Float64}\u001b[39m\n",
       "\u001b[90m│   \u001b[39m %41  = %new(UnsafeView{Float64}, %40, %29)\u001b[36m::UnsafeView{Float64}\u001b[39m\n",
       "\u001b[90m│   \u001b[39m        invoke Random.rand!(%27::Random.MersenneTwister, %41::Random.UnsafeView{Float64}, $(QuoteNode(Random.SamplerTrivial{Random.CloseOpen01{Float64},Float64}(Random.CloseOpen01{Float64}())))::Random.SamplerTrivial{Random.CloseOpen01{Float64},Float64})\u001b[90m::UnsafeView{Float64}\u001b[39m\n",
       "\u001b[90m│   \u001b[39m        $(Expr(:gc_preserve_end, :(%39)))\n",
       "\u001b[90m└───\u001b[39m        goto #18\n",
       "\u001b[90m17 ─\u001b[39m %45  = %new(Core.AssertionError, \"sizeof(Float64) * n64 <= sizeof(T) * length(A) && isbitstype(T)\")\u001b[36m::AssertionError\u001b[39m\n",
       "\u001b[90m│   \u001b[39m        (Base.throw)(%45)\u001b[90m::Union{}\u001b[39m\n",
       "\u001b[90m└───\u001b[39m        $(Expr(:unreachable))\u001b[90m::Union{}\u001b[39m\n",
       "\u001b[90m18 ┄\u001b[39m        goto #19\n",
       "\u001b[90m19 ─\u001b[39m        goto #20\n",
       "\u001b[90m20 ─\u001b[39m        goto #21\n",
       "\u001b[90m21 ─\u001b[39m        goto #22\n",
       "\u001b[90m22 ─\u001b[39m        goto #23\n",
       "\u001b[90m23 ─\u001b[39m %53  = $(Expr(:foreigncall, :(:jl_alloc_array_2d), Array{Float64,2}, svec(Any, Int64, Int64), :(:ccall), 3, Array{Float64,2}, :(n), :(m), :(m), :(n)))\u001b[36m::Array{Float64,2}\u001b[39m\n",
       "\u001b[90m│   \u001b[39m %54  = invoke Base.fill!(%53::Array{Float64,2}, 0.0::Float64)\u001b[36m::Array{Float64,2}\u001b[39m\n",
       "\u001b[90m│   \u001b[39m %55  = (Base.sle_int)(1, n)\u001b[36m::Bool\u001b[39m\n",
       "\u001b[90m│   \u001b[39m %56  = (Base.ifelse)(%55, n, 0)\u001b[36m::Int64\u001b[39m\n",
       "\u001b[90m│   \u001b[39m %57  = (Base.slt_int)(%56, 1)\u001b[36m::Bool\u001b[39m\n",
       "\u001b[90m└───\u001b[39m        goto #25 if not %57\n",
       "\u001b[90m24 ─\u001b[39m        goto #26\n",
       "\u001b[90m25 ─\u001b[39m        goto #26\n",
       "\u001b[90m26 ┄\u001b[39m %61  = φ (#24 => true, #25 => false)\u001b[36m::Bool\u001b[39m\n",
       "\u001b[90m│   \u001b[39m %62  = φ (#25 => 1)\u001b[36m::Int64\u001b[39m\n",
       "\u001b[90m│   \u001b[39m %63  = φ (#25 => 1)\u001b[36m::Int64\u001b[39m\n",
       "\u001b[90m│   \u001b[39m %64  = (Base.not_int)(%61)\u001b[36m::Bool\u001b[39m\n",
       "\u001b[90m└───\u001b[39m        goto #50 if not %64\n",
       "\u001b[90m27 ┄\u001b[39m %66  = φ (#26 => %62, #49 => %127)\u001b[36m::Int64\u001b[39m\n",
       "\u001b[90m│   \u001b[39m %67  = φ (#26 => %63, #49 => %128)\u001b[36m::Int64\u001b[39m\n",
       "\u001b[90m│   \u001b[39m %68  = (Base.sle_int)(1, m)\u001b[36m::Bool\u001b[39m\n",
       "\u001b[90m│   \u001b[39m %69  = (Base.ifelse)(%68, m, 0)\u001b[36m::Int64\u001b[39m\n",
       "\u001b[90m│   \u001b[39m %70  = (Base.slt_int)(%69, 1)\u001b[36m::Bool\u001b[39m\n",
       "\u001b[90m└───\u001b[39m        goto #29 if not %70\n",
       "\u001b[90m28 ─\u001b[39m        goto #30\n",
       "\u001b[90m29 ─\u001b[39m        goto #30\n",
       "\u001b[90m30 ┄\u001b[39m %74  = φ (#28 => true, #29 => false)\u001b[36m::Bool\u001b[39m\n",
       "\u001b[90m│   \u001b[39m %75  = φ (#29 => 1)\u001b[36m::Int64\u001b[39m\n",
       "\u001b[90m│   \u001b[39m %76  = φ (#29 => 1)\u001b[36m::Int64\u001b[39m\n",
       "\u001b[90m│   \u001b[39m %77  = (Base.not_int)(%74)\u001b[36m::Bool\u001b[39m\n",
       "\u001b[90m└───\u001b[39m        goto #45 if not %77\n",
       "\u001b[90m31 ┄\u001b[39m %79  = φ (#30 => %75, #44 => %116)\u001b[36m::Int64\u001b[39m\n",
       "\u001b[90m│   \u001b[39m %80  = φ (#30 => %76, #44 => %117)\u001b[36m::Int64\u001b[39m\n",
       "\u001b[90m│   \u001b[39m %81  = (Base.sle_int)(1, p)\u001b[36m::Bool\u001b[39m\n",
       "\u001b[90m│   \u001b[39m %82  = (Base.ifelse)(%81, p, 0)\u001b[36m::Int64\u001b[39m\n",
       "\u001b[90m│   \u001b[39m %83  = (Base.slt_int)(%82, 1)\u001b[36m::Bool\u001b[39m\n",
       "\u001b[90m└───\u001b[39m        goto #33 if not %83\n",
       "\u001b[90m32 ─\u001b[39m        goto #34\n",
       "\u001b[90m33 ─\u001b[39m        goto #34\n",
       "\u001b[90m34 ┄\u001b[39m %87  = φ (#32 => true, #33 => false)\u001b[36m::Bool\u001b[39m\n",
       "\u001b[90m│   \u001b[39m %88  = φ (#33 => 1)\u001b[36m::Int64\u001b[39m\n",
       "\u001b[90m│   \u001b[39m %89  = φ (#33 => 1)\u001b[36m::Int64\u001b[39m\n",
       "\u001b[90m│   \u001b[39m %90  = (Base.not_int)(%87)\u001b[36m::Bool\u001b[39m\n",
       "\u001b[90m└───\u001b[39m        goto #40 if not %90\n",
       "\u001b[90m35 ┄\u001b[39m %92  = φ (#34 => %88, #39 => %105)\u001b[36m::Int64\u001b[39m\n",
       "\u001b[90m│   \u001b[39m %93  = φ (#34 => %89, #39 => %106)\u001b[36m::Int64\u001b[39m\n",
       "\u001b[90m│   \u001b[39m %94  = (Base.arrayref)(true, %54, %66, %79)\u001b[36m::Float64\u001b[39m\n",
       "\u001b[90m│   \u001b[39m %95  = (Base.arrayref)(true, %2, %66, %92)\u001b[36m::Float64\u001b[39m\n",
       "\u001b[90m│   \u001b[39m %96  = (Base.arrayref)(true, %28, %92, %79)\u001b[36m::Float64\u001b[39m\n",
       "\u001b[90m│   \u001b[39m %97  = (Base.mul_float)(%95, %96)\u001b[36m::Float64\u001b[39m\n",
       "\u001b[90m│   \u001b[39m %98  = (Base.add_float)(%94, %97)\u001b[36m::Float64\u001b[39m\n",
       "\u001b[90m│   \u001b[39m        (Base.arrayset)(true, %54, %98, %66, %79)\u001b[90m::Array{Float64,2}\u001b[39m\n",
       "\u001b[90m│   \u001b[39m %100 = (%93 === %82)\u001b[36m::Bool\u001b[39m\n",
       "\u001b[90m└───\u001b[39m        goto #37 if not %100\n",
       "\u001b[90m36 ─\u001b[39m        goto #38\n",
       "\u001b[90m37 ─\u001b[39m %103 = (Base.add_int)(%93, 1)\u001b[36m::Int64\u001b[39m\n",
       "\u001b[90m└───\u001b[39m        goto #38\n",
       "\u001b[90m38 ┄\u001b[39m %105 = φ (#37 => %103)\u001b[36m::Int64\u001b[39m\n",
       "\u001b[90m│   \u001b[39m %106 = φ (#37 => %103)\u001b[36m::Int64\u001b[39m\n",
       "\u001b[90m│   \u001b[39m %107 = φ (#36 => true, #37 => false)\u001b[36m::Bool\u001b[39m\n",
       "\u001b[90m│   \u001b[39m %108 = (Base.not_int)(%107)\u001b[36m::Bool\u001b[39m\n",
       "\u001b[90m└───\u001b[39m        goto #40 if not %108\n",
       "\u001b[90m39 ─\u001b[39m        goto #35\n",
       "\u001b[90m40 ┄\u001b[39m %111 = (%80 === %69)\u001b[36m::Bool\u001b[39m\n",
       "\u001b[90m└───\u001b[39m        goto #42 if not %111\n",
       "\u001b[90m41 ─\u001b[39m        goto #43\n",
       "\u001b[90m42 ─\u001b[39m %114 = (Base.add_int)(%80, 1)\u001b[36m::Int64\u001b[39m\n",
       "\u001b[90m└───\u001b[39m        goto #43\n",
       "\u001b[90m43 ┄\u001b[39m %116 = φ (#42 => %114)\u001b[36m::Int64\u001b[39m\n",
       "\u001b[90m│   \u001b[39m %117 = φ (#42 => %114)\u001b[36m::Int64\u001b[39m\n",
       "\u001b[90m│   \u001b[39m %118 = φ (#41 => true, #42 => false)\u001b[36m::Bool\u001b[39m\n",
       "\u001b[90m│   \u001b[39m %119 = (Base.not_int)(%118)\u001b[36m::Bool\u001b[39m\n",
       "\u001b[90m└───\u001b[39m        goto #45 if not %119\n",
       "\u001b[90m44 ─\u001b[39m        goto #31\n",
       "\u001b[90m45 ┄\u001b[39m %122 = (%67 === %56)\u001b[36m::Bool\u001b[39m\n",
       "\u001b[90m└───\u001b[39m        goto #47 if not %122\n",
       "\u001b[90m46 ─\u001b[39m        goto #48\n",
       "\u001b[90m47 ─\u001b[39m %125 = (Base.add_int)(%67, 1)\u001b[36m::Int64\u001b[39m\n",
       "\u001b[90m└───\u001b[39m        goto #48\n",
       "\u001b[90m48 ┄\u001b[39m %127 = φ (#47 => %125)\u001b[36m::Int64\u001b[39m\n",
       "\u001b[90m│   \u001b[39m %128 = φ (#47 => %125)\u001b[36m::Int64\u001b[39m\n",
       "\u001b[90m│   \u001b[39m %129 = φ (#46 => true, #47 => false)\u001b[36m::Bool\u001b[39m\n",
       "\u001b[90m│   \u001b[39m %130 = (Base.not_int)(%129)\u001b[36m::Bool\u001b[39m\n",
       "\u001b[90m└───\u001b[39m        goto #50 if not %130\n",
       "\u001b[90m49 ─\u001b[39m        goto #27\n",
       "\u001b[90m50 ┄\u001b[39m        return\n",
       ") => Nothing"
      ]
     },
     "execution_count": 11,
     "metadata": {},
     "output_type": "execute_result"
    }
   ],
   "source": [
    "@code_typed f1(10,10,10)"
   ]
  },
  {
   "cell_type": "code",
   "execution_count": 12,
   "metadata": {
    "collapsed": true
   },
   "outputs": [
    {
     "name": "stdout",
     "output_type": "stream",
     "text": [
      "\t.section\t__TEXT,__text,regular,pure_instructions\n",
      "; ┌ @ In[2]:2 within `f1'\n",
      "\tpushl\t%ebp\n",
      "\tdecl\t%eax\n",
      "\tmovl\t%esp, %ebp\n",
      "\tincl\t%ecx\n",
      "\tpushl\t%edi\n",
      "\tincl\t%ecx\n",
      "\tpushl\t%esi\n",
      "\tincl\t%ecx\n",
      "\tpushl\t%ebp\n",
      "\tincl\t%ecx\n",
      "\tpushl\t%esp\n",
      "\tpushl\t%ebx\n",
      "\tdecl\t%eax\n",
      "\tandl\t$-32, %esp\n",
      "\tdecl\t%eax\n",
      "\tsubl\t$224, %esp\n",
      "\tdecl\t%eax\n",
      "\tmovl\t%esp, %ebx\n",
      "\tvxorps\t%xmm0, %xmm0, %xmm0\n",
      "\tvmovaps\t%ymm0, 64(%ebx)\n",
      "\tdecl\t%ecx\n",
      "\tmovl\t%edx, %esi\n",
      "\tdecl\t%ecx\n",
      "\tmovl\t%esi, %edi\n",
      "\tdecl\t%ecx\n",
      "\tmovl\t%edi, %esp\n",
      "\tdecl\t%eax\n",
      "\tmovl\t$0, 96(%ebx)\n",
      "\tdecl\t%eax\n",
      "\tmovl\t$64318704, %ecx         ## imm = 0x3D56CF0\n",
      "\taddl\t%eax, (%eax)\n",
      "\taddb\t%al, (%eax)\n",
      "\tdecl\t%eax\n",
      "\tleal\t158128(%ecx), %eax\n",
      "\tdecl\t%ecx\n",
      "\tmovl\t%ecx, %ebp\n",
      "\tvzeroupper\n",
      "\tcalll\t*%eax\n",
      "; │┌ @ Random.jl:243 within `rand' @ Random.jl:255 @ Random.jl:254\n",
      "; ││┌ @ boot.jl:419 within `Type' @ boot.jl:412 @ boot.jl:404\n",
      "\tdecl\t%eax\n",
      "\tmovl\t$6, 64(%ebx)\n",
      "\tdecl\t%eax\n",
      "\tmovl\t(%eax), %ecx\n",
      "\tdecl\t%eax\n",
      "\tmovl\t%ecx, 72(%ebx)\n",
      "\tdecl\t%eax\n",
      "\tleal\t64(%ebx), %ecx\n",
      "\tdecl\t%eax\n",
      "\tmovl\t%eax, 104(%ebx)\n",
      "\tdecl\t%eax\n",
      "\tmovl\t%ecx, (%eax)\n",
      "\tdecl\t%eax\n",
      "\tmovl\t$269664528, %edi        ## imm = 0x1012C110\n",
      "\taddl\t%eax, (%eax)\n",
      "\taddb\t%al, (%eax)\n",
      "\tdecl\t%esp\n",
      "\tmovl\t%esp, %esi\n",
      "\tdecl\t%esp\n",
      "\tmovl\t%edi, %edx\n",
      "\tincl\t%ecx\n",
      "\tcalll\t*%ebp\n",
      "\tdecl\t%ecx\n",
      "\tmovl\t%eax, %ebp\n",
      "; ││└\n",
      "; ││ @ Random.jl:243 within `rand' @ Random.jl:255 @ pointer.jl:65\n",
      "\tvmovups\t(%ebp), %xmm0\n",
      "; ││ @ Random.jl:243 within `rand' @ Random.jl:255 @ Random.jl:254\n",
      "; ││┌ @ Random.jl:233 within `rand!' @ RNGs.jl:456\n",
      "; │││┌ @ RNGs.jl:450 within `_rand!'\n",
      "; ││││┌ @ RNGs.jl:374 within `macro expansion'\n",
      "\tvmovups\t%xmm0, 152(%ebx)\n",
      "\tdecl\t%esp\n",
      "\tmovl\t%ebp, 80(%ebx)\n",
      "\tdecl\t%eax\n",
      "\tleal\t184(%ebx), %edi\n",
      "; └└└└└\n",
      "; ┌ @ gcutils.jl:87 within `f1'\n",
      "\tdecl\t%eax\n",
      "\tmovl\t$318018096, %esi        ## imm = 0x12F49230\n",
      "\taddl\t%eax, (%eax)\n",
      "\taddb\t%al, (%eax)\n",
      "\tdecl\t%eax\n",
      "\tleal\t152(%ebx), %edx\n",
      "\tdecl\t%eax\n",
      "\tmovl\t$212126080, %eax        ## imm = 0xCA4C980\n",
      "\taddl\t%eax, (%eax)\n",
      "\taddb\t%al, (%eax)\n",
      "\tcalll\t*%eax\n",
      "; └\n",
      "; ┌ @ In[2]:3 within `f1'\n",
      "; │┌ @ Random.jl:243 within `rand' @ Random.jl:255 @ Random.jl:254\n",
      "; ││┌ @ boot.jl:419 within `Type' @ boot.jl:412 @ boot.jl:404\n",
      "\tdecl\t%eax\n",
      "\tmovl\t$269664528, %edi        ## imm = 0x1012C110\n",
      "\taddl\t%eax, (%eax)\n",
      "\taddb\t%al, (%eax)\n",
      "\tdecl\t%esp\n",
      "\tmovl\t%edi, 32(%ebx)\n",
      "\tdecl\t%esp\n",
      "\tmovl\t%edi, %esi\n",
      "\tdecl\t%esp\n",
      "\tmovl\t%esi, %edx\n",
      "\tdecl\t%eax\n",
      "\tmovl\t$64318704, %eax         ## imm = 0x3D56CF0\n",
      "\taddl\t%eax, (%eax)\n",
      "\taddb\t%al, (%eax)\n",
      "\tcalll\t*%eax\n",
      "\tdecl\t%ecx\n",
      "\tmovl\t%eax, %edi\n",
      "; ││└\n",
      "; ││ @ Random.jl:243 within `rand' @ Random.jl:255 @ pointer.jl:65\n",
      "\tvmovupd\t(%edi), %xmm0\n",
      "; ││ @ Random.jl:243 within `rand' @ Random.jl:255 @ Random.jl:254\n",
      "; ││┌ @ Random.jl:233 within `rand!' @ RNGs.jl:456\n",
      "; │││┌ @ RNGs.jl:450 within `_rand!'\n",
      "; ││││┌ @ gcutils.jl:87 within `macro expansion'\n",
      "; │││││┌ @ RNGs.jl:374 within `Type'\n",
      "\tvmovupd\t%xmm0, 136(%ebx)\n",
      "\tdecl\t%esp\n",
      "\tmovl\t%edi, 88(%ebx)\n",
      "\tdecl\t%eax\n",
      "\tleal\t168(%ebx), %edi\n",
      "\tdecl\t%eax\n",
      "\tleal\t136(%ebx), %edx\n",
      "; │││││└\n",
      "\tdecl\t%eax\n",
      "\tmovl\t$318018096, %esi        ## imm = 0x12F49230\n",
      "\taddl\t%eax, (%eax)\n",
      "\taddb\t%al, (%eax)\n",
      "\tdecl\t%eax\n",
      "\tmovl\t$212126080, %eax        ## imm = 0xCA4C980\n",
      "\taddl\t%eax, (%eax)\n",
      "\taddb\t%al, (%eax)\n",
      "\tcalll\t*%eax\n",
      "; │└└└└\n",
      "; │ @ In[2]:4 within `f1'\n",
      "; │┌ @ array.jl:449 within `zeros' @ array.jl:452\n",
      "; ││┌ @ boot.jl:412 within `Type' @ boot.jl:404\n",
      "\tdecl\t%eax\n",
      "\tmovl\t$269664528, %edi        ## imm = 0x1012C110\n",
      "\taddl\t%eax, (%eax)\n",
      "\taddb\t%al, (%eax)\n",
      "\tdecl\t%esp\n",
      "\tmovl\t%esp, %esi\n",
      "\tdecl\t%esp\n",
      "\tmovl\t%esi, 40(%ebx)\n",
      "\tdecl\t%esp\n",
      "\tmovl\t%esi, %edx\n",
      "\tdecl\t%eax\n",
      "\tmovl\t$64318704, %eax         ## imm = 0x3D56CF0\n",
      "\taddl\t%eax, (%eax)\n",
      "\taddb\t%al, (%eax)\n",
      "\tcalll\t*%eax\n",
      "\tdecl\t%eax\n",
      "\tmovl\t%eax, 96(%ebx)\n",
      "; ││└\n",
      "\tdecl\t%eax\n",
      "\tmovl\t$212126816, %ecx        ## imm = 0xCA4CC60\n",
      "\taddl\t%eax, (%eax)\n",
      "\taddb\t%al, (%eax)\n",
      "\tvxorpd\t%xmm0, %xmm0, %xmm0\n",
      "\tdecl\t%eax\n",
      "\tmovl\t%eax, %edi\n",
      "\tcalll\t*%ecx\n",
      "\tdecl\t%esp\n",
      "\tmovl\t%esp, 112(%ebx)\n",
      "; │└\n",
      "; │ @ In[2]:5 within `f1'\n",
      "; │┌ @ range.jl:5 within `Colon'\n",
      "; ││┌ @ range.jl:274 within `Type'\n",
      "; │││┌ @ range.jl:279 within `unitrange_last'\n",
      "; ││││┌ @ operators.jl:333 within `>='\n",
      "; │││││┌ @ int.jl:428 within `<='\n",
      "\tdecl\t%ebp\n",
      "\ttestl\t%esp, %esp\n",
      "; │└└└└└\n",
      "\tjle\tL699\n",
      "\tdecl\t%eax\n",
      "\tmovl\t40(%ebx), %edx\n",
      "\tdecl\t%eax\n",
      "\tmovl\t%edx, %ecx\n",
      "\tdecl\t%eax\n",
      "\tsarl\t$63, %ecx\n",
      "\tandnl\t%edx, %ecx, %ecx\n",
      "\tdecl\t%eax\n",
      "\tmovl\t%ecx, 120(%ebx)\n",
      "\tdecl\t%eax\n",
      "\tmovl\t32(%ebx), %edx\n",
      "\tdecl\t%eax\n",
      "\tmovl\t%edx, %ecx\n",
      "\tdecl\t%eax\n",
      "\tsarl\t$63, %ecx\n",
      "\tandnl\t%edx, %ecx, %ecx\n",
      "; │ @ In[2]:5 within `f1'\n",
      "\tdecl\t%eax\n",
      "\taddl\t$-1, %ecx\n",
      "\tdecl\t%eax\n",
      "\tmovl\t%ecx, 128(%ebx)\n",
      "\tmovl\t$1, %ecx\n",
      "\tdecl\t%eax\n",
      "\tmovl\t%ecx, 24(%ebx)\n",
      "; │ @ In[2]:6 within `f1'\n",
      "\tdecl\t%eax\n",
      "\tcmpl\t$0, 40(%ebx)\n",
      "\tjg\tL435\n",
      "\tjmp\tL685\n",
      "\tnopw\t%cs:(%eax,%eax)\n",
      "; │ @ In[2]:8 within `f1'\n",
      "; │┌ @ range.jl:595 within `iterate'\n",
      "; ││┌ @ int.jl:53 within `+'\n",
      "L416:\n",
      "\tdecl\t%eax\n",
      "\taddl\t$1, %ecx\n",
      "\tdecl\t%eax\n",
      "\tmovl\t%ecx, 24(%ebx)\n",
      "; │└└\n",
      "; │ @ In[2]:6 within `f1'\n",
      "\tdecl\t%eax\n",
      "\tcmpl\t$0, 40(%ebx)\n",
      "\tjle\tL685\n",
      "L435:\n",
      "\tdecl\t%eax\n",
      "\tcmpl\t$0, 32(%ebx)\n",
      "\tjle\tL685\n",
      "\tdecl\t%eax\n",
      "\tmovl\t24(%ebx), %ecx\n",
      "\tdecl\t%eax\n",
      "\tleal\t-1(%ecx), %ecx\n",
      "\txorl\t%edx, %edx\n",
      "\tdecl\t%eax\n",
      "\tmovl\t%edx, 56(%ebx)\n",
      "\tmovl\t$1, %edi\n",
      "; │ @ In[2]:8 within `f1'\n",
      "; │┌ @ array.jl:730 within `getindex'\n",
      "\tdecl\t%esp\n",
      "\tmovl\t24(%eax), %ecx\n",
      "\tdecl\t%esp\n",
      "\tcmpl\t%ecx, %ecx\n",
      "\tjb\tL502\n",
      "\tjmp\tL817\n",
      "\tnop\n",
      "; │└\n",
      "; │┌ @ range.jl:595 within `iterate'\n",
      "; ││┌ @ int.jl:53 within `+'\n",
      "L480:\n",
      "\tdecl\t%eax\n",
      "\taddl\t$1, %edi\n",
      "; │└└\n",
      "\tdecl\t%eax\n",
      "\taddl\t$1, 56(%ebx)\n",
      "; │┌ @ array.jl:730 within `getindex'\n",
      "\tdecl\t%esp\n",
      "\tmovl\t24(%eax), %ecx\n",
      "\tdecl\t%esp\n",
      "\tcmpl\t%ecx, %ecx\n",
      "\tjae\tL817\n",
      "L502:\n",
      "\tdecl\t%esp\n",
      "\tleal\t-1(%edi), %esp\n",
      "\tdecl\t%esp\n",
      "\tcmpl\t32(%eax), %esp\n",
      "; ││ @ array.jl:730 within `getindex'\n",
      "\tjae\tL817\n",
      "\tdecl\t%eax\n",
      "\tmovl\t%edi, 48(%ebx)\n",
      "\txorl\t%edi, %edi\n",
      "; ││ @ array.jl:730 within `getindex'\n",
      "\tdecl\t%ebp\n",
      "\tmovl\t24(%ebp), %esi\n",
      "\tdecl\t%esp\n",
      "\tcmpl\t%esi, %ecx\n",
      "\tjb\tL564\n",
      "\tjmp\tL725\n",
      "\tnopl\t(%eax,%eax)\n",
      "L544:\n",
      "\tdecl\t%eax\n",
      "\taddl\t$1, %edi\n",
      "\tdecl\t%eax\n",
      "\tmovl\t%edx, %eax\n",
      "\tdecl\t%ebp\n",
      "\tmovl\t24(%ebp), %esi\n",
      "\tdecl\t%esp\n",
      "\tcmpl\t%esi, %ecx\n",
      "\tjae\tL725\n",
      "L564:\n",
      "\tdecl\t%ecx\n",
      "\tcmpl\t32(%ebp), %edi\n",
      "\tjae\tL725\n",
      "\tdecl\t%ebp\n",
      "\tmovl\t24(%edi), %eax\n",
      "\tdecl\t%esp\n",
      "\tcmpl\t%eax, %edi\n",
      "\tjae\tL771\n",
      "\tdecl\t%ebp\n",
      "\tcmpl\t32(%edi), %esp\n",
      "\tjae\tL771\n",
      "\tdecl\t%esp\n",
      "\tmovl\t%ecx, %esi\n",
      "\tdecl\t%ecx\n",
      "\timull\t%esp, %esi\n",
      "\tdecl\t%eax\n",
      "\taddl\t%ecx, %esi\n",
      "\tdecl\t%eax\n",
      "\tmovl\t%eax, %edx\n",
      "\tdecl\t%esp\n",
      "\tmovl\t(%eax), %edx\n",
      "\tdecl\t%esp\n",
      "\timull\t%edi, %esi\n",
      "\tdecl\t%ecx\n",
      "\taddl\t%ecx, %esi\n",
      "\tdecl\t%ebp\n",
      "\tmovl\t(%ebp), %ebx\n",
      "\tlesl\t-217837445(%ecx), %eax\n",
      "\tdecl\t%esp\n",
      "\timull\t56(%ebx), %eax\n",
      "\tdecl\t%ecx\n",
      "\taddl\t%edi, %eax\n",
      "\tdecl\t%ecx\n",
      "\tmovl\t(%edi), %eax\n",
      "; │└\n",
      "; │┌ @ float.jl:399 within `*'\n",
      "\tlesl\t-1073456773(%ecx), %esp\n",
      "; │└\n",
      "; │┌ @ float.jl:395 within `+'\n",
      "\tvaddsd\t(%edx,%esi,8), %xmm0, %xmm0\n",
      "; │└\n",
      "; │┌ @ array.jl:769 within `setindex!'\n",
      "\tvmovsd\t%xmm0, (%edx,%esi,8)\n",
      "; │└\n",
      "; │┌ @ range.jl:594 within `iterate'\n",
      "; ││┌ @ promotion.jl:403 within `=='\n",
      "\tdecl\t%eax\n",
      "\tcmpl\t%edi, 128(%ebx)\n",
      "; │└└\n",
      "\tjne\tL544\n",
      "\tdecl\t%eax\n",
      "\tmovl\t48(%ebx), %edi\n",
      "; │ @ In[2]:8 within `f1'\n",
      "; │┌ @ range.jl:594 within `iterate'\n",
      "; ││┌ @ promotion.jl:403 within `=='\n",
      "\tdecl\t%eax\n",
      "\tcmpl\t120(%ebx), %edi\n",
      "\tdecl\t%eax\n",
      "\tmovl\t%edx, %eax\n",
      "; │└└\n",
      "\tjne\tL480\n",
      "L685:\n",
      "\tdecl\t%eax\n",
      "\tmovl\t24(%ebx), %ecx\n",
      "; │ @ In[2]:8 within `f1'\n",
      "; │┌ @ range.jl:594 within `iterate'\n",
      "; ││┌ @ promotion.jl:403 within `=='\n",
      "\tdecl\t%eax\n",
      "\tcmpl\t112(%ebx), %ecx\n",
      "; │└└\n",
      "\tjne\tL416\n",
      "L699:\n",
      "\tdecl\t%eax\n",
      "\tmovl\t72(%ebx), %eax\n",
      "\tdecl\t%eax\n",
      "\tmovl\t104(%ebx), %ecx\n",
      "\tdecl\t%eax\n",
      "\tmovl\t%eax, (%ecx)\n",
      "\tdecl\t%eax\n",
      "\tleal\t-40(%ebp), %esp\n",
      "\tpopl\t%ebx\n",
      "\tincl\t%ecx\n",
      "\tpopl\t%esp\n",
      "\tincl\t%ecx\n",
      "\tpopl\t%ebp\n",
      "\tincl\t%ecx\n",
      "\tpopl\t%esi\n",
      "\tincl\t%ecx\n",
      "\tpopl\t%edi\n",
      "\tpopl\t%ebp\n",
      "\tretl\n",
      "; │┌ @ array.jl:730 within `getindex'\n",
      "L725:\n",
      "\tdecl\t%eax\n",
      "\tmovl\t%esp, %eax\n",
      "\tdecl\t%eax\n",
      "\tleal\t-16(%eax), %esi\n",
      "\tdecl\t%eax\n",
      "\tmovl\t%esi, %esp\n",
      "\tdecl\t%eax\n",
      "\tmovl\t24(%ebx), %ecx\n",
      "\tdecl\t%eax\n",
      "\tmovl\t%ecx, -16(%eax)\n",
      "\tdecl\t%eax\n",
      "\taddl\t$1, %edi\n",
      "\tdecl\t%eax\n",
      "\tmovl\t%edi, -8(%eax)\n",
      "\tdecl\t%eax\n",
      "\tmovl\t$64607536, %eax         ## imm = 0x3D9D530\n",
      "\taddl\t%eax, (%eax)\n",
      "\taddb\t%al, (%eax)\n",
      "\tmovl\t$2, %edx\n",
      "\tdecl\t%esp\n",
      "\tmovl\t%ebp, %edi\n",
      "\tcalll\t*%eax\n",
      "L771:\n",
      "\tdecl\t%eax\n",
      "\tmovl\t%esp, %eax\n",
      "\tdecl\t%eax\n",
      "\tleal\t-16(%eax), %esi\n",
      "\tdecl\t%eax\n",
      "\tmovl\t%esi, %esp\n",
      "\tdecl\t%eax\n",
      "\taddl\t$1, %edi\n",
      "\tdecl\t%eax\n",
      "\tmovl\t%edi, -16(%eax)\n",
      "\tdecl\t%eax\n",
      "\tmovl\t48(%ebx), %ecx\n",
      "\tdecl\t%eax\n",
      "\tmovl\t%ecx, -8(%eax)\n",
      "\tdecl\t%eax\n",
      "\tmovl\t$64607536, %eax         ## imm = 0x3D9D530\n",
      "\taddl\t%eax, (%eax)\n",
      "\taddb\t%al, (%eax)\n",
      "\tmovl\t$2, %edx\n",
      "\tdecl\t%esp\n",
      "\tmovl\t%edi, %edi\n",
      "\tcalll\t*%eax\n",
      "L817:\n",
      "\tdecl\t%eax\n",
      "\tmovl\t%esp, %ecx\n",
      "\tdecl\t%eax\n",
      "\tleal\t-16(%ecx), %esi\n",
      "\tdecl\t%eax\n",
      "\tmovl\t%esi, %esp\n",
      "\tdecl\t%eax\n",
      "\tmovl\t24(%ebx), %edx\n",
      "\tdecl\t%eax\n",
      "\tmovl\t%edx, -16(%ecx)\n",
      "\tdecl\t%eax\n",
      "\tmovl\t%edi, -8(%ecx)\n",
      "\tdecl\t%eax\n",
      "\tmovl\t%eax, 80(%ebx)\n",
      "\tdecl\t%eax\n",
      "\tmovl\t$64607536, %ecx         ## imm = 0x3D9D530\n",
      "\taddl\t%eax, (%eax)\n",
      "\taddb\t%al, (%eax)\n",
      "\tmovl\t$2, %edx\n",
      "\tdecl\t%eax\n",
      "\tmovl\t%eax, %edi\n",
      "\tcalll\t*%ecx\n",
      "\tnop\n",
      "; └└\n"
     ]
    }
   ],
   "source": [
    "@code_native f1(10,10,10)"
   ]
  },
  {
   "cell_type": "markdown",
   "metadata": {},
   "source": [
    "## Example 2: Vector 2-norm\n",
    "\n",
    "接著我們看一下算向量 2-norm 的效能, 一樣我們比較一下自己寫的以及 call 函數的方式."
   ]
  },
  {
   "cell_type": "code",
   "execution_count": 13,
   "metadata": {
    "scrolled": true
   },
   "outputs": [
    {
     "data": {
      "text/plain": [
       "t1 (generic function with 1 method)"
      ]
     },
     "execution_count": 13,
     "metadata": {},
     "output_type": "execute_result"
    }
   ],
   "source": [
    "function t1(n)\n",
    "    vec = rand(1,n);\n",
    "    vec*vec';\n",
    "end"
   ]
  },
  {
   "cell_type": "code",
   "execution_count": 14,
   "metadata": {},
   "outputs": [
    {
     "data": {
      "text/plain": [
       "BenchmarkTools.Trial: \n",
       "  memory estimate:  781.42 KiB\n",
       "  allocs estimate:  3\n",
       "  --------------\n",
       "  minimum time:     423.973 μs (0.00% GC)\n",
       "  median time:      504.538 μs (0.00% GC)\n",
       "  mean time:        606.699 μs (9.87% GC)\n",
       "  maximum time:     47.376 ms (98.43% GC)\n",
       "  --------------\n",
       "  samples:          8213\n",
       "  evals/sample:     1"
      ]
     },
     "execution_count": 14,
     "metadata": {},
     "output_type": "execute_result"
    }
   ],
   "source": [
    "@benchmark t1(10^5)"
   ]
  },
  {
   "cell_type": "code",
   "execution_count": 15,
   "metadata": {},
   "outputs": [
    {
     "data": {
      "text/plain": [
       "t2 (generic function with 1 method)"
      ]
     },
     "execution_count": 15,
     "metadata": {},
     "output_type": "execute_result"
    }
   ],
   "source": [
    "function t2(n)\n",
    "    vec = rand(1,n);\n",
    "    sum(abs2, vec);\n",
    "end"
   ]
  },
  {
   "cell_type": "code",
   "execution_count": 16,
   "metadata": {},
   "outputs": [
    {
     "data": {
      "text/plain": [
       "BenchmarkTools.Trial: \n",
       "  memory estimate:  781.33 KiB\n",
       "  allocs estimate:  2\n",
       "  --------------\n",
       "  minimum time:     141.160 μs (0.00% GC)\n",
       "  median time:      195.940 μs (0.00% GC)\n",
       "  mean time:        335.496 μs (19.51% GC)\n",
       "  maximum time:     64.500 ms (99.17% GC)\n",
       "  --------------\n",
       "  samples:          10000\n",
       "  evals/sample:     1"
      ]
     },
     "execution_count": 16,
     "metadata": {},
     "output_type": "execute_result"
    }
   ],
   "source": [
    "@benchmark t2(10^5)"
   ]
  },
  {
   "cell_type": "markdown",
   "metadata": {},
   "source": [
    "## Example 3: Solving linear system\n",
    "\n",
    "這裡我們看一下解線性系統, 也就是 matlab 常見的\"左除\", 的效率如何. "
   ]
  },
  {
   "cell_type": "code",
   "execution_count": 17,
   "metadata": {},
   "outputs": [
    {
     "data": {
      "text/plain": [
       "s1 (generic function with 1 method)"
      ]
     },
     "execution_count": 17,
     "metadata": {},
     "output_type": "execute_result"
    }
   ],
   "source": [
    "function s1(n)\n",
    "    A=rand(n,n);\n",
    "    b=rand(n);\n",
    "    A\\b;\n",
    "end"
   ]
  },
  {
   "cell_type": "code",
   "execution_count": 18,
   "metadata": {},
   "outputs": [
    {
     "data": {
      "text/plain": [
       "BenchmarkTools.Trial: \n",
       "  memory estimate:  15.28 MiB\n",
       "  allocs estimate:  8\n",
       "  --------------\n",
       "  minimum time:     13.463 ms (0.00% GC)\n",
       "  median time:      16.817 ms (10.20% GC)\n",
       "  mean time:        18.148 ms (9.36% GC)\n",
       "  maximum time:     64.226 ms (77.63% GC)\n",
       "  --------------\n",
       "  samples:          276\n",
       "  evals/sample:     1"
      ]
     },
     "execution_count": 18,
     "metadata": {},
     "output_type": "execute_result"
    }
   ],
   "source": [
    "@benchmark s1(1000)"
   ]
  },
  {
   "cell_type": "code",
   "execution_count": null,
   "metadata": {},
   "outputs": [],
   "source": []
  }
 ],
 "metadata": {
  "@webio": {
   "lastCommId": null,
   "lastKernelId": null
  },
  "kernelspec": {
   "display_name": "Julia 1.1.0",
   "language": "julia",
   "name": "julia-1.1"
  },
  "language_info": {
   "file_extension": ".jl",
   "mimetype": "application/julia",
   "name": "julia",
   "version": "1.1.0"
  }
 },
 "nbformat": 4,
 "nbformat_minor": 4
}
