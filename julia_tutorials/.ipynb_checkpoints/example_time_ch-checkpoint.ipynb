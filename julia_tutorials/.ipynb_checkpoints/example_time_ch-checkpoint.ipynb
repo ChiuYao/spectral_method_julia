{
 "cells": [
  {
   "cell_type": "markdown",
   "metadata": {},
   "source": [
    "# Example -- Timing\n",
    "\n",
    "這一節我們要來介紹計算時間的指令，我們要計算級數加總的時間。\n",
    "在這個例子中，我們用兩種方法加總底下這個級數：\n",
    "\n",
    "$$\n",
    "\\sum^{n}_{i=1} \\frac{i}{2}.\n",
    "$$\n",
    "\n",
    "第一個方法是用 for 迴圈，一項一項加起來，第二個方法用內建函數 \"sum\"。\n",
    "\n",
    "我們將加總級數的方法寫成函數，\n",
    "Example 1 介紹的函數不回傳結果，而 Example 2 則介紹函數如何回傳結果。"
   ]
  },
  {
   "cell_type": "markdown",
   "metadata": {},
   "source": [
    "# Example 1 函數不回傳結果\n",
    "\n",
    "首先，我們將上述的兩種方法先寫成函數，函數 f 是利用 for 迴圈加總， g 是利用內建函數。\n",
    "\n",
    "f 是函數名稱，\n",
    "inpute n 代表要加總幾項。\n",
    "\n",
    "一開始，因為還沒開始加總，我們先令 s = 0, \n",
    "\n",
    "接著在 for 迴圈中，每次都將原來加總的結果加上 i/2，\n",
    "\n",
    "i 是這個迴圈的計數器，i 從 1 開始數，數到 n 並停止。"
   ]
  },
  {
   "cell_type": "code",
   "execution_count": 2,
   "metadata": {},
   "outputs": [
    {
     "data": {
      "text/plain": [
       "f (generic function with 1 method)"
      ]
     },
     "execution_count": 2,
     "metadata": {},
     "output_type": "execute_result"
    }
   ],
   "source": [
    "function f(n)\n",
    "    s = 0.0\n",
    "    for i = 1:n\n",
    "        s = s + i/2\n",
    "    end\n",
    "end"
   ]
  },
  {
   "cell_type": "markdown",
   "metadata": {},
   "source": [
    "函數 g 是利用內建函數 \"sum\" 來計算，原式 $\\sum^{n}_{i=1} \\frac{i}{2}$ 可以改寫成 $\\frac{1}{2} \\sum^{n}_{i=1} i$，\n",
    "\n",
    "因此我們用內建函數 sum 來加總 1 到 n，再將結果除以 2。"
   ]
  },
  {
   "cell_type": "code",
   "execution_count": 3,
   "metadata": {},
   "outputs": [
    {
     "data": {
      "text/plain": [
       "g (generic function with 1 method)"
      ]
     },
     "execution_count": 3,
     "metadata": {},
     "output_type": "execute_result"
    }
   ],
   "source": [
    "function g(n)\n",
    "    s = sum(1:n)/2.0\n",
    "end"
   ]
  },
  {
   "cell_type": "markdown",
   "metadata": {},
   "source": [
    "函數 h 是利用等差級數的公式求解。\n",
    "\n",
    "首項是 1/2 末項是 n/2，共 n 項。因此和為 $h(n) = \\frac{n (1/2 + n/2)}{2} = \\frac{n(1+n)}{4}$"
   ]
  },
  {
   "cell_type": "code",
   "execution_count": 4,
   "metadata": {},
   "outputs": [
    {
     "data": {
      "text/plain": [
       "h (generic function with 1 method)"
      ]
     },
     "execution_count": 4,
     "metadata": {},
     "output_type": "execute_result"
    }
   ],
   "source": [
    "function h(n)\n",
    "    s = n*(1+n)/4\n",
    "end"
   ]
  },
  {
   "cell_type": "markdown",
   "metadata": {},
   "source": [
    "將三種方法寫成函數之後，就可以很方便的計算級數了。\n",
    "\n",
    "接下來要介紹計算時間的指令 @time，\n",
    "\n",
    "我們把要測試的函數寫在 @time 的後面。就像底下的例子，@time f(10^2) 代表的就是輸出第一種方法加總級數到第 100 項所需的時間。\n",
    "\n",
    "由下列例子可以看出，當計算的項數不大時，前兩種方法運算時間差不多，公式解最快。"
   ]
  },
  {
   "cell_type": "code",
   "execution_count": 7,
   "metadata": {},
   "outputs": [
    {
     "name": "stdout",
     "output_type": "stream",
     "text": [
      "  0.000025 seconds (4 allocations: 160 bytes)\n",
      "  0.000041 seconds (5 allocations: 176 bytes)\n",
      "  0.000032 seconds (5 allocations: 176 bytes)\n"
     ]
    }
   ],
   "source": [
    "@time f(10^2);\n",
    "@time g(10^2);\n",
    "@time h(10^2);"
   ]
  },
  {
   "cell_type": "markdown",
   "metadata": {},
   "source": [
    "底下的兩個例子告訴我們當級數的項數變大時，可看出逐項加總比較慢。"
   ]
  },
  {
   "cell_type": "code",
   "execution_count": 8,
   "metadata": {},
   "outputs": [
    {
     "name": "stdout",
     "output_type": "stream",
     "text": [
      "  0.002987 seconds (1.93 k allocations: 116.105 KiB)\n",
      "  0.000030 seconds (6 allocations: 192 bytes)\n",
      "  0.000014 seconds (6 allocations: 192 bytes)\n"
     ]
    }
   ],
   "source": [
    "@time f(10^6);\n",
    "@time g(10^6);\n",
    "@time g(10^6);"
   ]
  },
  {
   "cell_type": "code",
   "execution_count": 10,
   "metadata": {},
   "outputs": [
    {
     "name": "stdout",
     "output_type": "stream",
     "text": [
      "  0.000031 seconds (5 allocations: 176 bytes)\n",
      "  0.000032 seconds (6 allocations: 192 bytes)\n",
      "  0.000029 seconds (6 allocations: 192 bytes)\n"
     ]
    }
   ],
   "source": [
    "@time f(10^9);\n",
    "@time g(10^9);\n",
    "@time h(10^9);"
   ]
  },
  {
   "cell_type": "markdown",
   "metadata": {},
   "source": [
    "# Example 2 函數回傳結果\n",
    "\n",
    "接著介紹會回傳結果的函數。和前面一樣，函數 f 是利用 for 迴圈加總， g 是利用內建函數， h 是利用公式解。\n",
    "\n",
    "f, g, h 是函數名稱，\n",
    "inpute n 代表要加總幾項，return s 代表最後回傳的結果。"
   ]
  },
  {
   "cell_type": "code",
   "execution_count": 11,
   "metadata": {},
   "outputs": [
    {
     "data": {
      "text/plain": [
       "f (generic function with 1 method)"
      ]
     },
     "execution_count": 11,
     "metadata": {},
     "output_type": "execute_result"
    }
   ],
   "source": [
    "function f(n)\n",
    "    s = 0.0\n",
    "    for i = 1:n\n",
    "        s = s + i/2\n",
    "    end\n",
    "    return s\n",
    "end"
   ]
  },
  {
   "cell_type": "code",
   "execution_count": 12,
   "metadata": {},
   "outputs": [
    {
     "data": {
      "text/plain": [
       "g (generic function with 1 method)"
      ]
     },
     "execution_count": 12,
     "metadata": {},
     "output_type": "execute_result"
    }
   ],
   "source": [
    "function g(n)\n",
    "    s = sum(1:n)/2.0\n",
    "    return s\n",
    "end"
   ]
  },
  {
   "cell_type": "code",
   "execution_count": 13,
   "metadata": {},
   "outputs": [
    {
     "data": {
      "text/plain": [
       "h (generic function with 1 method)"
      ]
     },
     "execution_count": 13,
     "metadata": {},
     "output_type": "execute_result"
    }
   ],
   "source": [
    "function h(n)\n",
    "    s = n*(1+n)/4\n",
    "    return s\n",
    "end"
   ]
  },
  {
   "cell_type": "markdown",
   "metadata": {},
   "source": [
    "下列是計算級數加總十項的結果，最後輸出 27.5"
   ]
  },
  {
   "cell_type": "code",
   "execution_count": 14,
   "metadata": {},
   "outputs": [
    {
     "data": {
      "text/plain": [
       "3-element Array{Float64,1}:\n",
       " 27.5\n",
       " 27.5\n",
       " 27.5"
      ]
     },
     "execution_count": 14,
     "metadata": {},
     "output_type": "execute_result"
    }
   ],
   "source": [
    "a = [f(10), g(10), h(10)]"
   ]
  },
  {
   "cell_type": "code",
   "execution_count": 16,
   "metadata": {},
   "outputs": [
    {
     "name": "stdout",
     "output_type": "stream",
     "text": [
      "  0.824197 seconds (6 allocations: 192 bytes)\n",
      "  0.000023 seconds (6 allocations: 192 bytes)\n",
      "  0.000028 seconds (6 allocations: 192 bytes)\n"
     ]
    }
   ],
   "source": [
    "@time f(10^9);\n",
    "@time g(10^9);\n",
    "@time h(10^9);"
   ]
  },
  {
   "cell_type": "code",
   "execution_count": 17,
   "metadata": {},
   "outputs": [
    {
     "data": {
      "text/plain": [
       "cp (generic function with 1 method)"
      ]
     },
     "execution_count": 17,
     "metadata": {},
     "output_type": "execute_result"
    }
   ],
   "source": [
    "function cp(n)\n",
    "    tf = 0; tg = 0; th = 0;\n",
    "    for i = 1:n\n",
    "        tf = tf + @time f(10^9); \n",
    "        tg = tg + @time g(10^9); \n",
    "        th = th + @time h(10^9);\n",
    "    end\n",
    "    return [tf/10 tg/10 th/10]\n",
    "end"
   ]
  },
  {
   "cell_type": "code",
   "execution_count": 18,
   "metadata": {},
   "outputs": [
    {
     "name": "stdout",
     "output_type": "stream",
     "text": [
      "  0.813727 seconds\n",
      "  0.000000 seconds\n",
      "  0.000000 seconds\n"
     ]
    },
    {
     "data": {
      "text/plain": [
       "1×3 Array{Float64,2}:\n",
       " 2.5e16  2.5e16  2.5e16"
      ]
     },
     "execution_count": 18,
     "metadata": {},
     "output_type": "execute_result"
    }
   ],
   "source": [
    "cp(1)"
   ]
  },
  {
   "cell_type": "code",
   "execution_count": null,
   "metadata": {},
   "outputs": [],
   "source": []
  }
 ],
 "metadata": {
  "kernelspec": {
   "display_name": "Julia 1.1.0",
   "language": "julia",
   "name": "julia-1.1"
  },
  "language_info": {
   "file_extension": ".jl",
   "mimetype": "application/julia",
   "name": "julia",
   "version": "1.1.0"
  }
 },
 "nbformat": 4,
 "nbformat_minor": 4
}
