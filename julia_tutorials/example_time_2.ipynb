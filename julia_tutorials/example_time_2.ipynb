{
 "cells": [
  {
   "cell_type": "markdown",
   "metadata": {},
   "source": [
    "# Example -- Timming\n",
    "\n",
    "這一節我們要來介紹計算時間的指令，我們要計算級數加總的時間。\n",
    "在這個例子中，我們用兩種方法加總底下這個級數：\n",
    "\n",
    "$$\n",
    "\\sum^{n}_{i=1} \\frac{i}{2}.\n",
    "$$\n",
    "\n",
    "第一個方法是用 for 迴圈，一項一項加起來，第二個方法用內建函數 \"sum\"。"
   ]
  },
  {
   "cell_type": "markdown",
   "metadata": {},
   "source": [
    "首先，我們將上述的兩種方法先寫成函數，函數 f 是利用 for 迴圈加總， g 是利用內建函數。\n",
    "\n",
    "f 是函數名稱，\n",
    "inpute n 代表要加總幾項。output s 代表加總的結果。\n",
    "\n",
    "一開始，因為還沒開始加總，我們先令 s = 0, \n",
    "\n",
    "接著在 for 迴圈中，每次都將原來加總的結果加上 i/2，\n",
    "\n",
    "i 是這個迴圈的計數器，i 從 1 開始數，數到 n。\n",
    "當計數器數到 n，迴圈就會停止，並輸出最後加總的結果 s。"
   ]
  },
  {
   "cell_type": "code",
   "execution_count": 19,
   "metadata": {},
   "outputs": [
    {
     "data": {
      "text/plain": [
       "f (generic function with 1 method)"
      ]
     },
     "execution_count": 19,
     "metadata": {},
     "output_type": "execute_result"
    }
   ],
   "source": [
    "function f(n)\n",
    "    s = 0.0\n",
    "    for i = 1:n\n",
    "        s = s + i/2\n",
    "    end\n",
    "    \n",
    "end"
   ]
  },
  {
   "cell_type": "markdown",
   "metadata": {},
   "source": [
    "函數 g 是利用內建函數 \"sum\" 來計算，原式 $\\sum^{n}_{i=1} \\frac{i}{2}$ 可以改寫成 $\\frac{1}{2} \\sum^{n}_{i=1} i$，\n",
    "\n",
    "因此我們用內建函數 sum 來加總 1 到 n，再將結果除以 2。"
   ]
  },
  {
   "cell_type": "code",
   "execution_count": 7,
   "metadata": {},
   "outputs": [
    {
     "data": {
      "text/plain": [
       "g (generic function with 1 method)"
      ]
     },
     "execution_count": 7,
     "metadata": {},
     "output_type": "execute_result"
    }
   ],
   "source": [
    "function g(n)\n",
    "    s = sum(1:n)/2.0\n",
    "end"
   ]
  },
  {
   "cell_type": "code",
   "execution_count": 4,
   "metadata": {},
   "outputs": [
    {
     "data": {
      "text/plain": [
       "h (generic function with 1 method)"
      ]
     },
     "execution_count": 4,
     "metadata": {},
     "output_type": "execute_result"
    }
   ],
   "source": [
    "function h(n)\n",
    "    s = n*(1+n)/4\n",
    "end"
   ]
  },
  {
   "cell_type": "markdown",
   "metadata": {},
   "source": [
    "將兩種方法寫成函數之後，就可以很方便的計算級數了。\n",
    "\n",
    "接下來要介紹計算時間的指令 @time，\n",
    "\n",
    "我們把要測試的函數寫在 @time 的後面。就像底下的例子，@time f(10^2) 代表的就是輸出第一種方法加總級數到第 100 項所需的時間。\n",
    "\n",
    "由下列例子可以看出，當計算的項數不大時，兩種方法運算時間差不多。"
   ]
  },
  {
   "cell_type": "code",
   "execution_count": 4,
   "metadata": {},
   "outputs": [
    {
     "name": "stdout",
     "output_type": "stream",
     "text": [
      "  0.009400 seconds (24.07 k allocations: 1.329 MiB)\n",
      "  0.009452 seconds (49.45 k allocations: 2.609 MiB)\n"
     ]
    }
   ],
   "source": [
    "@time f(10^2);\n",
    "@time g(10^2);"
   ]
  },
  {
   "cell_type": "markdown",
   "metadata": {},
   "source": [
    "底下的兩個例子告訴我們當級數的項數變大時，使用內建函數可省下不少時間。"
   ]
  },
  {
   "cell_type": "code",
   "execution_count": 3,
   "metadata": {},
   "outputs": [
    {
     "name": "stdout",
     "output_type": "stream",
     "text": [
      "  0.005523 seconds (1.88 k allocations: 115.057 KiB)\n",
      "  0.000046 seconds (6 allocations: 192 bytes)\n"
     ]
    }
   ],
   "source": [
    "@time f(10^6);\n",
    "@time g(10^6);"
   ]
  },
  {
   "cell_type": "code",
   "execution_count": 22,
   "metadata": {},
   "outputs": [
    {
     "name": "stdout",
     "output_type": "stream",
     "text": [
      "  0.000039 seconds (5 allocations: 176 bytes)\n",
      "  0.000150 seconds (6 allocations: 192 bytes)\n",
      "  0.000034 seconds (6 allocations: 192 bytes)\n"
     ]
    }
   ],
   "source": [
    "@time f(10^9);\n",
    "@time g(10^9);\n",
    "@time h(10^9);"
   ]
  },
  {
   "cell_type": "code",
   "execution_count": 15,
   "metadata": {},
   "outputs": [],
   "source": [
    "f(10^9)"
   ]
  },
  {
   "cell_type": "markdown",
   "metadata": {},
   "source": [
    "有 output的時候"
   ]
  }
 ],
 "metadata": {
  "kernelspec": {
   "display_name": "Julia 1.2.0",
   "language": "julia",
   "name": "julia-1.2"
  },
  "language_info": {
   "file_extension": ".jl",
   "mimetype": "application/julia",
   "name": "julia",
   "version": "1.2.0"
  }
 },
 "nbformat": 4,
 "nbformat_minor": 4
}
