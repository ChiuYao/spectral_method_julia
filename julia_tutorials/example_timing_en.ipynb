{
 "cells": [
  {
   "cell_type": "markdown",
   "metadata": {},
   "source": [
    "# Example -- Timing\n",
    "\n",
    "The evaluate the performance of a program, there are four macros that can be used:\n",
    "\n",
    "* `@time`: printing the time it took to execute, the number of allocations, and the total number of bytes its execution caused to be allocated, before returning the value of the expression.\n",
    "* `@timed`: return the value of the expression, elapsed time, total bytes allocated, garbage collection time, and an object with various memory allocation counters.\n",
    "* `@timev`: It first prints the same information as @time, then any non-zero memory allocation counters, and then returns the value of the expression.\n",
    "* `@elapsed`: returning the number of seconds it took to execute as a floating-point number.\n",
    "\n",
    "\n",
    "In the following we will show an example that evaluate the following sum of series with several different methods\n",
    "\n",
    "$$\n",
    "\\sum^{n}_{i=1} \\frac{i}{2}.\n",
    "$$\n",
    "\n",
    "One is for-loop and the other one is to use the built-in function \"sum\"."
   ]
  },
  {
   "cell_type": "markdown",
   "metadata": {},
   "source": [
    "We express two methods as functions.\n",
    "* First, we set sum s to be 0 and i to be the intergers from 1 to n.\n",
    "* Second, in the for loop add the original result to i/2 each time."
   ]
  },
  {
   "cell_type": "code",
   "execution_count": 9,
   "metadata": {},
   "outputs": [
    {
     "data": {
      "text/plain": [
       "f (generic function with 1 method)"
      ]
     },
     "execution_count": 9,
     "metadata": {},
     "output_type": "execute_result"
    }
   ],
   "source": [
    "function f(n)\n",
    "    s = 0\n",
    "    for i = 1:n\n",
    "        s = s + i/2\n",
    "    end\n",
    "    return s\n",
    "end"
   ]
  },
  {
   "cell_type": "code",
   "execution_count": 13,
   "metadata": {},
   "outputs": [
    {
     "name": "stdout",
     "output_type": "stream",
     "text": [
      "  0.786360 seconds (6 allocations: 192 bytes)\n"
     ]
    }
   ],
   "source": [
    "s = @time f(10^9);"
   ]
  },
  {
   "cell_type": "code",
   "execution_count": 14,
   "metadata": {},
   "outputs": [],
   "source": [
    "s = @timed f(10^9);"
   ]
  },
  {
   "cell_type": "code",
   "execution_count": 15,
   "metadata": {},
   "outputs": [
    {
     "data": {
      "text/plain": [
       "(2.500000000335545e17, 0.781932878, 192, 0.0, Base.GC_Diff(192, 0, 0, 6, 0, 0, 0, 0, 0))"
      ]
     },
     "execution_count": 15,
     "metadata": {},
     "output_type": "execute_result"
    }
   ],
   "source": [
    "s"
   ]
  },
  {
   "cell_type": "code",
   "execution_count": 16,
   "metadata": {},
   "outputs": [
    {
     "name": "stdout",
     "output_type": "stream",
     "text": [
      "  0.781995 seconds (6 allocations: 192 bytes)\n",
      "elapsed time (ns): 781994993\n",
      "bytes allocated:   192\n",
      "pool allocs:       6\n"
     ]
    }
   ],
   "source": [
    "s = @timev f(10^9);"
   ]
  },
  {
   "cell_type": "code",
   "execution_count": 17,
   "metadata": {},
   "outputs": [
    {
     "data": {
      "text/plain": [
       "2.500000000335545e17"
      ]
     },
     "execution_count": 17,
     "metadata": {},
     "output_type": "execute_result"
    }
   ],
   "source": [
    "s"
   ]
  },
  {
   "cell_type": "code",
   "execution_count": 18,
   "metadata": {},
   "outputs": [],
   "source": [
    "s = @elapsed f(10^9);"
   ]
  },
  {
   "cell_type": "code",
   "execution_count": 19,
   "metadata": {},
   "outputs": [
    {
     "data": {
      "text/plain": [
       "0.782364729"
      ]
     },
     "execution_count": 19,
     "metadata": {},
     "output_type": "execute_result"
    }
   ],
   "source": [
    "s"
   ]
  },
  {
   "cell_type": "markdown",
   "metadata": {},
   "source": [
    "g is directly using built-in function \"sum\""
   ]
  },
  {
   "cell_type": "code",
   "execution_count": 2,
   "metadata": {},
   "outputs": [
    {
     "data": {
      "text/plain": [
       "g (generic function with 1 method)"
      ]
     },
     "execution_count": 2,
     "metadata": {},
     "output_type": "execute_result"
    }
   ],
   "source": [
    "function g(n)\n",
    "    s = sum(1:n)/2.0\n",
    "end"
   ]
  },
  {
   "cell_type": "markdown",
   "metadata": {},
   "source": [
    "## Example \n",
    "\n",
    "In the following, we will use instruction to calculate time \"@time\". \n",
    "\n",
    "If the number of items is small, for-loop and the built-in function \"sum\" spend almost the same time.\n",
    "\n",
    "If the number of items becomes larger, the built-in function \"sum\" is more efficient."
   ]
  },
  {
   "cell_type": "code",
   "execution_count": 3,
   "metadata": {},
   "outputs": [
    {
     "name": "stdout",
     "output_type": "stream",
     "text": [
      "  0.007421 seconds (16.63 k allocations: 910.947 KiB)\n",
      "  0.009681 seconds (32.60 k allocations: 1.716 MiB)\n"
     ]
    }
   ],
   "source": [
    "@time f(10^2);\n",
    "\n",
    "@time g(10^2);"
   ]
  },
  {
   "cell_type": "code",
   "execution_count": 4,
   "metadata": {},
   "outputs": [
    {
     "name": "stdout",
     "output_type": "stream",
     "text": [
      "  0.003626 seconds (1.94 k allocations: 124.809 KiB)\n",
      "  0.000028 seconds (6 allocations: 192 bytes)\n"
     ]
    }
   ],
   "source": [
    "@time f(10^6);\n",
    "@time g(10^6);"
   ]
  },
  {
   "cell_type": "code",
   "execution_count": 5,
   "metadata": {},
   "outputs": [
    {
     "name": "stdout",
     "output_type": "stream",
     "text": [
      "  0.000050 seconds (5 allocations: 176 bytes)\n",
      "  0.000029 seconds (6 allocations: 192 bytes)\n"
     ]
    }
   ],
   "source": [
    "@time f(10^9);\n",
    "@time g(10^9);"
   ]
  },
  {
   "cell_type": "code",
   "execution_count": null,
   "metadata": {},
   "outputs": [],
   "source": []
  }
 ],
 "metadata": {
  "@webio": {
   "lastCommId": null,
   "lastKernelId": null
  },
  "kernelspec": {
   "display_name": "Julia 1.1.0",
   "language": "julia",
   "name": "julia-1.1"
  },
  "language_info": {
   "file_extension": ".jl",
   "mimetype": "application/julia",
   "name": "julia",
   "version": "1.1.0"
  }
 },
 "nbformat": 4,
 "nbformat_minor": 4
}
