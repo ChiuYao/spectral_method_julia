{
 "cells": [
  {
   "cell_type": "markdown",
   "metadata": {},
   "source": [
    "# EXample -- Timming\n",
    "\n",
    "We use two method to evaluate the series\n",
    "\n",
    "$$\n",
    "\\sum^{n}_{i=1} \\frac{i}{2}.\n",
    "$$\n",
    "\n",
    "One is for-loop and the other one is to use the built-in function \"sum\"."
   ]
  },
  {
   "cell_type": "code",
   "execution_count": 9,
   "metadata": {},
   "outputs": [
    {
     "data": {
      "text/plain": [
       "g (generic function with 1 method)"
      ]
     },
     "execution_count": 9,
     "metadata": {},
     "output_type": "execute_result"
    }
   ],
   "source": [
    "function f(n)\n",
    "    s = 0.0\n",
    "    for i = 1:n\n",
    "        s = s + i/2\n",
    "    end\n",
    "    s\n",
    "end\n",
    "function g(n)\n",
    "    s = sum(1:n)/2.0\n",
    "end"
   ]
  },
  {
   "cell_type": "code",
   "execution_count": 10,
   "metadata": {},
   "outputs": [
    {
     "name": "stdout",
     "output_type": "stream",
     "text": [
      "  0.012308 seconds (15.93 k allocations: 869.528 KiB)\n",
      "  0.008918 seconds (20.25 k allocations: 1.070 MiB)\n"
     ]
    }
   ],
   "source": [
    "@time f(10^2);\n",
    "@time g(10^2);"
   ]
  },
  {
   "cell_type": "code",
   "execution_count": 11,
   "metadata": {},
   "outputs": [
    {
     "name": "stdout",
     "output_type": "stream",
     "text": [
      "  0.001801 seconds (6 allocations: 192 bytes)\n",
      "  0.000040 seconds (6 allocations: 192 bytes)\n"
     ]
    }
   ],
   "source": [
    "@time f(10^6);\n",
    "@time g(10^6);"
   ]
  },
  {
   "cell_type": "code",
   "execution_count": 12,
   "metadata": {},
   "outputs": [
    {
     "name": "stdout",
     "output_type": "stream",
     "text": [
      "  0.943960 seconds (6 allocations: 192 bytes)\n",
      "  0.000020 seconds (6 allocations: 192 bytes)\n"
     ]
    }
   ],
   "source": [
    "@time f(10^9);\n",
    "@time g(10^9);"
   ]
  }
 ],
 "metadata": {
  "kernelspec": {
   "display_name": "Julia 1.1.0",
   "language": "julia",
   "name": "julia-1.1"
  },
  "language_info": {
   "file_extension": ".jl",
   "mimetype": "application/julia",
   "name": "julia",
   "version": "1.1.0"
  }
 },
 "nbformat": 4,
 "nbformat_minor": 4
}
