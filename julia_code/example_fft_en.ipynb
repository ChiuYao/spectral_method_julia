{
 "cells": [
  {
   "cell_type": "markdown",
   "metadata": {},
   "source": [
    "# FFTW and FFTs\n",
    "\n",
    "Here we introduce the package FFTW, that can be used to perform the fast Fourier transforms (FFT) in julia."
   ]
  },
  {
   "cell_type": "code",
   "execution_count": 1,
   "metadata": {},
   "outputs": [],
   "source": [
    "using FFTW\n",
    "using LinearAlgebra\n",
    "using Plots\n",
    "using BenchmarkTools"
   ]
  },
  {
   "cell_type": "markdown",
   "metadata": {},
   "source": [
    "## Section 1 - Input of FFT\n",
    "\n",
    "### Section 1.1 - One-dimensional FFT\n",
    "\n",
    "Fourier transform converts a real- and complex-valued arrays of arbitrary size into Fourier coefficients. \n",
    "\n",
    "In below, we show that the results are the same whether the input is a row vector or a column vector."
   ]
  },
  {
   "cell_type": "code",
   "execution_count": 2,
   "metadata": {
    "scrolled": true
   },
   "outputs": [
    {
     "data": {
      "text/plain": [
       "4-element Array{Complex{Float64},1}:\n",
       "  4.0 + 0.0im\n",
       " -2.0 + 0.0im\n",
       "  0.0 + 0.0im\n",
       " -2.0 + 0.0im"
      ]
     },
     "execution_count": 2,
     "metadata": {},
     "output_type": "execute_result"
    }
   ],
   "source": [
    "fft([0; 1; 2; 1])"
   ]
  },
  {
   "cell_type": "code",
   "execution_count": 3,
   "metadata": {},
   "outputs": [
    {
     "data": {
      "text/plain": [
       "4-element Array{Complex{Float64},1}:\n",
       "  4.0 + 0.0im\n",
       " -2.0 + 0.0im\n",
       "  0.0 + 0.0im\n",
       " -2.0 + 0.0im"
      ]
     },
     "execution_count": 3,
     "metadata": {},
     "output_type": "execute_result"
    }
   ],
   "source": [
    "fft([0, 1, 2, 1])"
   ]
  },
  {
   "cell_type": "markdown",
   "metadata": {},
   "source": [
    "### Section 1.2 - Two-dimensional FFT\n",
    "\n",
    "In the following example, we perform FFT on a 4*4 matrix. \n",
    "\n",
    "* It's worth to notice that, if you write a 4*4 matrix in julia you should input like \" [0 1 2 1;1 2 3 5;2 3 6 9;1 8 6 9] \", this expression method is different with what we write in matlab.\n",
    "\n",
    "```diff\n",
    "- TS: I don't quite get it, I thought its the same as in Matlab?\n",
    "```"
   ]
  },
  {
   "cell_type": "code",
   "execution_count": 4,
   "metadata": {},
   "outputs": [
    {
     "data": {
      "text/plain": [
       "4×4 Array{Complex{Float64},2}:\n",
       "  59.0+0.0im   -13.0+10.0im  -17.0+0.0im  -13.0-10.0im\n",
       " -16.0+13.0im    4.0-9.0im     4.0-7.0im    0.0+3.0im \n",
       " -11.0+0.0im     1.0+2.0im     9.0+0.0im    1.0-2.0im \n",
       " -16.0-13.0im    0.0-3.0im     4.0+7.0im    4.0+9.0im "
      ]
     },
     "execution_count": 4,
     "metadata": {},
     "output_type": "execute_result"
    }
   ],
   "source": [
    "fft([0 1 2 1;1 2 3 5;2 3 6 9;1 8 6 9])"
   ]
  },
  {
   "cell_type": "markdown",
   "metadata": {},
   "source": [
    "## Section 2 - Operation time of FFT\n",
    "\n",
    "The following two examples tell us that fast Fourier transforms (ffts) is efficient. \n",
    "* We can discover that the first time we do Fourier transform cost more time than others, this is because of that fft will always copy a real input array to complex array first before performing the transform."
   ]
  },
  {
   "cell_type": "code",
   "execution_count": 5,
   "metadata": {},
   "outputs": [
    {
     "data": {
      "text/plain": [
       "BenchmarkTools.Trial: \n",
       "  memory estimate:  4.00 MiB\n",
       "  allocs estimate:  54\n",
       "  --------------\n",
       "  minimum time:     24.919 ms (0.00% GC)\n",
       "  median time:      32.154 ms (0.00% GC)\n",
       "  mean time:        37.039 ms (3.32% GC)\n",
       "  maximum time:     138.732 ms (70.35% GC)\n",
       "  --------------\n",
       "  samples:          137\n",
       "  evals/sample:     1"
      ]
     },
     "execution_count": 5,
     "metadata": {},
     "output_type": "execute_result"
    }
   ],
   "source": [
    "x = randn(2^17-1)\n",
    "@benchmark y = fft(x)"
   ]
  },
  {
   "cell_type": "markdown",
   "metadata": {},
   "source": [
    "* From the following example, we can obviously discover that FFT of data with even number in size is more efficient than odd number."
   ]
  },
  {
   "cell_type": "code",
   "execution_count": 6,
   "metadata": {},
   "outputs": [
    {
     "data": {
      "text/plain": [
       "BenchmarkTools.Trial: \n",
       "  memory estimate:  4.00 MiB\n",
       "  allocs estimate:  54\n",
       "  --------------\n",
       "  minimum time:     3.101 ms (0.00% GC)\n",
       "  median time:      3.798 ms (0.00% GC)\n",
       "  mean time:        5.463 ms (9.81% GC)\n",
       "  maximum time:     115.398 ms (95.57% GC)\n",
       "  --------------\n",
       "  samples:          911\n",
       "  evals/sample:     1"
      ]
     },
     "execution_count": 6,
     "metadata": {},
     "output_type": "execute_result"
    }
   ],
   "source": [
    "x = randn(2^17)\n",
    "@benchmark y = fft(x)"
   ]
  },
  {
   "cell_type": "markdown",
   "metadata": {},
   "source": [
    "## Section 3 - Accuracy of FFT\n",
    "\n",
    "Now we want to test the accuracy of fft and ifft.\n",
    "* First, we store what we want to transform into a. \n",
    "* Second, we use norm to measure the error between ifft(fft(a)) and a. \n",
    "\n",
    "If we get small error, it represent that fft and ifft are very accurate to convert function values into Fourier coefficients."
   ]
  },
  {
   "cell_type": "markdown",
   "metadata": {},
   "source": [
    "## norm(A,p)\n",
    "\n",
    "For any A that including arrays of any dimension, compute the p-norm (defaulting to p=2) as if A were a vector of the corresponding length.\n",
    "\n",
    "p-norm : $∥A∥_p=(\\sum_{i=1}^{n}|a_i|^p)^{1/p} $\n",
    "* n represent the length of A\n",
    "* Since the p-norm is computed using the norms of the entries of A, the p-norm of a vector of vectors is not compatible with the interpretation of it as a block vector in general if p != 2.\n",
    "* Specially:\n",
    "#####  norm(A, Inf) returns the largest value in abs.(A)\n",
    "#####  norm(A, -Inf) returns the smallest value in abs.(A)\n",
    "#####  If A is a matrix and p=2, then this is equivalent to the Frobenius norm\n",
    "\n",
    "But actually, p is not necessary part for norm, we usually implement norm(A) without second argument."
   ]
  },
  {
   "cell_type": "code",
   "execution_count": 7,
   "metadata": {
    "scrolled": true
   },
   "outputs": [
    {
     "data": {
      "text/plain": [
       "2.9373740229761033e-16"
      ]
     },
     "execution_count": 7,
     "metadata": {},
     "output_type": "execute_result"
    }
   ],
   "source": [
    "a = rand(8) + im*rand(8);\n",
    "norm(ifft(fft(a)) - a)"
   ]
  },
  {
   "cell_type": "code",
   "execution_count": 8,
   "metadata": {},
   "outputs": [
    {
     "data": {
      "text/plain": [
       "1.0429598422709816e-15"
      ]
     },
     "execution_count": 8,
     "metadata": {},
     "output_type": "execute_result"
    }
   ],
   "source": [
    "a = rand(2^17) + im*rand(2^17);\n",
    "norm(ifft(fft(a)) - a, Inf)"
   ]
  },
  {
   "cell_type": "code",
   "execution_count": 9,
   "metadata": {},
   "outputs": [
    {
     "data": {
      "text/plain": [
       "7.578212884891208e-11"
      ]
     },
     "execution_count": 9,
     "metadata": {},
     "output_type": "execute_result"
    }
   ],
   "source": [
    "a = rand(2^17-1) + im*rand(2^17-1);\n",
    "norm(ifft(fft(a)) - a, 1)"
   ]
  }
 ],
 "metadata": {
  "@webio": {
   "lastCommId": null,
   "lastKernelId": null
  },
  "kernelspec": {
   "display_name": "Julia 1.1.0",
   "language": "julia",
   "name": "julia-1.1"
  },
  "language_info": {
   "file_extension": ".jl",
   "mimetype": "application/julia",
   "name": "julia",
   "version": "1.1.0"
  }
 },
 "nbformat": 4,
 "nbformat_minor": 4
}
