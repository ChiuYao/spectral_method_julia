{
 "cells": [
  {
   "cell_type": "markdown",
   "metadata": {},
   "source": [
    "## FFTW\n",
    "\n",
    "Now we introduce about the package FFTW, this package provides Julia using the software in the FFTW library to do fast Fourier transforms (ffts), what we will mention below."
   ]
  },
  {
   "cell_type": "code",
   "execution_count": null,
   "metadata": {},
   "outputs": [],
   "source": [
    "using FFTW\n",
    "using LinearAlgebra\n",
    "using Plots"
   ]
  },
  {
   "cell_type": "markdown",
   "metadata": {},
   "source": [
    "## fft's input method \n",
    "\n",
    "Fourier transform converts a real and complex-valued arrays of arbitrary size into fourier coefficient. In the below, we inputs an array that formed by function, we can know that if the data is one-dimension, input the row vector or column vector, the result is same."
   ]
  },
  {
   "cell_type": "code",
   "execution_count": null,
   "metadata": {
    "scrolled": true
   },
   "outputs": [],
   "source": [
    "fft([0; 1; 2; 1])"
   ]
  },
  {
   "cell_type": "code",
   "execution_count": null,
   "metadata": {},
   "outputs": [],
   "source": [
    "fft([0, 1, 2, 1])"
   ]
  },
  {
   "cell_type": "markdown",
   "metadata": {},
   "source": [
    "> need to explain what's the meaning of the following"
   ]
  },
  {
   "cell_type": "code",
   "execution_count": null,
   "metadata": {},
   "outputs": [],
   "source": [
    "fft([0 1 2 1;1 2 3 5;2 3 6 9;1 8 6 9])"
   ]
  },
  {
   "cell_type": "markdown",
   "metadata": {},
   "source": [
    "## fft's operation time\n",
    "\n",
    "The following two examples tell us that fast Fourier transforms (ffts) is efficient. \n",
    "* We can discover that the first time we do Fourier transform cost more time than others, this is because of that fft will always copy a real input array to complex array first before performing the transform.\n",
    "* And notice that if we use @time to calculate time, it need to do more times to get the average."
   ]
  },
  {
   "cell_type": "code",
   "execution_count": null,
   "metadata": {},
   "outputs": [],
   "source": [
    "x = randn(92993)\n",
    "@time y = fft(x);\n",
    "x = randn(92993)\n",
    "@time y = fft(x);\n",
    "x = randn(92993)\n",
    "@time y = fft(x);\n",
    "x = randn(92993)\n",
    "@time y = fft(x);"
   ]
  },
  {
   "cell_type": "markdown",
   "metadata": {},
   "source": [
    "* From the following two examples, we can obviously discover that even number do Fourier transform is more efficient than odd number."
   ]
  },
  {
   "cell_type": "code",
   "execution_count": null,
   "metadata": {},
   "outputs": [],
   "source": [
    "x = randn(2^17)\n",
    "@time y = fft(x);\n",
    "x = randn(2^17)\n",
    "@time y = fft(x);\n",
    "x = randn(2^17)\n",
    "@time y = fft(x);\n",
    "x = randn(2^17)\n",
    "@time y = fft(x);"
   ]
  },
  {
   "cell_type": "code",
   "execution_count": null,
   "metadata": {},
   "outputs": [],
   "source": [
    "x = randn(2^17-1)\n",
    "@time y = fft(x);\n",
    "x = randn(2^17-1)\n",
    "@time y = fft(x);\n",
    "x = randn(2^17-1)\n",
    "@time y = fft(x);"
   ]
  },
  {
   "cell_type": "markdown",
   "metadata": {},
   "source": [
    "## fft's accuracy\n",
    "\n",
    "Now we want to test the accuracy of fft and ifft.\n",
    "* First, we store what we want to transform into a. \n",
    "* Second, we use norm to measure the error between ifft(fft(a)) and a. \n",
    "\n",
    "If we get small error, it's represent that fft and ifft are very accurate to convert function values into Fourier coefficients.\n",
    "\n",
    "> need to explain the definition of \"norm\""
   ]
  },
  {
   "cell_type": "code",
   "execution_count": null,
   "metadata": {
    "scrolled": true
   },
   "outputs": [],
   "source": [
    "a = rand(8) + im*rand(8);\n",
    "norm(ifft(fft(a)) - a)"
   ]
  },
  {
   "cell_type": "code",
   "execution_count": null,
   "metadata": {},
   "outputs": [],
   "source": [
    "a = rand(2^17) + im*rand(2^17);\n",
    "norm(ifft(fft(a)) - a)"
   ]
  },
  {
   "cell_type": "code",
   "execution_count": null,
   "metadata": {},
   "outputs": [],
   "source": [
    "a = rand(2^17-1) + im*rand(2^17-1);\n",
    "norm(ifft(fft(a)) - a)"
   ]
  },
  {
   "cell_type": "markdown",
   "metadata": {},
   "source": [
    "## example\n",
    "\n",
    "Now we use $y = \\sin(x)$ and $y = \\cos(x)$ to see the operation of fft. \n",
    "* Because $y = \\sin(x)$ and $y = \\cos(x)$ is periodic function so the range is from 0 to $2\\pi$\n",
    "* We choose N+1 points between 0 to $2\\pi$ so x = range(0,stop=2*pi,length=N+1), but since that $\\sin(0)$ and $\\sin(2\\pi)$ are same so x = x[1:N]"
   ]
  },
  {
   "cell_type": "code",
   "execution_count": null,
   "metadata": {
    "scrolled": true
   },
   "outputs": [],
   "source": [
    "N = 100;\n",
    "x = range(0,stop=2*pi,length=N+1);\n",
    "x = x[1:N];\n",
    "k = [0:N/2, -N/2+1:-1]"
   ]
  },
  {
   "cell_type": "markdown",
   "metadata": {},
   "source": [
    "Now we want to get Fourier coefficient of $y = \\sin(x)$.\n",
    "* First, because x is an array so we use fs = sin.(x), then we store the value in fs.\n",
    "* Second, we do Fourier transform and store it in fs_hat.\n",
    "* Third, we plot the imaginary part of the results after transforming. \n",
    "\n",
    "Since that, by Euler's function $\\sin(\\theta) = \\frac{e^{i\\theta} - e^{-i\\theta}}{2i} = \\frac{1}{2i}(e^{i\\theta} - e^{-i\\theta})$\n",
    "\n",
    "and we get Fourier's coefficient by discrete Fourier transform so \n",
    "$$\\hat{fs}_1 =\\frac{1}{i}50, \\quad \\hat{fs}_{-1} = \\frac{1}{i}(-50)$$\n",
    "\n",
    "> so what is the arrangement of the Fourier modes? It's not obvious. "
   ]
  },
  {
   "cell_type": "code",
   "execution_count": null,
   "metadata": {},
   "outputs": [],
   "source": [
    "fs = sin.(x);\n",
    "fs_hat = fft(fs);\n",
    "plot(imag(fs_hat))"
   ]
  },
  {
   "cell_type": "markdown",
   "metadata": {},
   "source": [
    "Since that, by Euler's function $\\cos(\\theta) = \\frac{e^{i\\theta} + e^{-i\\theta}}{2} = \\frac{1}{2}(e^{i\\theta} + e^{-i\\theta})$\n",
    "\n",
    "and we get Fourier's coefficient by discrete Fourier transform so \n",
    "$$\\hat{fs}_1 = 50, \\quad \\hat{fs}_{-1} = 50$$"
   ]
  },
  {
   "cell_type": "code",
   "execution_count": null,
   "metadata": {
    "scrolled": true
   },
   "outputs": [],
   "source": [
    "fc = cos.(x);\n",
    "fc_hat = fft(fc);\n",
    "plot(real(fc_hat))"
   ]
  },
  {
   "cell_type": "code",
   "execution_count": null,
   "metadata": {},
   "outputs": [],
   "source": [
    "N=1000;\n",
    "x = range(0,stop=2*pi,length=N+1);\n",
    "x = x[1:N];\n",
    "k = [0:N/2, -N/2+1:-1]"
   ]
  },
  {
   "cell_type": "markdown",
   "metadata": {},
   "source": [
    "Since that, by Euler's function \n",
    "* $\\sin(\\theta) = \\frac{e^{i\\theta} - e^{-i\\theta}}{2i} = \\frac{1}{2i}(e^{i\\theta} - e^{-i\\theta})$\n",
    "* $\\sin(100\\theta) = \\frac{e^{i100\\theta} - e^{-i100\\theta}}{2i} = \\frac{1}{2i}(e^{i100\\theta} - e^{-i100\\theta})$                                \n",
    "\n",
    "and we get Fourier's coefficient by discrete Fourier transform so \n",
    "* $$\\hat{fs}_1 =\\frac{1}{i}50, \\quad \\hat{fs}_{-1} = \\frac{1}{i}(-50)$$\n",
    "* $$\\hat{fs}_{100} =\\frac{1}{i}50, \\quad \\hat{fs}_{-100} = \\frac{1}{i}(-50)$$"
   ]
  },
  {
   "cell_type": "code",
   "execution_count": null,
   "metadata": {},
   "outputs": [],
   "source": [
    "fw = sin.(x)+sin.(100*x);\n",
    "fw_hat = fft(fw);\n",
    "plot(fw)"
   ]
  },
  {
   "cell_type": "code",
   "execution_count": null,
   "metadata": {},
   "outputs": [],
   "source": [
    "plot(imag(fw_hat))"
   ]
  },
  {
   "cell_type": "markdown",
   "metadata": {},
   "source": [
    "## Aliasing "
   ]
  },
  {
   "cell_type": "markdown",
   "metadata": {},
   "source": [
    "From the below diagram, we could find out that there only have two fourier coefficients, but theroticallly there must have four fourier coefficients."
   ]
  },
  {
   "cell_type": "code",
   "execution_count": null,
   "metadata": {
    "scrolled": true
   },
   "outputs": [],
   "source": [
    "N=8;\n",
    "x = range(0,stop=2*pi,length=N+1);\n",
    "x = x[1:N];\n",
    "fh=sin.(x)+sin.(9*x);\n",
    "fh_hat=fft(fh);\n",
    "plot(imag(fh_hat))"
   ]
  },
  {
   "cell_type": "markdown",
   "metadata": {},
   "source": [
    "In the below, we set N=8, and plot both sinx and sin(9*x), we can discover that the diagram are same, so we know that the diagram of sin(9*x) has some mistake."
   ]
  },
  {
   "cell_type": "code",
   "execution_count": null,
   "metadata": {},
   "outputs": [],
   "source": [
    "N=8;\n",
    "x = range(0,stop=2*pi,length=N+1);\n",
    "x = x[1:N];\n",
    "fh=sin.(x)\n",
    "plot(fh)"
   ]
  },
  {
   "cell_type": "code",
   "execution_count": null,
   "metadata": {
    "scrolled": true
   },
   "outputs": [],
   "source": [
    "N=8;\n",
    "x = range(0,stop=2*pi,length=N+1);\n",
    "x = x[1:N];\n",
    "fh=sin.(9*x)\n",
    "plot(fh)"
   ]
  },
  {
   "cell_type": "markdown",
   "metadata": {},
   "source": [
    "From the below, we can conclude that if we select large enough N, we can obtain the correct diagrm of sin(9*x)."
   ]
  },
  {
   "cell_type": "code",
   "execution_count": null,
   "metadata": {},
   "outputs": [],
   "source": [
    "N=1000;\n",
    "x = range(0,stop=2*pi,length=N+1);\n",
    "x = x[1:N];\n",
    "fh=sin.(9*x)\n",
    "plot(fh)"
   ]
  },
  {
   "cell_type": "markdown",
   "metadata": {},
   "source": [
    "So, we can also conclude that, if we choose too small \"N\", we cant get the correct diagram of sin(9*x).\n",
    "\n",
    "e.g. When we choose N=8, the diagram of sinx and sin(9*x) are same."
   ]
  },
  {
   "cell_type": "code",
   "execution_count": null,
   "metadata": {},
   "outputs": [],
   "source": [
    "N=8;\n",
    "x = range(0,stop=2*pi,length=N+1);\n",
    "f=sin.(x);\n",
    "u=plot(x,f,marker=:circle,label=\"sin(x)\");\n",
    "NN=1000;\n",
    "xx = range(0,stop=2*pi,length=NN+1);\n",
    "fh=sin.(9*xx);\n",
    "plot!(u,xx,fh,label=\"sin(9x)\")"
   ]
  },
  {
   "cell_type": "markdown",
   "metadata": {},
   "source": [
    "## Zero-padding \n",
    "The definition of zero-padding is adding zeros to end of a time-domain signal to increase the length.\n",
    "\n",
    "Using zero-padding has some reason:\n",
    "* If there is a power-of-two number of samples(that is, if the time-domain length of waveform is power of two), this can lead to speeding up the processing time."
   ]
  },
  {
   "cell_type": "markdown",
   "metadata": {},
   "source": [
    "## Example 1\n",
    "Now we want to find fourier coefficients of sin(3x)^2 through sin(3x).\n",
    "\n",
    "According to the above example we know that, by Euler's function $\\sin(3\\theta) = \\frac{e^{i3\\theta} - e^{-i3\\theta}}{2i} = \\frac{1}{2i}(e^{i3\\theta} - e^{-i3\\theta})$ , then we get Fourier's coefficients by discrete Fourier transform  $\\hat{fs}_3 =\\frac{1}{i}4$, $\\hat{fs}_{-3} = \\frac{1}{i}(-4)$.\n",
    "\n",
    "And when we set the number of grids N=8, then the wave number k=-3,-2,-1,0,1,2,3,4 , so it's enough. "
   ]
  },
  {
   "cell_type": "code",
   "execution_count": null,
   "metadata": {},
   "outputs": [],
   "source": [
    "N=8;\n",
    "x = range(0,stop=2*pi,length=N+1);\n",
    "x = x[1:N];\n",
    "fd=sin.(3*x);\n",
    "fd_hat=fft(fd);\n",
    "plot(imag(fd_hat),label=\"Fourier coefficient of sin(3x)\")"
   ]
  },
  {
   "cell_type": "markdown",
   "metadata": {},
   "source": [
    "## Example 2\n",
    "In the following we try to find the coefficients of $f(x)=\\sin(3x)^2$, we still set the number of grids N=8, then the wave number k=-3,-2,-1,0,1,2,3,4 , and the result is wrong so we know that it's not enough."
   ]
  },
  {
   "cell_type": "code",
   "execution_count": null,
   "metadata": {},
   "outputs": [],
   "source": [
    "N=8;\n",
    "x = range(0,stop=2*pi,length=N+1);\n",
    "x = x[1:N];\n",
    "fk=(sin.(3*x)).^2;\n",
    "fk_hat=fft(fk);\n",
    "plot(real(fk_hat),label=\"Fourier coefficient of sin(3x)^2\")"
   ]
  },
  {
   "cell_type": "markdown",
   "metadata": {},
   "source": [
    "We translate $f(x)=\\sin(3x)^2$ into $\\frac{1-\\cos(6x)}{2} $, according to the above example we will find $\\hat{fs}_0$, $\\hat{fs}_6$ $\\hat{fs}_{-6}$. \n",
    "\n",
    "So we should set N=16, then k=-7,-6,-5,-4,-3,-2,-1,0,1,2,3,4,5,6,7,8. "
   ]
  },
  {
   "cell_type": "code",
   "execution_count": null,
   "metadata": {},
   "outputs": [],
   "source": [
    "N=16;\n",
    "x = range(0,stop=2*pi,length=N+1);\n",
    "x = x[1:N];\n",
    "fs=(sin.(3*x)).^2;\n",
    "fs_hat=fft(fs);\n",
    "plot(real(fs_hat),label=\"Fourier coefficient of sin(3x)^2\")"
   ]
  },
  {
   "cell_type": "markdown",
   "metadata": {},
   "source": [
    "## Conclusion\n",
    "If we want to using the fourier coefficients of sin(3x) to find the fourier coefficients of sin(3x)^2, we can follow the following step:\n",
    "* First we we do zero-padding, we add some fourier coefficients that equal to zero into the original fourier coefficients.\n",
    "  \n",
    "  e.g. According to the above examples, when it comes to sin(3x), we can find $\\hat{fs}_3$  $\\hat{fs}_{-3}$, so when we set N=8. But if it \n",
    "  comes to $f(x)=\\sin(3x)^2$, we can find $\\hat{fs}_0$ $\\hat{fs}_6$ $\\hat{fs}_{-6}$, we need to set N=16.\n",
    "  \n",
    "  So we need to add some fourier coefficients that equal to zero into the original fourier coefficients, that is $\\hat{f}_0, \\hat{f}_1, \n",
    "  \\hat{f}_2, \\hat{f}_3, \\hat{f}_4, (\\hat{f}_5, \\hat{f}_6, \\hat{f}_7, \\hat{f}_8, \\hat{f}_{-7}, \\hat{f}_{-6}, \\hat{f}_{-5}, \\hat{f}_{-4}), \n",
    "  \\hat{f}_{-3}, \\hat{f}_{-2}, \\hat{f}_{-1}$\n",
    "  \n",
    "  \n",
    "* Second, we do ifft.\n",
    "   \n",
    "   e.g. Then we transform the new fourier coefficients to sin(3x). And square the fuction.\n",
    "   \n",
    "* Third, we do fft to find the fourier coefficient of sin(3*x)^2"
   ]
  },
  {
   "cell_type": "code",
   "execution_count": null,
   "metadata": {},
   "outputs": [],
   "source": [
    "N=8;\n",
    "x = range(0,stop=2*pi,length=N+1);\n",
    "x = x[1:N];\n",
    "f = sin.(3*x);\n",
    "f_hat = fft(f)\n",
    "\n",
    "b = append!(f_hat[1:8], zeros(8)+zeros(8)*im);\n",
    "c = append!(f_hat[1:5],zeros(8));\n",
    "d = append!(c,f_hat[6:8])\n",
    "\n",
    "fs = ifft(d);\n",
    "g = fs.^2;\n",
    "\n",
    "g_hat = fft(g)\n",
    "plot(real(g_hat),label=\"Fourier coefficient of sin(3x)^2\")"
   ]
  },
  {
   "cell_type": "code",
   "execution_count": null,
   "metadata": {},
   "outputs": [],
   "source": [
    "N=8;\n",
    "x = range(0,stop=2*pi,length=N+1);\n",
    "x = x[1:N];\n",
    "f = sin.(3*x);\n",
    "f_hat = fft(f)\n",
    "\n",
    "b = append!(f_hat[1:8], zeros(8)+zeros(8)*im);\n",
    "c = append!(f_hat[1:5],zeros(8));\n",
    "d = append!(c,f_hat[6:8])\n"
   ]
  },
  {
   "cell_type": "code",
   "execution_count": null,
   "metadata": {},
   "outputs": [],
   "source": []
  }
 ],
 "metadata": {
  "kernelspec": {
   "display_name": "Julia 1.1.0",
   "language": "julia",
   "name": "julia-1.1"
  },
  "language_info": {
   "file_extension": ".jl",
   "mimetype": "application/julia",
   "name": "julia",
   "version": "1.1.0"
  }
 },
 "nbformat": 4,
 "nbformat_minor": 4
}
