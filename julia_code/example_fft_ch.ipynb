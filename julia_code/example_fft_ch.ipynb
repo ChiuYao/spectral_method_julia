{
 "cells": [
  {
   "cell_type": "markdown",
   "metadata": {},
   "source": [
    "# FFTW and FFTs\n",
    "\n",
    "這一節，我們介紹如何使用 package FFTW。"
   ]
  },
  {
   "cell_type": "code",
   "execution_count": 1,
   "metadata": {},
   "outputs": [],
   "source": [
    "using FFTW\n",
    "using LinearAlgebra\n",
    "using Plots\n",
    "using BenchmarkTools"
   ]
  },
  {
   "cell_type": "markdown",
   "metadata": {},
   "source": [
    "## Section 1 - Fast Fourier Transform(fft) 的輸入方式\n",
    "fft 是一個將函數值轉成傅立葉係數的指令，因此，我們在 fft() 的括號裡放入函數值所形成的向量。"
   ]
  },
  {
   "cell_type": "markdown",
   "metadata": {},
   "source": [
    "### Section 1.1 - 1D fft\n",
    "\n",
    "當資料是一維的時候輸入行向量或列向量，結果是一樣的。如以下兩個例子："
   ]
  },
  {
   "cell_type": "code",
   "execution_count": 2,
   "metadata": {},
   "outputs": [
    {
     "data": {
      "text/plain": [
       "4-element Array{Complex{Float64},1}:\n",
       "  4.0 + 0.0im\n",
       " -2.0 + 0.0im\n",
       "  0.0 + 0.0im\n",
       " -2.0 + 0.0im"
      ]
     },
     "execution_count": 2,
     "metadata": {},
     "output_type": "execute_result"
    }
   ],
   "source": [
    "fft([0; 1; 2; 1])"
   ]
  },
  {
   "cell_type": "code",
   "execution_count": 3,
   "metadata": {},
   "outputs": [
    {
     "data": {
      "text/plain": [
       "4-element Array{Complex{Float64},1}:\n",
       "  4.0 + 0.0im\n",
       " -2.0 + 0.0im\n",
       "  0.0 + 0.0im\n",
       " -2.0 + 0.0im"
      ]
     },
     "execution_count": 3,
     "metadata": {},
     "output_type": "execute_result"
    }
   ],
   "source": [
    "fft([0, 1, 2, 1])"
   ]
  },
  {
   "cell_type": "markdown",
   "metadata": {},
   "source": [
    "### Section 1.2 - 2D fft\n",
    "\n",
    "當資料是個矩陣時，julia 中的 fft 則是對這矩陣做二維的 fft。\n",
    "\n",
    "**注意：** Matlab 中對矩陣做二維 fft 的指令是 fft2。\n",
    "\n",
    "如以下例子："
   ]
  },
  {
   "cell_type": "code",
   "execution_count": 4,
   "metadata": {},
   "outputs": [
    {
     "data": {
      "text/plain": [
       "4×4 Array{Int64,2}:\n",
       " 0  0  0  0\n",
       " 1  1  1  1\n",
       " 2  2  2  2\n",
       " 1  1  1  1"
      ]
     },
     "execution_count": 4,
     "metadata": {},
     "output_type": "execute_result"
    }
   ],
   "source": [
    "A=[0 0 0 0; 1 1 1 1; 2 2 2 2; 1 1 1 1]"
   ]
  },
  {
   "cell_type": "code",
   "execution_count": 5,
   "metadata": {},
   "outputs": [
    {
     "data": {
      "text/plain": [
       "4×4 Array{Complex{Float64},2}:\n",
       " 16.0+0.0im  0.0+0.0im  0.0+0.0im  0.0+0.0im\n",
       " -8.0+0.0im  0.0+0.0im  0.0+0.0im  0.0+0.0im\n",
       "  0.0+0.0im  0.0+0.0im  0.0+0.0im  0.0+0.0im\n",
       " -8.0+0.0im  0.0+0.0im  0.0+0.0im  0.0+0.0im"
      ]
     },
     "execution_count": 5,
     "metadata": {},
     "output_type": "execute_result"
    }
   ],
   "source": [
    "fft(A)"
   ]
  },
  {
   "cell_type": "markdown",
   "metadata": {},
   "source": [
    "從結果可以看出 Julia 的 fft 指令做矩陣的傅立葉轉換時，是先做行向量，並將結果依照行向量儲存在該行。全部做完一次之後再做列向量，再將該列的結果儲存在該列。 \n",
    "\n",
    "我們把步驟拆解開來看，\n",
    "\n",
    "1. 上例中，先做 fft([0;1;2;1]) = [4;-2;0;-2]。矩陣中四行都做完會得到"
   ]
  },
  {
   "cell_type": "code",
   "execution_count": 6,
   "metadata": {},
   "outputs": [
    {
     "data": {
      "text/plain": [
       "4×4 Array{Int64,2}:\n",
       "  4   4   4   4\n",
       " -2  -2  -2  -2\n",
       "  0   0   0   0\n",
       " -2  -2  -2  -2"
      ]
     },
     "execution_count": 6,
     "metadata": {},
     "output_type": "execute_result"
    }
   ],
   "source": [
    "[4 4 4 4; -2 -2 -2 -2; 0 0 0 0; -2 -2 -2 -2]"
   ]
  },
  {
   "cell_type": "markdown",
   "metadata": {},
   "source": [
    "2. 接下來再做列向量。由於現在每一列都是常數函數，所以我們可以預期它的結果只有在第一個傅立葉係數有值，其他為 0。(第一個傅立葉係數 $\\hat{f}_0$ 儲存的是函數常數的部分，也就是 $e^0$ 的係數)。底下是 f(x) = 4 的傅立葉轉換結果，結果是 $4 \\times N$，$N$ 是取點的各數，在這裡是取樣 4 個點 (細節在稍後的小節中會提到)。其他列的計算結果雷同，fft([-2 -2 -2 -2]) = [-8 0 0 0], fft([0 0 0 0]) = [0 0 0 0]。"
   ]
  },
  {
   "cell_type": "code",
   "execution_count": 7,
   "metadata": {},
   "outputs": [
    {
     "data": {
      "text/plain": [
       "1×4 Array{Complex{Float64},2}:\n",
       " 16.0+0.0im  0.0+0.0im  0.0+0.0im  0.0+0.0im"
      ]
     },
     "execution_count": 7,
     "metadata": {},
     "output_type": "execute_result"
    }
   ],
   "source": [
    "fft([4 4 4 4])"
   ]
  },
  {
   "cell_type": "markdown",
   "metadata": {},
   "source": [
    "把每一列的結果按照每一列的順序排好就會得到"
   ]
  },
  {
   "cell_type": "code",
   "execution_count": 8,
   "metadata": {},
   "outputs": [
    {
     "data": {
      "text/plain": [
       "4×4 Array{Int64,2}:\n",
       " 16  0  0  0\n",
       " -8  0  0  0\n",
       "  0  0  0  0\n",
       " -8  0  0  0"
      ]
     },
     "execution_count": 8,
     "metadata": {},
     "output_type": "execute_result"
    }
   ],
   "source": [
    "[16 0 0 0; -8 0 0 0; 0 0 0 0; -8 0 0 0]"
   ]
  },
  {
   "cell_type": "markdown",
   "metadata": {},
   "source": [
    "## Section 2 - FFT 的運算時間與運算量\n",
    "\n",
    "下列的兩個例子告訴我們，fft 這個內建的函數運算速度很快，將一個 (2^17)*1 的向量轉成傅立葉係數不會超過 0.2 秒。\n",
    "\n",
    "如果向量的長度為 2 的倍數，運算速度會比較快"
   ]
  },
  {
   "cell_type": "code",
   "execution_count": 9,
   "metadata": {},
   "outputs": [
    {
     "data": {
      "text/plain": [
       "BenchmarkTools.Trial: \n",
       "  memory estimate:  4.00 MiB\n",
       "  allocs estimate:  54\n",
       "  --------------\n",
       "  minimum time:     2.350 ms (0.00% GC)\n",
       "  median time:      2.544 ms (0.00% GC)\n",
       "  mean time:        2.949 ms (12.50% GC)\n",
       "  maximum time:     68.364 ms (95.70% GC)\n",
       "  --------------\n",
       "  samples:          1689\n",
       "  evals/sample:     1"
      ]
     },
     "execution_count": 9,
     "metadata": {},
     "output_type": "execute_result"
    }
   ],
   "source": [
    "x = randn(2^17)\n",
    "@benchmark y = fft(x)"
   ]
  },
  {
   "cell_type": "markdown",
   "metadata": {},
   "source": [
    "如果向量的長度不是 2 的倍數，運算速度會比較慢"
   ]
  },
  {
   "cell_type": "code",
   "execution_count": 10,
   "metadata": {},
   "outputs": [
    {
     "data": {
      "text/plain": [
       "BenchmarkTools.Trial: \n",
       "  memory estimate:  4.00 MiB\n",
       "  allocs estimate:  54\n",
       "  --------------\n",
       "  minimum time:     19.192 ms (0.00% GC)\n",
       "  median time:      20.923 ms (0.00% GC)\n",
       "  mean time:        22.419 ms (3.18% GC)\n",
       "  maximum time:     90.180 ms (73.82% GC)\n",
       "  --------------\n",
       "  samples:          223\n",
       "  evals/sample:     1"
      ]
     },
     "execution_count": 10,
     "metadata": {},
     "output_type": "execute_result"
    }
   ],
   "source": [
    "x = randn(2^17-1)\n",
    "@benchmark y = fft(x)"
   ]
  },
  {
   "cell_type": "markdown",
   "metadata": {},
   "source": [
    "### FFT 的運算量\n",
    "\n",
    "FFT 的運算量約為 nlog(n), n 為向量長度. 接下來我們要以程式來驗證. \n",
    "\n",
    "以下 `cpt` 這個函數會將一個 $10^k\\times 1$ 的向量做 FFT."
   ]
  },
  {
   "cell_type": "code",
   "execution_count": 11,
   "metadata": {},
   "outputs": [
    {
     "data": {
      "text/plain": [
       "cpt (generic function with 1 method)"
      ]
     },
     "execution_count": 11,
     "metadata": {},
     "output_type": "execute_result"
    }
   ],
   "source": [
    "function cpt(k)\n",
    "    x = randn(10^k);\n",
    "    y = fft(x);\n",
    "end"
   ]
  },
  {
   "cell_type": "markdown",
   "metadata": {},
   "source": [
    "先以 `benchmark` 執行一次看看 $k=5$ 的效率."
   ]
  },
  {
   "cell_type": "code",
   "execution_count": 12,
   "metadata": {},
   "outputs": [
    {
     "data": {
      "text/plain": [
       "BenchmarkTools.Trial: \n",
       "  memory estimate:  3.82 MiB\n",
       "  allocs estimate:  56\n",
       "  --------------\n",
       "  minimum time:     2.342 ms (0.00% GC)\n",
       "  median time:      2.543 ms (0.00% GC)\n",
       "  mean time:        3.262 ms (12.64% GC)\n",
       "  maximum time:     69.608 ms (94.31% GC)\n",
       "  --------------\n",
       "  samples:          1529\n",
       "  evals/sample:     1"
      ]
     },
     "execution_count": 12,
     "metadata": {},
     "output_type": "execute_result"
    }
   ],
   "source": [
    "y = @benchmark cpt(5)"
   ]
  },
  {
   "cell_type": "markdown",
   "metadata": {},
   "source": [
    "可以將 `@benchmark` 執行結果存起來成為一個 `trial`, 要取出時間就用 `time` 來取出來, 取出的時間單位是 (ns).\n",
    "\n",
    "我們把 k = $2$ ~ $7$ 計算的結果分別儲存在 t2 ~ t7 中。"
   ]
  },
  {
   "cell_type": "code",
   "execution_count": 13,
   "metadata": {},
   "outputs": [],
   "source": [
    "x2 = @benchmark cpt(2); t2 = time(x2);\n",
    "x3 = @benchmark cpt(3); t3 = time(x3);\n",
    "x4 = @benchmark cpt(4); t4 = time(x4);\n",
    "x5 = @benchmark cpt(5); t5 = time(x5);\n",
    "x6 = @benchmark cpt(6); t6 = time(x6);\n",
    "x7 = @benchmark cpt(7); t7 = time(x7);"
   ]
  },
  {
   "cell_type": "markdown",
   "metadata": {},
   "source": [
    "為了方便畫圖，我們把計算的時間存在 y1 中，y2為 nlog(n)，n = $10^2$ ~ $10^7$。"
   ]
  },
  {
   "cell_type": "code",
   "execution_count": 14,
   "metadata": {},
   "outputs": [],
   "source": [
    "x = [10^2, 10^3, 10^4, 10^5, 10^6, 10^7];\n",
    "y1 = [t2, t3, t4, t5, t6, t7];\n",
    "y2 = [2*10^2, 3*10^3, 4*10^4, 5*10^5, 6*10^6, 7*10^7];"
   ]
  },
  {
   "cell_type": "code",
   "execution_count": 15,
   "metadata": {},
   "outputs": [
    {
     "data": {
      "image/svg+xml": [
       "<?xml version=\"1.0\" encoding=\"utf-8\"?>\n",
       "<svg xmlns=\"http://www.w3.org/2000/svg\" xmlns:xlink=\"http://www.w3.org/1999/xlink\" width=\"600\" height=\"400\" viewBox=\"0 0 2400 1600\">\n",
       "<defs>\n",
       "  <clipPath id=\"clip3300\">\n",
       "    <rect x=\"0\" y=\"0\" width=\"2400\" height=\"1600\"/>\n",
       "  </clipPath>\n",
       "</defs>\n",
       "<path clip-path=\"url(#clip3300)\" d=\"\n",
       "M0 1600 L2400 1600 L2400 0 L0 0  Z\n",
       "  \" fill=\"#ffffff\" fill-rule=\"evenodd\" fill-opacity=\"1\"/>\n",
       "<defs>\n",
       "  <clipPath id=\"clip3301\">\n",
       "    <rect x=\"480\" y=\"0\" width=\"1681\" height=\"1600\"/>\n",
       "  </clipPath>\n",
       "</defs>\n",
       "<path clip-path=\"url(#clip3300)\" d=\"\n",
       "M140.517 1487.47 L2352.76 1487.47 L2352.76 47.2441 L140.517 47.2441  Z\n",
       "  \" fill=\"#ffffff\" fill-rule=\"evenodd\" fill-opacity=\"1\"/>\n",
       "<defs>\n",
       "  <clipPath id=\"clip3302\">\n",
       "    <rect x=\"140\" y=\"47\" width=\"2213\" height=\"1441\"/>\n",
       "  </clipPath>\n",
       "</defs>\n",
       "<polyline clip-path=\"url(#clip3302)\" style=\"stroke:#000000; stroke-width:2; stroke-opacity:0.1; fill:none\" points=\"\n",
       "  274.701,1487.47 274.701,47.2441 \n",
       "  \"/>\n",
       "<polyline clip-path=\"url(#clip3302)\" style=\"stroke:#000000; stroke-width:2; stroke-opacity:0.1; fill:none\" points=\"\n",
       "  727.891,1487.47 727.891,47.2441 \n",
       "  \"/>\n",
       "<polyline clip-path=\"url(#clip3302)\" style=\"stroke:#000000; stroke-width:2; stroke-opacity:0.1; fill:none\" points=\"\n",
       "  1181.08,1487.47 1181.08,47.2441 \n",
       "  \"/>\n",
       "<polyline clip-path=\"url(#clip3302)\" style=\"stroke:#000000; stroke-width:2; stroke-opacity:0.1; fill:none\" points=\"\n",
       "  1634.27,1487.47 1634.27,47.2441 \n",
       "  \"/>\n",
       "<polyline clip-path=\"url(#clip3302)\" style=\"stroke:#000000; stroke-width:2; stroke-opacity:0.1; fill:none\" points=\"\n",
       "  2087.46,1487.47 2087.46,47.2441 \n",
       "  \"/>\n",
       "<polyline clip-path=\"url(#clip3302)\" style=\"stroke:#000000; stroke-width:2; stroke-opacity:0.1; fill:none\" points=\"\n",
       "  140.517,1383.18 2352.76,1383.18 \n",
       "  \"/>\n",
       "<polyline clip-path=\"url(#clip3302)\" style=\"stroke:#000000; stroke-width:2; stroke-opacity:0.1; fill:none\" points=\"\n",
       "  140.517,1111.56 2352.76,1111.56 \n",
       "  \"/>\n",
       "<polyline clip-path=\"url(#clip3302)\" style=\"stroke:#000000; stroke-width:2; stroke-opacity:0.1; fill:none\" points=\"\n",
       "  140.517,839.942 2352.76,839.942 \n",
       "  \"/>\n",
       "<polyline clip-path=\"url(#clip3302)\" style=\"stroke:#000000; stroke-width:2; stroke-opacity:0.1; fill:none\" points=\"\n",
       "  140.517,568.322 2352.76,568.322 \n",
       "  \"/>\n",
       "<polyline clip-path=\"url(#clip3302)\" style=\"stroke:#000000; stroke-width:2; stroke-opacity:0.1; fill:none\" points=\"\n",
       "  140.517,296.701 2352.76,296.701 \n",
       "  \"/>\n",
       "<polyline clip-path=\"url(#clip3300)\" style=\"stroke:#000000; stroke-width:4; stroke-opacity:1; fill:none\" points=\"\n",
       "  140.517,1487.47 2352.76,1487.47 \n",
       "  \"/>\n",
       "<polyline clip-path=\"url(#clip3300)\" style=\"stroke:#000000; stroke-width:4; stroke-opacity:1; fill:none\" points=\"\n",
       "  140.517,1487.47 140.517,47.2441 \n",
       "  \"/>\n",
       "<polyline clip-path=\"url(#clip3300)\" style=\"stroke:#000000; stroke-width:4; stroke-opacity:1; fill:none\" points=\"\n",
       "  274.701,1487.47 274.701,1465.87 \n",
       "  \"/>\n",
       "<polyline clip-path=\"url(#clip3300)\" style=\"stroke:#000000; stroke-width:4; stroke-opacity:1; fill:none\" points=\"\n",
       "  727.891,1487.47 727.891,1465.87 \n",
       "  \"/>\n",
       "<polyline clip-path=\"url(#clip3300)\" style=\"stroke:#000000; stroke-width:4; stroke-opacity:1; fill:none\" points=\"\n",
       "  1181.08,1487.47 1181.08,1465.87 \n",
       "  \"/>\n",
       "<polyline clip-path=\"url(#clip3300)\" style=\"stroke:#000000; stroke-width:4; stroke-opacity:1; fill:none\" points=\"\n",
       "  1634.27,1487.47 1634.27,1465.87 \n",
       "  \"/>\n",
       "<polyline clip-path=\"url(#clip3300)\" style=\"stroke:#000000; stroke-width:4; stroke-opacity:1; fill:none\" points=\"\n",
       "  2087.46,1487.47 2087.46,1465.87 \n",
       "  \"/>\n",
       "<polyline clip-path=\"url(#clip3300)\" style=\"stroke:#000000; stroke-width:4; stroke-opacity:1; fill:none\" points=\"\n",
       "  140.517,1383.18 173.7,1383.18 \n",
       "  \"/>\n",
       "<polyline clip-path=\"url(#clip3300)\" style=\"stroke:#000000; stroke-width:4; stroke-opacity:1; fill:none\" points=\"\n",
       "  140.517,1111.56 173.7,1111.56 \n",
       "  \"/>\n",
       "<polyline clip-path=\"url(#clip3300)\" style=\"stroke:#000000; stroke-width:4; stroke-opacity:1; fill:none\" points=\"\n",
       "  140.517,839.942 173.7,839.942 \n",
       "  \"/>\n",
       "<polyline clip-path=\"url(#clip3300)\" style=\"stroke:#000000; stroke-width:4; stroke-opacity:1; fill:none\" points=\"\n",
       "  140.517,568.322 173.7,568.322 \n",
       "  \"/>\n",
       "<polyline clip-path=\"url(#clip3300)\" style=\"stroke:#000000; stroke-width:4; stroke-opacity:1; fill:none\" points=\"\n",
       "  140.517,296.701 173.7,296.701 \n",
       "  \"/>\n",
       "<g clip-path=\"url(#clip3300)\">\n",
       "<text style=\"fill:#000000; fill-opacity:1; font-family:Arial,Helvetica Neue,Helvetica,sans-serif; font-size:48px; text-anchor:middle;\" transform=\"rotate(0, 274.701, 1541.47)\" x=\"274.701\" y=\"1541.47\">5.0</text>\n",
       "</g>\n",
       "<g clip-path=\"url(#clip3300)\">\n",
       "<text style=\"fill:#000000; fill-opacity:1; font-family:Arial,Helvetica Neue,Helvetica,sans-serif; font-size:48px; text-anchor:middle;\" transform=\"rotate(0, 727.891, 1541.47)\" x=\"727.891\" y=\"1541.47\">7.5</text>\n",
       "</g>\n",
       "<g clip-path=\"url(#clip3300)\">\n",
       "<text style=\"fill:#000000; fill-opacity:1; font-family:Arial,Helvetica Neue,Helvetica,sans-serif; font-size:48px; text-anchor:middle;\" transform=\"rotate(0, 1181.08, 1541.47)\" x=\"1181.08\" y=\"1541.47\">10.0</text>\n",
       "</g>\n",
       "<g clip-path=\"url(#clip3300)\">\n",
       "<text style=\"fill:#000000; fill-opacity:1; font-family:Arial,Helvetica Neue,Helvetica,sans-serif; font-size:48px; text-anchor:middle;\" transform=\"rotate(0, 1634.27, 1541.47)\" x=\"1634.27\" y=\"1541.47\">12.5</text>\n",
       "</g>\n",
       "<g clip-path=\"url(#clip3300)\">\n",
       "<text style=\"fill:#000000; fill-opacity:1; font-family:Arial,Helvetica Neue,Helvetica,sans-serif; font-size:48px; text-anchor:middle;\" transform=\"rotate(0, 2087.46, 1541.47)\" x=\"2087.46\" y=\"1541.47\">15.0</text>\n",
       "</g>\n",
       "<g clip-path=\"url(#clip3300)\">\n",
       "<text style=\"fill:#000000; fill-opacity:1; font-family:Arial,Helvetica Neue,Helvetica,sans-serif; font-size:48px; text-anchor:end;\" transform=\"rotate(0, 116.517, 1400.68)\" x=\"116.517\" y=\"1400.68\">6</text>\n",
       "</g>\n",
       "<g clip-path=\"url(#clip3300)\">\n",
       "<text style=\"fill:#000000; fill-opacity:1; font-family:Arial,Helvetica Neue,Helvetica,sans-serif; font-size:48px; text-anchor:end;\" transform=\"rotate(0, 116.517, 1129.06)\" x=\"116.517\" y=\"1129.06\">9</text>\n",
       "</g>\n",
       "<g clip-path=\"url(#clip3300)\">\n",
       "<text style=\"fill:#000000; fill-opacity:1; font-family:Arial,Helvetica Neue,Helvetica,sans-serif; font-size:48px; text-anchor:end;\" transform=\"rotate(0, 116.517, 857.442)\" x=\"116.517\" y=\"857.442\">12</text>\n",
       "</g>\n",
       "<g clip-path=\"url(#clip3300)\">\n",
       "<text style=\"fill:#000000; fill-opacity:1; font-family:Arial,Helvetica Neue,Helvetica,sans-serif; font-size:48px; text-anchor:end;\" transform=\"rotate(0, 116.517, 585.822)\" x=\"116.517\" y=\"585.822\">15</text>\n",
       "</g>\n",
       "<g clip-path=\"url(#clip3300)\">\n",
       "<text style=\"fill:#000000; fill-opacity:1; font-family:Arial,Helvetica Neue,Helvetica,sans-serif; font-size:48px; text-anchor:end;\" transform=\"rotate(0, 116.517, 314.201)\" x=\"116.517\" y=\"314.201\">18</text>\n",
       "</g>\n",
       "<polyline clip-path=\"url(#clip3302)\" style=\"stroke:#009af9; stroke-width:4; stroke-opacity:1; fill:none\" points=\"\n",
       "  203.127,1061.52 620.531,967.934 1037.93,823.634 1455.34,597.167 1872.74,343.672 2290.15,88.0053 \n",
       "  \"/>\n",
       "<circle clip-path=\"url(#clip3302)\" style=\"fill:#000000; stroke:none; fill-opacity:1\" cx=\"203.127\" cy=\"1061.52\" r=\"18\"/>\n",
       "<circle clip-path=\"url(#clip3302)\" style=\"fill:#009af9; stroke:none; fill-opacity:1\" cx=\"203.127\" cy=\"1061.52\" r=\"14\"/>\n",
       "<circle clip-path=\"url(#clip3302)\" style=\"fill:#000000; stroke:none; fill-opacity:1\" cx=\"620.531\" cy=\"967.934\" r=\"18\"/>\n",
       "<circle clip-path=\"url(#clip3302)\" style=\"fill:#009af9; stroke:none; fill-opacity:1\" cx=\"620.531\" cy=\"967.934\" r=\"14\"/>\n",
       "<circle clip-path=\"url(#clip3302)\" style=\"fill:#000000; stroke:none; fill-opacity:1\" cx=\"1037.93\" cy=\"823.634\" r=\"18\"/>\n",
       "<circle clip-path=\"url(#clip3302)\" style=\"fill:#009af9; stroke:none; fill-opacity:1\" cx=\"1037.93\" cy=\"823.634\" r=\"14\"/>\n",
       "<circle clip-path=\"url(#clip3302)\" style=\"fill:#000000; stroke:none; fill-opacity:1\" cx=\"1455.34\" cy=\"597.167\" r=\"18\"/>\n",
       "<circle clip-path=\"url(#clip3302)\" style=\"fill:#009af9; stroke:none; fill-opacity:1\" cx=\"1455.34\" cy=\"597.167\" r=\"14\"/>\n",
       "<circle clip-path=\"url(#clip3302)\" style=\"fill:#000000; stroke:none; fill-opacity:1\" cx=\"1872.74\" cy=\"343.672\" r=\"18\"/>\n",
       "<circle clip-path=\"url(#clip3302)\" style=\"fill:#009af9; stroke:none; fill-opacity:1\" cx=\"1872.74\" cy=\"343.672\" r=\"14\"/>\n",
       "<circle clip-path=\"url(#clip3302)\" style=\"fill:#000000; stroke:none; fill-opacity:1\" cx=\"2290.15\" cy=\"88.0053\" r=\"18\"/>\n",
       "<circle clip-path=\"url(#clip3302)\" style=\"fill:#009af9; stroke:none; fill-opacity:1\" cx=\"2290.15\" cy=\"88.0053\" r=\"14\"/>\n",
       "<polyline clip-path=\"url(#clip3302)\" style=\"stroke:#e26f46; stroke-width:4; stroke-opacity:1; fill:none\" points=\"\n",
       "  203.127,1446.71 620.531,1201.53 1037.93,967.003 1455.34,738.323 1872.74,513.339 2290.15,290.906 \n",
       "  \"/>\n",
       "<circle clip-path=\"url(#clip3302)\" style=\"fill:#000000; stroke:none; fill-opacity:1\" cx=\"203.127\" cy=\"1446.71\" r=\"18\"/>\n",
       "<circle clip-path=\"url(#clip3302)\" style=\"fill:#e26f46; stroke:none; fill-opacity:1\" cx=\"203.127\" cy=\"1446.71\" r=\"14\"/>\n",
       "<circle clip-path=\"url(#clip3302)\" style=\"fill:#000000; stroke:none; fill-opacity:1\" cx=\"620.531\" cy=\"1201.53\" r=\"18\"/>\n",
       "<circle clip-path=\"url(#clip3302)\" style=\"fill:#e26f46; stroke:none; fill-opacity:1\" cx=\"620.531\" cy=\"1201.53\" r=\"14\"/>\n",
       "<circle clip-path=\"url(#clip3302)\" style=\"fill:#000000; stroke:none; fill-opacity:1\" cx=\"1037.93\" cy=\"967.003\" r=\"18\"/>\n",
       "<circle clip-path=\"url(#clip3302)\" style=\"fill:#e26f46; stroke:none; fill-opacity:1\" cx=\"1037.93\" cy=\"967.003\" r=\"14\"/>\n",
       "<circle clip-path=\"url(#clip3302)\" style=\"fill:#000000; stroke:none; fill-opacity:1\" cx=\"1455.34\" cy=\"738.323\" r=\"18\"/>\n",
       "<circle clip-path=\"url(#clip3302)\" style=\"fill:#e26f46; stroke:none; fill-opacity:1\" cx=\"1455.34\" cy=\"738.323\" r=\"14\"/>\n",
       "<circle clip-path=\"url(#clip3302)\" style=\"fill:#000000; stroke:none; fill-opacity:1\" cx=\"1872.74\" cy=\"513.339\" r=\"18\"/>\n",
       "<circle clip-path=\"url(#clip3302)\" style=\"fill:#e26f46; stroke:none; fill-opacity:1\" cx=\"1872.74\" cy=\"513.339\" r=\"14\"/>\n",
       "<circle clip-path=\"url(#clip3302)\" style=\"fill:#000000; stroke:none; fill-opacity:1\" cx=\"2290.15\" cy=\"290.906\" r=\"18\"/>\n",
       "<circle clip-path=\"url(#clip3302)\" style=\"fill:#e26f46; stroke:none; fill-opacity:1\" cx=\"2290.15\" cy=\"290.906\" r=\"14\"/>\n",
       "<path clip-path=\"url(#clip3300)\" d=\"\n",
       "M1636.82 312.204 L2280.76 312.204 L2280.76 130.764 L1636.82 130.764  Z\n",
       "  \" fill=\"#ffffff\" fill-rule=\"evenodd\" fill-opacity=\"1\"/>\n",
       "<polyline clip-path=\"url(#clip3300)\" style=\"stroke:#000000; stroke-width:4; stroke-opacity:1; fill:none\" points=\"\n",
       "  1636.82,312.204 2280.76,312.204 2280.76,130.764 1636.82,130.764 1636.82,312.204 \n",
       "  \"/>\n",
       "<polyline clip-path=\"url(#clip3300)\" style=\"stroke:#009af9; stroke-width:4; stroke-opacity:1; fill:none\" points=\"\n",
       "  1660.82,191.244 1804.82,191.244 \n",
       "  \"/>\n",
       "<circle clip-path=\"url(#clip3300)\" style=\"fill:#000000; stroke:none; fill-opacity:1\" cx=\"1744.82\" cy=\"191.244\" r=\"25\"/>\n",
       "<circle clip-path=\"url(#clip3300)\" style=\"fill:#009af9; stroke:none; fill-opacity:1\" cx=\"1744.82\" cy=\"191.244\" r=\"21\"/>\n",
       "<g clip-path=\"url(#clip3300)\">\n",
       "<text style=\"fill:#000000; fill-opacity:1; font-family:Arial,Helvetica Neue,Helvetica,sans-serif; font-size:48px; text-anchor:start;\" transform=\"rotate(0, 1828.82, 208.744)\" x=\"1828.82\" y=\"208.744\">computational time</text>\n",
       "</g>\n",
       "<polyline clip-path=\"url(#clip3300)\" style=\"stroke:#e26f46; stroke-width:4; stroke-opacity:1; fill:none\" points=\"\n",
       "  1660.82,251.724 1804.82,251.724 \n",
       "  \"/>\n",
       "<circle clip-path=\"url(#clip3300)\" style=\"fill:#000000; stroke:none; fill-opacity:1\" cx=\"1744.82\" cy=\"251.724\" r=\"25\"/>\n",
       "<circle clip-path=\"url(#clip3300)\" style=\"fill:#e26f46; stroke:none; fill-opacity:1\" cx=\"1744.82\" cy=\"251.724\" r=\"21\"/>\n",
       "<g clip-path=\"url(#clip3300)\">\n",
       "<text style=\"fill:#000000; fill-opacity:1; font-family:Arial,Helvetica Neue,Helvetica,sans-serif; font-size:48px; text-anchor:start;\" transform=\"rotate(0, 1828.82, 269.224)\" x=\"1828.82\" y=\"269.224\">nlog(n)</text>\n",
       "</g>\n",
       "</svg>\n"
      ]
     },
     "execution_count": 15,
     "metadata": {},
     "output_type": "execute_result"
    }
   ],
   "source": [
    "p = plot(log.(x),log.(y1),label=\"computational time\",marker=:circle)\n",
    "plot!(p,log.(x),log.(y2),label=\"nlog(n)\",marker=:circle)"
   ]
  },
  {
   "cell_type": "markdown",
   "metadata": {},
   "source": [
    "我們將計算所花的時間和 nlog(n) 分別取對數畫在同一張圖上，會發現斜率幾乎一樣。因此 fft 的運算量約為 nlog(n)。"
   ]
  },
  {
   "cell_type": "markdown",
   "metadata": {},
   "source": [
    "補充：\n",
    "\n",
    "我們可以利用 varinfo() 查看所有變數"
   ]
  },
  {
   "cell_type": "code",
   "execution_count": 16,
   "metadata": {},
   "outputs": [
    {
     "data": {
      "text/latex": [
       "\\begin{tabular}\n",
       "{l | r | l}\n",
       "name & size & summary \\\\\n",
       "\\hline\n",
       "A & 168 bytes & 4×4 Array\\{Int64,2\\} \\\\\n",
       "Base &  & Module \\\\\n",
       "Core &  & Module \\\\\n",
       "Main &  & Module \\\\\n",
       "cpt & 0 bytes & typeof(cpt) \\\\\n",
       "p & 34.341 KiB & Plots.Plot\\{Plots.GRBackend\\} \\\\\n",
       "t2 & 8 bytes & Float64 \\\\\n",
       "t3 & 8 bytes & Float64 \\\\\n",
       "t4 & 8 bytes & Float64 \\\\\n",
       "t5 & 8 bytes & Float64 \\\\\n",
       "t6 & 8 bytes & Float64 \\\\\n",
       "t7 & 8 bytes & Float64 \\\\\n",
       "x & 88 bytes & 6-element Array\\{Int64,1\\} \\\\\n",
       "x2 & 156.422 KiB & Trial(14.083 μs) \\\\\n",
       "x3 & 156.422 KiB & Trial(39.591 μs) \\\\\n",
       "x4 & 156.422 KiB & Trial(194.876 μs) \\\\\n",
       "x5 & 20.109 KiB & Trial(2.377 ms) \\\\\n",
       "x6 & 1.938 KiB & Trial(39.084 ms) \\\\\n",
       "x7 & 304 bytes & Trial(658.195 ms) \\\\\n",
       "y & 24.063 KiB & Trial(2.342 ms) \\\\\n",
       "y1 & 88 bytes & 6-element Array\\{Float64,1\\} \\\\\n",
       "y2 & 88 bytes & 6-element Array\\{Int64,1\\} \\\\\n",
       "\\end{tabular}\n"
      ],
      "text/markdown": [
       "| name |        size | summary                     |\n",
       "|:---- | -----------:|:--------------------------- |\n",
       "| A    |   168 bytes | 4×4 Array{Int64,2}          |\n",
       "| Base |             | Module                      |\n",
       "| Core |             | Module                      |\n",
       "| Main |             | Module                      |\n",
       "| cpt  |     0 bytes | typeof(cpt)                 |\n",
       "| p    |  34.341 KiB | Plots.Plot{Plots.GRBackend} |\n",
       "| t2   |     8 bytes | Float64                     |\n",
       "| t3   |     8 bytes | Float64                     |\n",
       "| t4   |     8 bytes | Float64                     |\n",
       "| t5   |     8 bytes | Float64                     |\n",
       "| t6   |     8 bytes | Float64                     |\n",
       "| t7   |     8 bytes | Float64                     |\n",
       "| x    |    88 bytes | 6-element Array{Int64,1}    |\n",
       "| x2   | 156.422 KiB | Trial(14.083 μs)            |\n",
       "| x3   | 156.422 KiB | Trial(39.591 μs)            |\n",
       "| x4   | 156.422 KiB | Trial(194.876 μs)           |\n",
       "| x5   |  20.109 KiB | Trial(2.377 ms)             |\n",
       "| x6   |   1.938 KiB | Trial(39.084 ms)            |\n",
       "| x7   |   304 bytes | Trial(658.195 ms)           |\n",
       "| y    |  24.063 KiB | Trial(2.342 ms)             |\n",
       "| y1   |    88 bytes | 6-element Array{Float64,1}  |\n",
       "| y2   |    88 bytes | 6-element Array{Int64,1}    |\n"
      ],
      "text/plain": [
       "name        size summary                    \n",
       "–––– ––––––––––– –––––––––––––––––––––––––––\n",
       "A      168 bytes 4×4 Array{Int64,2}         \n",
       "Base             Module                     \n",
       "Core             Module                     \n",
       "Main             Module                     \n",
       "cpt      0 bytes typeof(cpt)                \n",
       "p     34.341 KiB Plots.Plot{Plots.GRBackend}\n",
       "t2       8 bytes Float64                    \n",
       "t3       8 bytes Float64                    \n",
       "t4       8 bytes Float64                    \n",
       "t5       8 bytes Float64                    \n",
       "t6       8 bytes Float64                    \n",
       "t7       8 bytes Float64                    \n",
       "x       88 bytes 6-element Array{Int64,1}   \n",
       "x2   156.422 KiB Trial(14.083 μs)           \n",
       "x3   156.422 KiB Trial(39.591 μs)           \n",
       "x4   156.422 KiB Trial(194.876 μs)          \n",
       "x5    20.109 KiB Trial(2.377 ms)            \n",
       "x6     1.938 KiB Trial(39.084 ms)           \n",
       "x7     304 bytes Trial(658.195 ms)          \n",
       "y     24.063 KiB Trial(2.342 ms)            \n",
       "y1      88 bytes 6-element Array{Float64,1} \n",
       "y2      88 bytes 6-element Array{Int64,1}   "
      ]
     },
     "execution_count": 16,
     "metadata": {},
     "output_type": "execute_result"
    }
   ],
   "source": [
    "varinfo()"
   ]
  },
  {
   "cell_type": "markdown",
   "metadata": {},
   "source": [
    "## Section 3 - FFT 的準確度\n",
    "\n",
    "下列我們以兩個例子說明 fft 求傅立葉係數的誤差。\n",
    "\n",
    "我們將要轉換的值儲存在變數 a 中，利用 fft(a) 取其傅立葉係數，再利用 ifft(fft(a)) 轉回原來的函數值。\n",
    "\n",
    "如果 fft 與 ifft 這兩個函數可以很準確的把函數值轉成傅立葉係數，再轉回原函數，那麼 ifft(fft(a)) 與 a 的值差距應該要很小。\n",
    "\n",
    "因此我們用 norm 計算 ifft(fft(a)) 與 a 之間的誤差。下列兩個結果顯示，轉換的誤差會小於機器誤差。\n",
    "\n",
    "Julia 中，norm 這個函數可以用來算向量與矩陣的範數，\n",
    "\n",
    "norm(A, Inf) 用來計算 A 的 infinity norm，即取出向量中絕對值最大的元素。\n",
    "\n",
    "norm(A, p) 用來計算 A 的 p norm，$||A||_p = (\\sum_{i = 1}^n |a_i|^p)^{1/p}$，其中 $a_i$ 是 A 中的元素，A 的長度為 n。\n",
    "\n",
    "norm(A) 是用預設的值，算的是 2-norm。"
   ]
  },
  {
   "cell_type": "markdown",
   "metadata": {},
   "source": [
    "我們用兩個例子來檢驗。令 a 是複數，實部與虛部都取亂數。\n",
    "1. rand(8) 是從 0 到 1 之間取 8 個亂數，值為小數。\n",
    "2. rand(-10:10,8) 是從 -10 到 10 之間取 8 個亂數，值為整數。"
   ]
  },
  {
   "cell_type": "code",
   "execution_count": 17,
   "metadata": {},
   "outputs": [
    {
     "data": {
      "text/plain": [
       "2.1677797545656835e-16"
      ]
     },
     "execution_count": 17,
     "metadata": {},
     "output_type": "execute_result"
    }
   ],
   "source": [
    "a = rand(8) + im*rand(8);\n",
    "norm(ifft(fft(a)) - a)"
   ]
  },
  {
   "cell_type": "code",
   "execution_count": 18,
   "metadata": {},
   "outputs": [
    {
     "data": {
      "text/plain": [
       "8.881784197001252e-16"
      ]
     },
     "execution_count": 18,
     "metadata": {},
     "output_type": "execute_result"
    }
   ],
   "source": [
    "a = rand(-10:10, 8) + im*rand(-10:10, 8);\n",
    "norm(ifft(fft(a)) - a, Inf)"
   ]
  }
 ],
 "metadata": {
  "@webio": {
   "lastCommId": null,
   "lastKernelId": null
  },
  "kernelspec": {
   "display_name": "Julia 1.1.0",
   "language": "julia",
   "name": "julia-1.1"
  },
  "language_info": {
   "file_extension": ".jl",
   "mimetype": "application/julia",
   "name": "julia",
   "version": "1.1.0"
  }
 },
 "nbformat": 4,
 "nbformat_minor": 4
}
