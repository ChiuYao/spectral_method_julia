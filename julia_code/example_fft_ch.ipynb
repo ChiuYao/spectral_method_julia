{
 "cells": [
  {
   "cell_type": "markdown",
   "metadata": {},
   "source": [
    "# FFTW\n",
    "\n",
    "這一節，我們介紹如何使用 package FFTW。"
   ]
  },
  {
   "cell_type": "code",
   "execution_count": null,
   "metadata": {},
   "outputs": [],
   "source": [
    "using FFTW\n",
    "using LinearAlgebra\n",
    "using Plots"
   ]
  },
  {
   "cell_type": "markdown",
   "metadata": {},
   "source": [
    "## fft 的輸入方式\n",
    "fft 是一個將函數值轉成傅立葉係數的指令，因此，我們在 fft() 的括號裡放入函數值所形成的向量。"
   ]
  },
  {
   "cell_type": "markdown",
   "metadata": {},
   "source": [
    "### 1D fft\n",
    "\n",
    "下面的兩個例子告訴我們，當資料是一維的時候輸入行向量或列向量，結果是一樣的。"
   ]
  },
  {
   "cell_type": "code",
   "execution_count": null,
   "metadata": {},
   "outputs": [],
   "source": [
    "fft([0; 1; 2; 1])"
   ]
  },
  {
   "cell_type": "code",
   "execution_count": null,
   "metadata": {},
   "outputs": [],
   "source": [
    "fft([0, 1, 2, 1])"
   ]
  },
  {
   "cell_type": "markdown",
   "metadata": {},
   "source": [
    "### 2D fft\n",
    "\n",
    "下列兩個例子我們跟 matlab 中 fft2 的結果比較一下，結果是一樣的。\n",
    "\n",
    "> need to explain what's the definition of fft2, 2d fft?\n",
    "\n",
    "Example 1. "
   ]
  },
  {
   "cell_type": "code",
   "execution_count": null,
   "metadata": {},
   "outputs": [],
   "source": [
    "[0 0 0 0; 1 1 1 1; 2 2 2 2; 1 1 1 1]"
   ]
  },
  {
   "cell_type": "code",
   "execution_count": null,
   "metadata": {},
   "outputs": [],
   "source": [
    "fft([0 0 0 0; 1 1 1 1; 2 2 2 2; 1 1 1 1])"
   ]
  },
  {
   "cell_type": "markdown",
   "metadata": {},
   "source": [
    "將 [0 0 0 0; 1 1 1 1; 2 2 2 2; 1 1 1 1] 在 matlab 中做 fft2 轉換,\n",
    "\n",
    "```matlab\n",
    "fft2([0 0 0 0; 1 1 1 1; 2 2 2 2; 1 1 1 1]) = [16 0 0 0; -8 0 0 0; 0 0 0 0; 8 0 0 0]\n",
    "```"
   ]
  },
  {
   "cell_type": "markdown",
   "metadata": {},
   "source": [
    "Example 2."
   ]
  },
  {
   "cell_type": "code",
   "execution_count": null,
   "metadata": {},
   "outputs": [],
   "source": [
    "[0 1 2 1; 0 1 2 1; 0 1 2 1; 0 1 2 1]"
   ]
  },
  {
   "cell_type": "code",
   "execution_count": null,
   "metadata": {},
   "outputs": [],
   "source": [
    "fft([0 1 2 1; 0 1 2 1; 0 1 2 1; 0 1 2 1])"
   ]
  },
  {
   "cell_type": "markdown",
   "metadata": {},
   "source": [
    "將 [0 1 2 1; 0 1 2 1; 0 1 2 1; 0 1 2 1] 在 matlab 中做 fft2 轉換, \n",
    "\n",
    "```matlab\n",
    "fft2([0 1 2 1; 0 1 2 1; 0 1 2 1; 0 1 2 1]) = [16 -8 0 -8; 0 0 0 0; 0 0 0 0; 0 0 0 0]\n",
    "```"
   ]
  },
  {
   "cell_type": "markdown",
   "metadata": {},
   "source": [
    "## fft 的運算時間\n",
    "下列的兩個例子告訴我們，fft 這個內建的函數運算速度很快，將一個 (2^17)*1 的向量轉成傅立葉係數不會超過 0.2 秒。另一個需要注意的地方是當我們使用 @time 計算運算時間時，需要多算幾次再取平均。\n",
    "\n",
    "如果向量的長度為 2 的倍數，運算速度會比較快"
   ]
  },
  {
   "cell_type": "code",
   "execution_count": null,
   "metadata": {},
   "outputs": [],
   "source": [
    "x = randn(2^17)\n",
    "@time y = fft(x);\n",
    "x = randn(2^17)\n",
    "@time y = fft(x);\n",
    "x = randn(2^17)\n",
    "@time y = fft(x);\n",
    "x = randn(2^17)\n",
    "@time y = fft(x);"
   ]
  },
  {
   "cell_type": "markdown",
   "metadata": {},
   "source": [
    "如果向量的長度不是 2 的倍數，運算速度會比較慢"
   ]
  },
  {
   "cell_type": "code",
   "execution_count": null,
   "metadata": {},
   "outputs": [],
   "source": [
    "x = randn(92993)\n",
    "@time y = fft(x);\n",
    "x = randn(92993)\n",
    "@time y = fft(x);\n",
    "x = randn(92993)\n",
    "@time y = fft(x);\n",
    "x = randn(92993)\n",
    "@time y = fft(x);"
   ]
  },
  {
   "cell_type": "markdown",
   "metadata": {},
   "source": [
    "FFT 的運算量約為 nlog(n), n 為向量長度。"
   ]
  },
  {
   "cell_type": "code",
   "execution_count": null,
   "metadata": {},
   "outputs": [],
   "source": [
    "function cpt(k)\n",
    "    for ii = 1:1\n",
    "        x = randn(10^k);\n",
    "        y = fft(x);\n",
    "    end\n",
    "end"
   ]
  },
  {
   "cell_type": "markdown",
   "metadata": {},
   "source": [
    "用 @timed 計時可以把時間存起來，@timed 的運算結果是一個向量，計算時間儲存在向量的第二個值。\n",
    "\n",
    "我們把 n = $10^2$ ~ $10^8$ 計算的結果分別儲存在 x2 ~ x8 中。"
   ]
  },
  {
   "cell_type": "code",
   "execution_count": null,
   "metadata": {},
   "outputs": [],
   "source": [
    "@timed cpt(8)"
   ]
  },
  {
   "cell_type": "code",
   "execution_count": null,
   "metadata": {},
   "outputs": [],
   "source": [
    "x2 = @timed cpt(2)\n",
    "x3 = @timed cpt(3)\n",
    "x4 = @timed cpt(4)\n",
    "x5 = @timed cpt(5)\n",
    "x6 = @timed cpt(6)\n",
    "x7 = @timed cpt(7)\n",
    "x8 = @timed cpt(8)"
   ]
  },
  {
   "cell_type": "markdown",
   "metadata": {},
   "source": [
    "為了方便畫圖，我們把計算的時間存在 y1 中，y2為 nlog(n)，n = $10^2$ ~ $10^8$。"
   ]
  },
  {
   "cell_type": "code",
   "execution_count": null,
   "metadata": {},
   "outputs": [],
   "source": [
    "y1 = [x2[2], x3[2], x4[2], x5[2], x6[2], x7[2], x8[2]]"
   ]
  },
  {
   "cell_type": "code",
   "execution_count": null,
   "metadata": {},
   "outputs": [],
   "source": [
    "y2 = [2*10^2, 3*10^3, 4*10^4, 5*10^5, 6*10^6, 7*10^7, 8*10^8]"
   ]
  },
  {
   "cell_type": "code",
   "execution_count": null,
   "metadata": {},
   "outputs": [],
   "source": [
    "x = [10^2, 10^3, 10^4, 10^5, 10^6, 10^7, 10^8]"
   ]
  },
  {
   "cell_type": "code",
   "execution_count": null,
   "metadata": {},
   "outputs": [],
   "source": [
    "p = plot(x,log.(y1),label=\"compute time\")\n",
    "plot!(p,x,log.(y2),label=\"nlog(n)\")"
   ]
  },
  {
   "cell_type": "code",
   "execution_count": null,
   "metadata": {},
   "outputs": [],
   "source": [
    "plot(x,log.(y1),label=\"compute time\")"
   ]
  },
  {
   "cell_type": "code",
   "execution_count": null,
   "metadata": {},
   "outputs": [],
   "source": [
    "plot(x,y2,label=\"nlog(n)\")"
   ]
  },
  {
   "cell_type": "markdown",
   "metadata": {},
   "source": [
    "補充：\n",
    "\n",
    "我們可以利用 varinfo() 查看所有變數"
   ]
  },
  {
   "cell_type": "code",
   "execution_count": null,
   "metadata": {},
   "outputs": [],
   "source": [
    "varinfo()"
   ]
  },
  {
   "cell_type": "markdown",
   "metadata": {},
   "source": [
    "## fft 的準確度\n",
    "下列兩個例子告訴我們，使用 fft 求傅立葉係數的誤差會在機器誤差 ($10^{-14}$) 以下。\n",
    "\n",
    "我們將要轉換的值儲存在變數 a 中，利用 fft(a) 取其傅立葉係數，再利用 ifft(fft(a)) 轉回原來的函數值。\n",
    "\n",
    "如果 fft 與 ifft 這兩個函數可以很準確的把函數值轉成傅立葉係數，再轉回原函數，那麼 ifft(fft(a)) 與 a 的值差距應該要很小。\n",
    "\n",
    "因此我們用 norm 計算 ifft(fft(a)) 與 a 之間的誤差。下列兩個結果顯示，轉換的誤差會小於機器誤差。"
   ]
  },
  {
   "cell_type": "markdown",
   "metadata": {},
   "source": [
    "我們用兩個例子來檢驗。令 a 是複數，實部與虛部都取亂數。\n",
    "1. rand(8) 是從 0 到 1 之間取 8 個亂數，值為小數。\n",
    "2. rand(-10:10,8) 是從 -10 到 10 之間取 8 個亂數，值為整數。"
   ]
  },
  {
   "cell_type": "code",
   "execution_count": null,
   "metadata": {},
   "outputs": [],
   "source": [
    "a = rand(8) + im*rand(8);\n",
    "norm(ifft(fft(a)) - a)"
   ]
  },
  {
   "cell_type": "code",
   "execution_count": null,
   "metadata": {},
   "outputs": [],
   "source": [
    "a = rand(-10:10, 8) + im*rand(-10:10, 8);\n",
    "norm(ifft(fft(a)) - a)"
   ]
  },
  {
   "cell_type": "markdown",
   "metadata": {},
   "source": [
    "## 用實際的例子轉換看看\n",
    "我們用 $y = \\sin(x)$ 和 $y = \\cos(x)$ 來看看 fft 是怎麼運作的。\n",
    "\n",
    "$\\sin(x)$ 是一個週期函數，週期是 $2\\pi$\n",
    "1. 我們在 $[0, 2\\pi]$ 之間取 N+1 個點。於是我們有 x = range(0,stop=2*pi,length=N+1); 到這裡，x 是一個長度為 N+1 的向量，最小值是 0，最大值是 $2\\pi$。\n",
    "2. 必須注意的是 $\\sin(0)$ 和 $\\sin(2\\pi)$ 指的是相同的點，他們都等於 0。所以我們要把 x 向量的最後一個點去掉，即 x = x[1:N];"
   ]
  },
  {
   "cell_type": "code",
   "execution_count": null,
   "metadata": {},
   "outputs": [],
   "source": [
    "N=100;\n",
    "x = range(0,stop=2*pi,length=N+1);\n",
    "x = x[1:N];"
   ]
  },
  {
   "cell_type": "markdown",
   "metadata": {},
   "source": [
    "接著我們計算 $y = \\sin(x)$ 的傅立葉係數。\n",
    "1. 先求出 $\\sin(x)$ 的值，並儲存在變數 fs 中。由於 x 是一個向量，因此要用 fs = sin.(x)，而不是 fs = sin(x);\n",
    "2. 將 fs 轉成傅立葉係數，並儲存在 fs_hat 中。\n",
    "3. 用 plot 指令畫出係數中虛部的部分。\n",
    "\n",
    "我們稍微計算一下，根據 Euler's formula，$\\sin(\\theta) = \\frac{e^{i\\theta} - e^{-i\\theta}}{2i} = \\frac{1}{2}(-ie^{i\\theta} + ie^{-i\\theta})$\n",
    "\n",
    "再和離散傅立葉轉換的公式相對照，可得傅立葉係數 $\\hat{f}_1 = -50i$, $\\hat{f}_{-1} = 50i$，其他係數為零。\n",
    "\n",
    "最後將係數畫出來，我們用 imag 指令畫出傅立葉係數的虛部，會看到兩個峰值。\n"
   ]
  },
  {
   "cell_type": "code",
   "execution_count": null,
   "metadata": {},
   "outputs": [],
   "source": [
    "fs = sin.(x);\n",
    "fs_hat = fft(fs);\n",
    "plot(imag(fs_hat))"
   ]
  },
  {
   "cell_type": "markdown",
   "metadata": {},
   "source": [
    "接著我們計算 $y = \\cos(x)$ 的傅立葉係數。\n",
    "1. 先求出 $\\cos(x)$ 的值，並儲存在變數 fc 中。\n",
    "2. 將 fc 轉成傅立葉係數，並儲存在 fc_hat 中。\n",
    "3. 用 plot 指令畫出係數中實部的部分。\n",
    "\n",
    "根據 Euler's formula，$\\cos(\\theta) = \\frac{e^{i\\theta} + e^{-i\\theta}}{2} = \\frac{1}{2}(ie^{i\\theta} + ie^{-i\\theta})$\n",
    "\n",
    "再和離散傅立葉轉換的公式相對照，可得傅立葉係數 $\\hat{fs_1} = 50$, $\\hat{fs_{-1}} = 50$，其他係數為零。\n",
    "\n",
    "最後將係數畫出來，我們用 real 指令畫出傅立葉係數的實部，會看到兩個峰值。"
   ]
  },
  {
   "cell_type": "code",
   "execution_count": null,
   "metadata": {},
   "outputs": [],
   "source": [
    "fc = cos.(x);\n",
    "fc_hat = fft(fc);\n",
    "plot(real(fc_hat))"
   ]
  },
  {
   "cell_type": "markdown",
   "metadata": {},
   "source": [
    "> need to explain the following example"
   ]
  },
  {
   "cell_type": "code",
   "execution_count": null,
   "metadata": {},
   "outputs": [],
   "source": [
    "fss = sin.(x)+sin.(100*x);\n",
    "fss_hat = fft(fss);\n",
    "plot(imag(fss_hat))"
   ]
  },
  {
   "cell_type": "markdown",
   "metadata": {},
   "source": [
    "## aliasing\n",
    "假如我們試著畫出下列函數的傅立葉係數，會發現電腦只算出兩個傅立葉係數。但，理論上應該要有四個傅立葉係數，從圖上來看要有四個峰值。這是為什麼呢?"
   ]
  },
  {
   "cell_type": "code",
   "execution_count": null,
   "metadata": {},
   "outputs": [],
   "source": [
    "N=8;\n",
    "x = range(0,stop=2*pi,length=N+1);\n",
    "x = x[1:N];\n",
    "fss = sin.(x)+sin.(9*x);\n",
    "fss_hat = fft(fss);\n",
    "plot(imag(fss_hat))"
   ]
  },
  {
   "cell_type": "markdown",
   "metadata": {},
   "source": [
    "我們將 $\\sin(x)$ 與 $\\sin(9x)$的圖形分別畫出來。\n",
    "\n",
    "$\\sin(9x)$ 的週期是 $2\\pi / 9$，因此 x 只取 8 個點對他來說太少了，沒辦法準確畫出函數。\n",
    "\n",
    "我們把 $\\sin(9x)$ 與 $\\sin(x)$ 畫在一起，當我們只取 8 個點時，會發現取在 $\\sin(9x)$ 上的點剛好落在 $\\sin(x)$ 上。我們取到的資料沒辦法描述 $\\sin(9x)$ 中高頻率的部分。因此，上圖實際上畫出的是 $y = 2 \\sin(x)$ 的傅立葉係數。"
   ]
  },
  {
   "cell_type": "code",
   "execution_count": null,
   "metadata": {},
   "outputs": [],
   "source": [
    "N=8;\n",
    "x = range(0,stop=2*pi,length=N+1);\n",
    "f = sin.(x);\n",
    "p = plot(x,f,marker=:circle,label=\"sin(x)\")\n",
    "NN=200;\n",
    "xx = range(0,stop=2*pi,length=NN+1);\n",
    "g = sin.(9*xx);\n",
    "plot!(p,xx,g,label=\"sin(9x)\")"
   ]
  },
  {
   "cell_type": "markdown",
   "metadata": {},
   "source": [
    "## zero-padding\n",
    "我們想利用已知的函數 $f(x)$ 的傅立葉係數求 $f(x)^2$, 或更高次方的傅立葉係數。但直接將函數平方，會讓我們遇到一些問題，在次方小的時候用較少的傅立葉係數就可以表達一個函數，而在高次方時，需要更多的傅立葉係數。"
   ]
  },
  {
   "cell_type": "markdown",
   "metadata": {},
   "source": [
    "當我們想求 $f(x) = \\sin(3x)$ 的傅立葉係數時，根據 Euler's formula，\n",
    "$\\sin(3\\theta) = \\frac{e^{3i\\theta} - e^{-3i\\theta}}{2i} = \\frac{1}{2}(-ie^{3i\\theta} + ie^{-3i\\theta})$\n",
    "會算出兩個傅立葉係數，$\\hat{f}_3$ 與 $\\hat{f}_{-3}$。當我們取 N = 8 時，可以列出 $ k = 0, 1, 2, 3, 4, -3, -2, -1$ 的係數，因此 N = 8 在這個例子中是足夠的。"
   ]
  },
  {
   "cell_type": "code",
   "execution_count": null,
   "metadata": {},
   "outputs": [],
   "source": [
    "N=8;\n",
    "x = range(0,stop=2*pi,length=N+1);\n",
    "x = x[1:N];\n",
    "fss = sin.(3*x);\n",
    "fss_hat = fft(fss);\n",
    "plot(imag(fss_hat),label=\"Fourier coef. of sin(3x)\")"
   ]
  },
  {
   "cell_type": "markdown",
   "metadata": {},
   "source": [
    "但是，當我們想算 $g(x) = \\sin(3x)^2$ 的傅立葉係數時，N = 8 卻是不夠的。下面這張圖列出的傅立葉係數是錯誤的。"
   ]
  },
  {
   "cell_type": "code",
   "execution_count": null,
   "metadata": {},
   "outputs": [],
   "source": [
    "N=8;\n",
    "x = range(0,stop=2*pi,length=N+1);\n",
    "x = x[1:N];\n",
    "fss = (sin.(3*x)).^2;\n",
    "fss_hat = fft(fss);\n",
    "plot(real(fss_hat),label=\"Fourier coef. of sin(3x)^2\")"
   ]
  },
  {
   "cell_type": "markdown",
   "metadata": {},
   "source": [
    "我們把  $g(x) = \\sin(3x)^2$ 利用倍角公式整理一下，$g(x) = \\sin(3x)^2 = \\frac{1-\\cos(6x)}{2}$。這會算出$\\hat{f}_0$，$\\hat{f}_6$ 與 $\\hat{f}_{-6}$ 的傅立葉係數，因此至少會需要令 N = 16。\n",
    "\n",
    "底下兩張圖，我們分別畫出 $\\sin(3x)^2$ 與 $\\frac{1-\\cos(6x)}{2}$ 的傅立葉係數，結果是一樣的。"
   ]
  },
  {
   "cell_type": "code",
   "execution_count": null,
   "metadata": {},
   "outputs": [],
   "source": [
    "N=16;\n",
    "x = range(0,stop=2*pi,length=N+1);\n",
    "x = x[1:N];\n",
    "fss = (sin.(3*x)).^2;\n",
    "fss_hat = fft(fss);\n",
    "plot(real(fss_hat),label=\"Fourier coef. of sin(3x)^2\")"
   ]
  },
  {
   "cell_type": "code",
   "execution_count": null,
   "metadata": {},
   "outputs": [],
   "source": [
    "N=16;\n",
    "x = range(0,stop=2*pi,length=N+1);\n",
    "x = x[1:N];\n",
    "fss = (ones(N,1)-cos.(6*x))./2;\n",
    "fss_hat = fft(fss);\n",
    "plot(real(fss_hat),label=\"Fourier coef. of (1-cos(6x))/2\")"
   ]
  },
  {
   "cell_type": "markdown",
   "metadata": {},
   "source": [
    "要怎麼樣才能從 $f(x) = sin(3x)$ 的傅立葉係數得到 $g(x) = sin(3x)^2$ 的傅立葉係數呢? 我們可以依照校列步驟試試：\n",
    "\n",
    "1. zero - padding  \n",
    "\n",
    "由前面幾個例子我們知道傅立葉係數的排序為 $\\hat{f}_0, \\hat{f}_1, \\hat{f}_2, ...\\hat{f}_{N/2 -1}, \\hat{f}_{N/2}, \\hat{f}_{-N/2 +1}, ..., \\hat{f}_{-2}, \\hat{f}_{-1}$.\n",
    "\n",
    "如果以 N = 8 的例子來看就是 $\\hat{f}_0, \\hat{f}_1, \\hat{f}_2, \\hat{f}_3, \\hat{f}_4, \\hat{f}_{-3}, \\hat{f}_{-2}, \\hat{f}_{-1}$。而其中，當 $f(x) = \\sin(3x)$ 時，$\\hat{f}_{-3}$ 與 $\\hat{f}_{3}$ 有值，其餘為 0。 \n",
    "\n",
    "根據 Euler's formula，當 $g(x) = \\sin(3x)^2$ 會算出 $\\hat{f}_0$，$\\hat{f}_6$ 與 $\\hat{f}_{-6}$ 的傅立葉係數。所以我們要在原來的傅立葉係數中高頻率部分插入 0 的傅立葉係數。\n",
    "\n",
    "$\\hat{f}_0, \\hat{f}_1, \\hat{f}_2, \\hat{f}_3, \\hat{f}_4, (\\hat{f}_5, \\hat{f}_6, \\hat{f}_7, \\hat{f}_8, \\hat{f}_{-7}, \\hat{f}_{-6}, \\hat{f}_{-5}, \\hat{f}_{-4}), \\hat{f}_{-3}, \\hat{f}_{-2}, \\hat{f}_{-1}$\n",
    "\n",
    "括號部分即為所插入的高頻傅立葉係數。使用 append! 插入零向量時，可 typeof() 檢查兩個向量的形式是否相同。\n",
    "\n",
    "2. do ifft\n",
    "\n",
    "接著，將新的傅立葉係數轉回函數 $\\sin(3x)$，此時的 $\\sin(3x)$ 函數會比原先的 $\\sin(3x)$ 多出六個點。轉回去之後再將函數平方，得到 $g(x) = \\sin(3x)^2$。\n",
    "\n",
    "3. do fft\n",
    "\n",
    "這時候，我們將 $g(x)$ 做傅立葉轉換，就可以得到我們預期的傅立葉係數。(差四倍? 不知道為什麼)"
   ]
  },
  {
   "cell_type": "code",
   "execution_count": null,
   "metadata": {},
   "outputs": [],
   "source": [
    "N=8;\n",
    "x = range(0,stop=2*pi,length=N+1);\n",
    "x = x[1:N];\n",
    "f = sin.(3*x);\n",
    "f_hat = fft(f)\n",
    "\n",
    "# 1. zeropadding\n",
    "b = append!(f_hat[1:4], zeros(8)+zeros(8)*im);\n",
    "c = append!(b,f_hat[5:8]);\n",
    "#typeof(f_hat)  # DataType\n",
    "\n",
    "# 2. do ifft，to obtain function sin(3x)\n",
    "fs = ifft(c);\n",
    "g = fs.^2;\n",
    "\n",
    "# 3. do fft\n",
    "g_hat = fft(g)\n",
    "plot(real(g_hat),label=\"Fourier coef. of sin(3x)^2\")\n",
    "\n",
    "#fss_hat = fss_hat[4:N+4]"
   ]
  },
  {
   "cell_type": "code",
   "execution_count": null,
   "metadata": {},
   "outputs": [],
   "source": []
  }
 ],
 "metadata": {
  "kernelspec": {
   "display_name": "Julia 1.1.0",
   "language": "julia",
   "name": "julia-1.1"
  },
  "language_info": {
   "file_extension": ".jl",
   "mimetype": "application/julia",
   "name": "julia",
   "version": "1.1.0"
  }
 },
 "nbformat": 4,
 "nbformat_minor": 4
}
