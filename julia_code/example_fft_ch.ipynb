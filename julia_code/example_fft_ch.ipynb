{
 "cells": [
  {
   "cell_type": "markdown",
   "metadata": {},
   "source": [
    "# FFTW and FFTs\n",
    "\n",
    "這一節，我們介紹如何使用 package FFTW。"
   ]
  },
  {
   "cell_type": "code",
   "execution_count": 1,
   "metadata": {},
   "outputs": [],
   "source": [
    "using FFTW\n",
    "using LinearAlgebra\n",
    "using Plots"
   ]
  },
  {
   "cell_type": "markdown",
   "metadata": {},
   "source": [
    "## Section 1 - Fast Fourier Transform(fft) 的輸入方式\n",
    "fft 是一個將函數值轉成傅立葉係數的指令，因此，我們在 fft() 的括號裡放入函數值所形成的向量。"
   ]
  },
  {
   "cell_type": "markdown",
   "metadata": {},
   "source": [
    "### section 1.1 - 1D fft\n",
    "\n",
    "當資料是一維的時候輸入行向量或列向量，結果是一樣的。如以下兩個例子："
   ]
  },
  {
   "cell_type": "code",
   "execution_count": 2,
   "metadata": {},
   "outputs": [
    {
     "data": {
      "text/plain": [
       "4-element Array{Complex{Float64},1}:\n",
       "  4.0 + 0.0im\n",
       " -2.0 + 0.0im\n",
       "  0.0 + 0.0im\n",
       " -2.0 + 0.0im"
      ]
     },
     "execution_count": 2,
     "metadata": {},
     "output_type": "execute_result"
    }
   ],
   "source": [
    "fft([0; 1; 2; 1])"
   ]
  },
  {
   "cell_type": "code",
   "execution_count": 3,
   "metadata": {},
   "outputs": [
    {
     "data": {
      "text/plain": [
       "4-element Array{Complex{Float64},1}:\n",
       "  4.0 + 0.0im\n",
       " -2.0 + 0.0im\n",
       "  0.0 + 0.0im\n",
       " -2.0 + 0.0im"
      ]
     },
     "execution_count": 3,
     "metadata": {},
     "output_type": "execute_result"
    }
   ],
   "source": [
    "fft([0, 1, 2, 1])"
   ]
  },
  {
   "cell_type": "markdown",
   "metadata": {},
   "source": [
    "### section 1.2 - 2D fft\n",
    "\n",
    "當資料是個矩陣時，julia 中的 fft 則是對這矩陣做二維的 fft。\n",
    "\n",
    "**注意：** Matlab 中對矩陣做二維 fft 的指令是 fft2。\n",
    "\n",
    "如以下例子："
   ]
  },
  {
   "cell_type": "code",
   "execution_count": 4,
   "metadata": {},
   "outputs": [
    {
     "data": {
      "text/plain": [
       "4×4 Array{Int64,2}:\n",
       " 0  0  0  0\n",
       " 1  1  1  1\n",
       " 2  2  2  2\n",
       " 1  1  1  1"
      ]
     },
     "execution_count": 4,
     "metadata": {},
     "output_type": "execute_result"
    }
   ],
   "source": [
    "A=[0 0 0 0; 1 1 1 1; 2 2 2 2; 1 1 1 1]"
   ]
  },
  {
   "cell_type": "code",
   "execution_count": 5,
   "metadata": {},
   "outputs": [
    {
     "data": {
      "text/plain": [
       "4×4 Array{Complex{Float64},2}:\n",
       " 16.0+0.0im  0.0+0.0im  0.0+0.0im  0.0+0.0im\n",
       " -8.0+0.0im  0.0+0.0im  0.0+0.0im  0.0+0.0im\n",
       "  0.0+0.0im  0.0+0.0im  0.0+0.0im  0.0+0.0im\n",
       " -8.0+0.0im  0.0+0.0im  0.0+0.0im  0.0+0.0im"
      ]
     },
     "execution_count": 5,
     "metadata": {},
     "output_type": "execute_result"
    }
   ],
   "source": [
    "fft(A)"
   ]
  },
  {
   "cell_type": "markdown",
   "metadata": {},
   "source": [
    "從結果可以看出 Julia 的 fft 指令做矩陣的傅立葉轉換時，是先做行向量，並將結果依照行向量儲存在該行。全部做完一次之後再做列向量，再將該列的結果儲存在該列。 \n",
    "\n",
    "我們把步驟拆解開來看，\n",
    "\n",
    "1. 上例中，先做 fft([0;1;2;1]) = [4;-2;0;-2]。矩陣中四行都做完會得到"
   ]
  },
  {
   "cell_type": "code",
   "execution_count": 6,
   "metadata": {},
   "outputs": [
    {
     "data": {
      "text/plain": [
       "4×4 Array{Int64,2}:\n",
       "  4   4   4   4\n",
       " -2  -2  -2  -2\n",
       "  0   0   0   0\n",
       " -2  -2  -2  -2"
      ]
     },
     "execution_count": 6,
     "metadata": {},
     "output_type": "execute_result"
    }
   ],
   "source": [
    "[4 4 4 4; -2 -2 -2 -2; 0 0 0 0; -2 -2 -2 -2]"
   ]
  },
  {
   "cell_type": "markdown",
   "metadata": {},
   "source": [
    "2. 接下來再做列向量。由於現在每一列都是常數函數，所以我們可以預期它的結果只有在第一個傅立葉係數有值，其他為 0。(第一個傅立葉係數 $\\hat{f}_0$ 儲存的是函數常數的部分，也就是 $e^0$ 的係數)。底下是 f(x) = 4 的傅立葉轉換結果，結果是 $4 \\times N$，$N$ 是取點的各數，在這裡是取樣 4 個點 (細節在稍後的小節中會提到)。其他列的計算結果雷同，fft([-2 -2 -2 -2]) = [-8 0 0 0], fft([0 0 0 0]) = [0 0 0 0]。"
   ]
  },
  {
   "cell_type": "code",
   "execution_count": 7,
   "metadata": {},
   "outputs": [
    {
     "data": {
      "text/plain": [
       "1×4 Array{Complex{Float64},2}:\n",
       " 16.0+0.0im  0.0+0.0im  0.0+0.0im  0.0+0.0im"
      ]
     },
     "execution_count": 7,
     "metadata": {},
     "output_type": "execute_result"
    }
   ],
   "source": [
    "fft([4 4 4 4])"
   ]
  },
  {
   "cell_type": "markdown",
   "metadata": {},
   "source": [
    "把每一列的結果按照每一列的順序排好就會得到"
   ]
  },
  {
   "cell_type": "code",
   "execution_count": 8,
   "metadata": {},
   "outputs": [
    {
     "data": {
      "text/plain": [
       "4×4 Array{Int64,2}:\n",
       " 16  0  0  0\n",
       " -8  0  0  0\n",
       "  0  0  0  0\n",
       " -8  0  0  0"
      ]
     },
     "execution_count": 8,
     "metadata": {},
     "output_type": "execute_result"
    }
   ],
   "source": [
    "[16 0 0 0; -8 0 0 0; 0 0 0 0; -8 0 0 0]"
   ]
  },
  {
   "cell_type": "markdown",
   "metadata": {},
   "source": [
    "## Section 2 - FFT 的運算時間\n",
    "下列的兩個例子告訴我們，fft 這個內建的函數運算速度很快，將一個 (2^17)*1 的向量轉成傅立葉係數不會超過 0.2 秒。另一個需要注意的地方是當我們使用 @time 計算運算時間時，需要多算幾次再取平均。\n",
    "\n",
    "如果向量的長度為 2 的倍數，運算速度會比較快"
   ]
  },
  {
   "cell_type": "code",
   "execution_count": 9,
   "metadata": {},
   "outputs": [
    {
     "name": "stdout",
     "output_type": "stream",
     "text": [
      "  0.044618 seconds (72.50 k allocations: 7.745 MiB, 13.55% gc time)\n",
      "  0.004081 seconds (58 allocations: 4.003 MiB)\n",
      "  0.009898 seconds (58 allocations: 4.003 MiB, 51.67% gc time)\n",
      "  0.003788 seconds (58 allocations: 4.003 MiB)\n"
     ]
    }
   ],
   "source": [
    "x = randn(2^17)\n",
    "@time y = fft(x);\n",
    "x = randn(2^17)\n",
    "@time y = fft(x);\n",
    "x = randn(2^17)\n",
    "@time y = fft(x);\n",
    "x = randn(2^17)\n",
    "@time y = fft(x);"
   ]
  },
  {
   "cell_type": "markdown",
   "metadata": {},
   "source": [
    "如果向量的長度不是 2 的倍數，運算速度會比較慢"
   ]
  },
  {
   "cell_type": "code",
   "execution_count": 10,
   "metadata": {},
   "outputs": [
    {
     "name": "stdout",
     "output_type": "stream",
     "text": [
      "  0.033021 seconds (58 allocations: 2.841 MiB)\n",
      "  0.023053 seconds (58 allocations: 2.841 MiB)\n",
      "  0.028302 seconds (58 allocations: 2.841 MiB)\n",
      "  0.025895 seconds (58 allocations: 2.841 MiB, 16.26% gc time)\n"
     ]
    }
   ],
   "source": [
    "x = randn(92993)\n",
    "@time y = fft(x);\n",
    "x = randn(92993)\n",
    "@time y = fft(x);\n",
    "x = randn(92993)\n",
    "@time y = fft(x);\n",
    "x = randn(92993)\n",
    "@time y = fft(x);"
   ]
  },
  {
   "cell_type": "markdown",
   "metadata": {},
   "source": [
    "## Section 3 - FFT 的運算量\n",
    "FFT 的運算量約為 nlog(n), n 為向量長度。\n",
    "\n",
    "```diff\n",
    "- TS: 為什麼需要 \"for ii\" 這個回圈? \n",
    "-     cpt 這個函數也需要解釋一下\n",
    "```"
   ]
  },
  {
   "cell_type": "code",
   "execution_count": 11,
   "metadata": {},
   "outputs": [
    {
     "data": {
      "text/plain": [
       "cpt (generic function with 1 method)"
      ]
     },
     "execution_count": 11,
     "metadata": {},
     "output_type": "execute_result"
    }
   ],
   "source": [
    "function cpt(k)\n",
    "    for ii = 1:1\n",
    "        x = randn(10^k);\n",
    "        y = fft(x);\n",
    "    end\n",
    "end"
   ]
  },
  {
   "cell_type": "markdown",
   "metadata": {},
   "source": [
    "用 @timed 計時可以把時間存起來，@timed 的運算結果是一個向量，計算時間儲存在向量的第二個值。\n",
    "\n",
    "我們把 n = $10^2$ ~ $10^8$ 計算的結果分別儲存在 x2 ~ x8 中。"
   ]
  },
  {
   "cell_type": "code",
   "execution_count": 12,
   "metadata": {},
   "outputs": [
    {
     "data": {
      "text/plain": [
       "(nothing, 23.634766795, 4000887327, 0.291171846, Base.GC_Diff(4000887327, 3, 0, 14804, 0, 0, 291171846, 4, 3))"
      ]
     },
     "execution_count": 12,
     "metadata": {},
     "output_type": "execute_result"
    }
   ],
   "source": [
    "@timed cpt(8)"
   ]
  },
  {
   "cell_type": "code",
   "execution_count": 13,
   "metadata": {},
   "outputs": [
    {
     "data": {
      "text/plain": [
       "(nothing, 15.736861946, 4000003424, 0.301343274, Base.GC_Diff(4000003424, 3, 0, 57, 0, 0, 301343274, 3, 3))"
      ]
     },
     "execution_count": 13,
     "metadata": {},
     "output_type": "execute_result"
    }
   ],
   "source": [
    "x2 = @timed cpt(2);\n",
    "x3 = @timed cpt(3);\n",
    "x4 = @timed cpt(4);\n",
    "x5 = @timed cpt(5);\n",
    "x6 = @timed cpt(6);\n",
    "x7 = @timed cpt(7);\n",
    "x8 = @timed cpt(8);"
   ]
  },
  {
   "cell_type": "markdown",
   "metadata": {},
   "source": [
    "為了方便畫圖，我們把計算的時間存在 y1 中，y2為 nlog(n)，n = $10^2$ ~ $10^8$。"
   ]
  },
  {
   "cell_type": "code",
   "execution_count": 14,
   "metadata": {},
   "outputs": [],
   "source": [
    "y1 = [x2[2], x3[2], x4[2], x5[2], x6[2], x7[2], x8[2]];"
   ]
  },
  {
   "cell_type": "code",
   "execution_count": 15,
   "metadata": {},
   "outputs": [],
   "source": [
    "y2 = [2*10^2, 3*10^3, 4*10^4, 5*10^5, 6*10^6, 7*10^7, 8*10^8];"
   ]
  },
  {
   "cell_type": "code",
   "execution_count": 16,
   "metadata": {},
   "outputs": [],
   "source": [
    "x = [10^2, 10^3, 10^4, 10^5, 10^6, 10^7, 10^8];"
   ]
  },
  {
   "cell_type": "code",
   "execution_count": 17,
   "metadata": {},
   "outputs": [
    {
     "data": {
      "image/svg+xml": [
       "<?xml version=\"1.0\" encoding=\"utf-8\"?>\n",
       "<svg xmlns=\"http://www.w3.org/2000/svg\" xmlns:xlink=\"http://www.w3.org/1999/xlink\" width=\"600\" height=\"400\" viewBox=\"0 0 2400 1600\">\n",
       "<defs>\n",
       "  <clipPath id=\"clip7400\">\n",
       "    <rect x=\"0\" y=\"0\" width=\"2400\" height=\"1600\"/>\n",
       "  </clipPath>\n",
       "</defs>\n",
       "<path clip-path=\"url(#clip7400)\" d=\"\n",
       "M0 1600 L2400 1600 L2400 0 L0 0  Z\n",
       "  \" fill=\"#ffffff\" fill-rule=\"evenodd\" fill-opacity=\"1\"/>\n",
       "<defs>\n",
       "  <clipPath id=\"clip7401\">\n",
       "    <rect x=\"480\" y=\"0\" width=\"1681\" height=\"1600\"/>\n",
       "  </clipPath>\n",
       "</defs>\n",
       "<path clip-path=\"url(#clip7400)\" d=\"\n",
       "M141.865 1487.47 L2352.76 1487.47 L2352.76 47.2441 L141.865 47.2441  Z\n",
       "  \" fill=\"#ffffff\" fill-rule=\"evenodd\" fill-opacity=\"1\"/>\n",
       "<defs>\n",
       "  <clipPath id=\"clip7402\">\n",
       "    <rect x=\"141\" y=\"47\" width=\"2212\" height=\"1441\"/>\n",
       "  </clipPath>\n",
       "</defs>\n",
       "<polyline clip-path=\"url(#clip7402)\" style=\"stroke:#000000; stroke-width:2; stroke-opacity:0.1; fill:none\" points=\"\n",
       "  204.435,1487.47 204.435,47.2441 \n",
       "  \"/>\n",
       "<polyline clip-path=\"url(#clip7402)\" style=\"stroke:#000000; stroke-width:2; stroke-opacity:0.1; fill:none\" points=\"\n",
       "  725.872,1487.47 725.872,47.2441 \n",
       "  \"/>\n",
       "<polyline clip-path=\"url(#clip7402)\" style=\"stroke:#000000; stroke-width:2; stroke-opacity:0.1; fill:none\" points=\"\n",
       "  1247.31,1487.47 1247.31,47.2441 \n",
       "  \"/>\n",
       "<polyline clip-path=\"url(#clip7402)\" style=\"stroke:#000000; stroke-width:2; stroke-opacity:0.1; fill:none\" points=\"\n",
       "  1768.75,1487.47 1768.75,47.2441 \n",
       "  \"/>\n",
       "<polyline clip-path=\"url(#clip7402)\" style=\"stroke:#000000; stroke-width:2; stroke-opacity:0.1; fill:none\" points=\"\n",
       "  2290.18,1487.47 2290.18,47.2441 \n",
       "  \"/>\n",
       "<polyline clip-path=\"url(#clip7402)\" style=\"stroke:#000000; stroke-width:2; stroke-opacity:0.1; fill:none\" points=\"\n",
       "  141.865,1282.86 2352.76,1282.86 \n",
       "  \"/>\n",
       "<polyline clip-path=\"url(#clip7402)\" style=\"stroke:#000000; stroke-width:2; stroke-opacity:0.1; fill:none\" points=\"\n",
       "  141.865,1048.58 2352.76,1048.58 \n",
       "  \"/>\n",
       "<polyline clip-path=\"url(#clip7402)\" style=\"stroke:#000000; stroke-width:2; stroke-opacity:0.1; fill:none\" points=\"\n",
       "  141.865,814.294 2352.76,814.294 \n",
       "  \"/>\n",
       "<polyline clip-path=\"url(#clip7402)\" style=\"stroke:#000000; stroke-width:2; stroke-opacity:0.1; fill:none\" points=\"\n",
       "  141.865,580.009 2352.76,580.009 \n",
       "  \"/>\n",
       "<polyline clip-path=\"url(#clip7402)\" style=\"stroke:#000000; stroke-width:2; stroke-opacity:0.1; fill:none\" points=\"\n",
       "  141.865,345.724 2352.76,345.724 \n",
       "  \"/>\n",
       "<polyline clip-path=\"url(#clip7402)\" style=\"stroke:#000000; stroke-width:2; stroke-opacity:0.1; fill:none\" points=\"\n",
       "  141.865,111.44 2352.76,111.44 \n",
       "  \"/>\n",
       "<polyline clip-path=\"url(#clip7400)\" style=\"stroke:#000000; stroke-width:4; stroke-opacity:1; fill:none\" points=\"\n",
       "  141.865,1487.47 2352.76,1487.47 \n",
       "  \"/>\n",
       "<polyline clip-path=\"url(#clip7400)\" style=\"stroke:#000000; stroke-width:4; stroke-opacity:1; fill:none\" points=\"\n",
       "  141.865,1487.47 141.865,47.2441 \n",
       "  \"/>\n",
       "<polyline clip-path=\"url(#clip7400)\" style=\"stroke:#000000; stroke-width:4; stroke-opacity:1; fill:none\" points=\"\n",
       "  204.435,1487.47 204.435,1465.87 \n",
       "  \"/>\n",
       "<polyline clip-path=\"url(#clip7400)\" style=\"stroke:#000000; stroke-width:4; stroke-opacity:1; fill:none\" points=\"\n",
       "  725.872,1487.47 725.872,1465.87 \n",
       "  \"/>\n",
       "<polyline clip-path=\"url(#clip7400)\" style=\"stroke:#000000; stroke-width:4; stroke-opacity:1; fill:none\" points=\"\n",
       "  1247.31,1487.47 1247.31,1465.87 \n",
       "  \"/>\n",
       "<polyline clip-path=\"url(#clip7400)\" style=\"stroke:#000000; stroke-width:4; stroke-opacity:1; fill:none\" points=\"\n",
       "  1768.75,1487.47 1768.75,1465.87 \n",
       "  \"/>\n",
       "<polyline clip-path=\"url(#clip7400)\" style=\"stroke:#000000; stroke-width:4; stroke-opacity:1; fill:none\" points=\"\n",
       "  2290.18,1487.47 2290.18,1465.87 \n",
       "  \"/>\n",
       "<polyline clip-path=\"url(#clip7400)\" style=\"stroke:#000000; stroke-width:4; stroke-opacity:1; fill:none\" points=\"\n",
       "  141.865,1282.86 175.028,1282.86 \n",
       "  \"/>\n",
       "<polyline clip-path=\"url(#clip7400)\" style=\"stroke:#000000; stroke-width:4; stroke-opacity:1; fill:none\" points=\"\n",
       "  141.865,1048.58 175.028,1048.58 \n",
       "  \"/>\n",
       "<polyline clip-path=\"url(#clip7400)\" style=\"stroke:#000000; stroke-width:4; stroke-opacity:1; fill:none\" points=\"\n",
       "  141.865,814.294 175.028,814.294 \n",
       "  \"/>\n",
       "<polyline clip-path=\"url(#clip7400)\" style=\"stroke:#000000; stroke-width:4; stroke-opacity:1; fill:none\" points=\"\n",
       "  141.865,580.009 175.028,580.009 \n",
       "  \"/>\n",
       "<polyline clip-path=\"url(#clip7400)\" style=\"stroke:#000000; stroke-width:4; stroke-opacity:1; fill:none\" points=\"\n",
       "  141.865,345.724 175.028,345.724 \n",
       "  \"/>\n",
       "<polyline clip-path=\"url(#clip7400)\" style=\"stroke:#000000; stroke-width:4; stroke-opacity:1; fill:none\" points=\"\n",
       "  141.865,111.44 175.028,111.44 \n",
       "  \"/>\n",
       "<g clip-path=\"url(#clip7400)\">\n",
       "<text style=\"fill:#000000; fill-opacity:1; font-family:Arial,Helvetica Neue,Helvetica,sans-serif; font-size:48px; text-anchor:middle;\" transform=\"rotate(0, 204.435, 1541.47)\" x=\"204.435\" y=\"1541.47\">0</text>\n",
       "</g>\n",
       "<g clip-path=\"url(#clip7400)\">\n",
       "<text style=\"fill:#000000; fill-opacity:1; font-family:Arial,Helvetica Neue,Helvetica,sans-serif; font-size:48px; text-anchor:start;\" transform=\"rotate(0, 640.73, 1562.48)\" x=\"640.73\" y=\"1562.48\">2.5×10</text>\n",
       "</g>\n",
       "<g clip-path=\"url(#clip7400)\">\n",
       "<text style=\"fill:#000000; fill-opacity:1; font-family:Arial,Helvetica Neue,Helvetica,sans-serif; font-size:38px; text-anchor:start;\" transform=\"rotate(0, 789.27, 1535.07)\" x=\"789.27\" y=\"1535.07\">7</text>\n",
       "</g>\n",
       "<g clip-path=\"url(#clip7400)\">\n",
       "<text style=\"fill:#000000; fill-opacity:1; font-family:Arial,Helvetica Neue,Helvetica,sans-serif; font-size:48px; text-anchor:start;\" transform=\"rotate(0, 1162.17, 1562.48)\" x=\"1162.17\" y=\"1562.48\">5.0×10</text>\n",
       "</g>\n",
       "<g clip-path=\"url(#clip7400)\">\n",
       "<text style=\"fill:#000000; fill-opacity:1; font-family:Arial,Helvetica Neue,Helvetica,sans-serif; font-size:38px; text-anchor:start;\" transform=\"rotate(0, 1310.71, 1535.07)\" x=\"1310.71\" y=\"1535.07\">7</text>\n",
       "</g>\n",
       "<g clip-path=\"url(#clip7400)\">\n",
       "<text style=\"fill:#000000; fill-opacity:1; font-family:Arial,Helvetica Neue,Helvetica,sans-serif; font-size:48px; text-anchor:start;\" transform=\"rotate(0, 1683.6, 1562.48)\" x=\"1683.6\" y=\"1562.48\">7.5×10</text>\n",
       "</g>\n",
       "<g clip-path=\"url(#clip7400)\">\n",
       "<text style=\"fill:#000000; fill-opacity:1; font-family:Arial,Helvetica Neue,Helvetica,sans-serif; font-size:38px; text-anchor:start;\" transform=\"rotate(0, 1832.14, 1535.07)\" x=\"1832.14\" y=\"1535.07\">7</text>\n",
       "</g>\n",
       "<g clip-path=\"url(#clip7400)\">\n",
       "<text style=\"fill:#000000; fill-opacity:1; font-family:Arial,Helvetica Neue,Helvetica,sans-serif; font-size:48px; text-anchor:start;\" transform=\"rotate(0, 2205.04, 1562.48)\" x=\"2205.04\" y=\"1562.48\">1.0×10</text>\n",
       "</g>\n",
       "<g clip-path=\"url(#clip7400)\">\n",
       "<text style=\"fill:#000000; fill-opacity:1; font-family:Arial,Helvetica Neue,Helvetica,sans-serif; font-size:38px; text-anchor:start;\" transform=\"rotate(0, 2353.58, 1535.07)\" x=\"2353.58\" y=\"1535.07\">8</text>\n",
       "</g>\n",
       "<g clip-path=\"url(#clip7400)\">\n",
       "<text style=\"fill:#000000; fill-opacity:1; font-family:Arial,Helvetica Neue,Helvetica,sans-serif; font-size:48px; text-anchor:end;\" transform=\"rotate(0, 117.865, 1300.36)\" x=\"117.865\" y=\"1300.36\">-5</text>\n",
       "</g>\n",
       "<g clip-path=\"url(#clip7400)\">\n",
       "<text style=\"fill:#000000; fill-opacity:1; font-family:Arial,Helvetica Neue,Helvetica,sans-serif; font-size:48px; text-anchor:end;\" transform=\"rotate(0, 117.865, 1066.08)\" x=\"117.865\" y=\"1066.08\">0</text>\n",
       "</g>\n",
       "<g clip-path=\"url(#clip7400)\">\n",
       "<text style=\"fill:#000000; fill-opacity:1; font-family:Arial,Helvetica Neue,Helvetica,sans-serif; font-size:48px; text-anchor:end;\" transform=\"rotate(0, 117.865, 831.794)\" x=\"117.865\" y=\"831.794\">5</text>\n",
       "</g>\n",
       "<g clip-path=\"url(#clip7400)\">\n",
       "<text style=\"fill:#000000; fill-opacity:1; font-family:Arial,Helvetica Neue,Helvetica,sans-serif; font-size:48px; text-anchor:end;\" transform=\"rotate(0, 117.865, 597.509)\" x=\"117.865\" y=\"597.509\">10</text>\n",
       "</g>\n",
       "<g clip-path=\"url(#clip7400)\">\n",
       "<text style=\"fill:#000000; fill-opacity:1; font-family:Arial,Helvetica Neue,Helvetica,sans-serif; font-size:48px; text-anchor:end;\" transform=\"rotate(0, 117.865, 363.224)\" x=\"117.865\" y=\"363.224\">15</text>\n",
       "</g>\n",
       "<g clip-path=\"url(#clip7400)\">\n",
       "<text style=\"fill:#000000; fill-opacity:1; font-family:Arial,Helvetica Neue,Helvetica,sans-serif; font-size:48px; text-anchor:end;\" transform=\"rotate(0, 117.865, 128.94)\" x=\"117.865\" y=\"128.94\">20</text>\n",
       "</g>\n",
       "<polyline clip-path=\"url(#clip7402)\" style=\"stroke:#009af9; stroke-width:4; stroke-opacity:1; fill:none\" points=\"\n",
       "  204.437,1446.71 204.456,1413.46 204.643,1373.43 206.521,1232.43 225.292,1159.06 413.01,1043.48 2290.18,919.441 \n",
       "  \"/>\n",
       "<polyline clip-path=\"url(#clip7402)\" style=\"stroke:#e26f46; stroke-width:4; stroke-opacity:1; fill:none\" points=\"\n",
       "  204.437,800.316 204.456,673.425 204.643,552.053 206.521,433.705 225.292,317.269 413.01,202.154 2290.18,88.0053 \n",
       "  \"/>\n",
       "<path clip-path=\"url(#clip7400)\" d=\"\n",
       "M1751.86 312.204 L2280.76 312.204 L2280.76 130.764 L1751.86 130.764  Z\n",
       "  \" fill=\"#ffffff\" fill-rule=\"evenodd\" fill-opacity=\"1\"/>\n",
       "<polyline clip-path=\"url(#clip7400)\" style=\"stroke:#000000; stroke-width:4; stroke-opacity:1; fill:none\" points=\"\n",
       "  1751.86,312.204 2280.76,312.204 2280.76,130.764 1751.86,130.764 1751.86,312.204 \n",
       "  \"/>\n",
       "<polyline clip-path=\"url(#clip7400)\" style=\"stroke:#009af9; stroke-width:4; stroke-opacity:1; fill:none\" points=\"\n",
       "  1775.86,191.244 1919.86,191.244 \n",
       "  \"/>\n",
       "<g clip-path=\"url(#clip7400)\">\n",
       "<text style=\"fill:#000000; fill-opacity:1; font-family:Arial,Helvetica Neue,Helvetica,sans-serif; font-size:48px; text-anchor:start;\" transform=\"rotate(0, 1943.86, 208.744)\" x=\"1943.86\" y=\"208.744\">compute time</text>\n",
       "</g>\n",
       "<polyline clip-path=\"url(#clip7400)\" style=\"stroke:#e26f46; stroke-width:4; stroke-opacity:1; fill:none\" points=\"\n",
       "  1775.86,251.724 1919.86,251.724 \n",
       "  \"/>\n",
       "<g clip-path=\"url(#clip7400)\">\n",
       "<text style=\"fill:#000000; fill-opacity:1; font-family:Arial,Helvetica Neue,Helvetica,sans-serif; font-size:48px; text-anchor:start;\" transform=\"rotate(0, 1943.86, 269.224)\" x=\"1943.86\" y=\"269.224\">nlog(n)</text>\n",
       "</g>\n",
       "</svg>\n"
      ]
     },
     "execution_count": 17,
     "metadata": {},
     "output_type": "execute_result"
    }
   ],
   "source": [
    "p = plot(x,log.(y1),label=\"compute time\")\n",
    "plot!(p,x,log.(y2),label=\"nlog(n)\")"
   ]
  },
  {
   "cell_type": "markdown",
   "metadata": {},
   "source": [
    "我們將計算所花的時間和 nlog(n) 分別取對數畫在同一張圖上，會發現斜率幾乎一樣。因此 fft 的運算量約為 nlog(n)。"
   ]
  },
  {
   "cell_type": "markdown",
   "metadata": {},
   "source": [
    "補充：\n",
    "\n",
    "我們可以利用 varinfo() 查看所有變數"
   ]
  },
  {
   "cell_type": "code",
   "execution_count": 18,
   "metadata": {},
   "outputs": [
    {
     "data": {
      "text/latex": [
       "\\begin{tabular}\n",
       "{l | r | l}\n",
       "name & size & summary \\\\\n",
       "\\hline\n",
       "A & 168 bytes & 4×4 Array\\{Int64,2\\} \\\\\n",
       "Base &  & Module \\\\\n",
       "Core &  & Module \\\\\n",
       "Main &  & Module \\\\\n",
       "cpt & 0 bytes & typeof(cpt) \\\\\n",
       "p & 34.366 KiB & Plots.Plot\\{Plots.GRBackend\\} \\\\\n",
       "x & 96 bytes & 7-element Array\\{Int64,1\\} \\\\\n",
       "x2 & 96 bytes & Tuple\\{Nothing,Float64,Int64,Float64,Base.GC\\_Diff\\} \\\\\n",
       "x3 & 96 bytes & Tuple\\{Nothing,Float64,Int64,Float64,Base.GC\\_Diff\\} \\\\\n",
       "x4 & 96 bytes & Tuple\\{Nothing,Float64,Int64,Float64,Base.GC\\_Diff\\} \\\\\n",
       "x5 & 96 bytes & Tuple\\{Nothing,Float64,Int64,Float64,Base.GC\\_Diff\\} \\\\\n",
       "x6 & 96 bytes & Tuple\\{Nothing,Float64,Int64,Float64,Base.GC\\_Diff\\} \\\\\n",
       "x7 & 96 bytes & Tuple\\{Nothing,Float64,Int64,Float64,Base.GC\\_Diff\\} \\\\\n",
       "x8 & 96 bytes & Tuple\\{Nothing,Float64,Int64,Float64,Base.GC\\_Diff\\} \\\\\n",
       "y & 1.419 MiB & 92993-element Array\\{Complex\\{Float64\\},1\\} \\\\\n",
       "y1 & 96 bytes & 7-element Array\\{Float64,1\\} \\\\\n",
       "y2 & 96 bytes & 7-element Array\\{Int64,1\\} \\\\\n",
       "\\end{tabular}\n"
      ],
      "text/markdown": [
       "| name |       size | summary                                           |\n",
       "|:---- | ----------:|:------------------------------------------------- |\n",
       "| A    |  168 bytes | 4×4 Array{Int64,2}                                |\n",
       "| Base |            | Module                                            |\n",
       "| Core |            | Module                                            |\n",
       "| Main |            | Module                                            |\n",
       "| cpt  |    0 bytes | typeof(cpt)                                       |\n",
       "| p    | 34.366 KiB | Plots.Plot{Plots.GRBackend}                       |\n",
       "| x    |   96 bytes | 7-element Array{Int64,1}                          |\n",
       "| x2   |   96 bytes | Tuple{Nothing,Float64,Int64,Float64,Base.GC_Diff} |\n",
       "| x3   |   96 bytes | Tuple{Nothing,Float64,Int64,Float64,Base.GC_Diff} |\n",
       "| x4   |   96 bytes | Tuple{Nothing,Float64,Int64,Float64,Base.GC_Diff} |\n",
       "| x5   |   96 bytes | Tuple{Nothing,Float64,Int64,Float64,Base.GC_Diff} |\n",
       "| x6   |   96 bytes | Tuple{Nothing,Float64,Int64,Float64,Base.GC_Diff} |\n",
       "| x7   |   96 bytes | Tuple{Nothing,Float64,Int64,Float64,Base.GC_Diff} |\n",
       "| x8   |   96 bytes | Tuple{Nothing,Float64,Int64,Float64,Base.GC_Diff} |\n",
       "| y    |  1.419 MiB | 92993-element Array{Complex{Float64},1}           |\n",
       "| y1   |   96 bytes | 7-element Array{Float64,1}                        |\n",
       "| y2   |   96 bytes | 7-element Array{Int64,1}                          |\n"
      ],
      "text/plain": [
       "name       size summary                                          \n",
       "–––– –––––––––– –––––––––––––––––––––––––––––––––––––––––––––––––\n",
       "A     168 bytes 4×4 Array{Int64,2}                               \n",
       "Base            Module                                           \n",
       "Core            Module                                           \n",
       "Main            Module                                           \n",
       "cpt     0 bytes typeof(cpt)                                      \n",
       "p    34.366 KiB Plots.Plot{Plots.GRBackend}                      \n",
       "x      96 bytes 7-element Array{Int64,1}                         \n",
       "x2     96 bytes Tuple{Nothing,Float64,Int64,Float64,Base.GC_Diff}\n",
       "x3     96 bytes Tuple{Nothing,Float64,Int64,Float64,Base.GC_Diff}\n",
       "x4     96 bytes Tuple{Nothing,Float64,Int64,Float64,Base.GC_Diff}\n",
       "x5     96 bytes Tuple{Nothing,Float64,Int64,Float64,Base.GC_Diff}\n",
       "x6     96 bytes Tuple{Nothing,Float64,Int64,Float64,Base.GC_Diff}\n",
       "x7     96 bytes Tuple{Nothing,Float64,Int64,Float64,Base.GC_Diff}\n",
       "x8     96 bytes Tuple{Nothing,Float64,Int64,Float64,Base.GC_Diff}\n",
       "y     1.419 MiB 92993-element Array{Complex{Float64},1}          \n",
       "y1     96 bytes 7-element Array{Float64,1}                       \n",
       "y2     96 bytes 7-element Array{Int64,1}                         "
      ]
     },
     "execution_count": 18,
     "metadata": {},
     "output_type": "execute_result"
    }
   ],
   "source": [
    "varinfo()"
   ]
  },
  {
   "cell_type": "markdown",
   "metadata": {},
   "source": [
    "## Section 4 - fft 的準確度\n",
    "下列兩個例子告訴我們，使用 fft 求傅立葉係數的誤差會在機器誤差 ($10^{-14}$) 以下。\n",
    "\n",
    "我們將要轉換的值儲存在變數 a 中，利用 fft(a) 取其傅立葉係數，再利用 ifft(fft(a)) 轉回原來的函數值。\n",
    "\n",
    "如果 fft 與 ifft 這兩個函數可以很準確的把函數值轉成傅立葉係數，再轉回原函數，那麼 ifft(fft(a)) 與 a 的值差距應該要很小。\n",
    "\n",
    "因此我們用 norm 計算 ifft(fft(a)) 與 a 之間的誤差。下列兩個結果顯示，轉換的誤差會小於機器誤差。\n",
    "\n",
    "Julia 中，norm 這個函數可以用來算向量與矩陣的範數，\n",
    "\n",
    "norm(A, Inf) 用來計算 A 的 infinity norm，即取出向量中絕對值最大的元素。\n",
    "\n",
    "norm(A, p) 用來計算 A 的 p norm，$||A||_p = (\\sum_{i = 1}^n |a_i|^p)^{1/p}$，其中 $a_i$ 是 A 中的元素，A 的長度為 n。\n",
    "\n",
    "norm(A) 是用預設的值，算的是 2 - norm。"
   ]
  },
  {
   "cell_type": "markdown",
   "metadata": {},
   "source": [
    "我們用兩個例子來檢驗。令 a 是複數，實部與虛部都取亂數。\n",
    "1. rand(8) 是從 0 到 1 之間取 8 個亂數，值為小數。\n",
    "2. rand(-10:10,8) 是從 -10 到 10 之間取 8 個亂數，值為整數。"
   ]
  },
  {
   "cell_type": "code",
   "execution_count": 19,
   "metadata": {},
   "outputs": [
    {
     "data": {
      "text/plain": [
       "1.1102230246251565e-16"
      ]
     },
     "execution_count": 19,
     "metadata": {},
     "output_type": "execute_result"
    }
   ],
   "source": [
    "a = rand(8) + im*rand(8);\n",
    "norm(ifft(fft(a)) - a)"
   ]
  },
  {
   "cell_type": "code",
   "execution_count": 20,
   "metadata": {},
   "outputs": [
    {
     "data": {
      "text/plain": [
       "2.275280134513746e-15"
      ]
     },
     "execution_count": 20,
     "metadata": {},
     "output_type": "execute_result"
    }
   ],
   "source": [
    "a = rand(-10:10, 8) + im*rand(-10:10, 8);\n",
    "norm(ifft(fft(a)) - a)"
   ]
  },
  {
   "cell_type": "code",
   "execution_count": null,
   "metadata": {},
   "outputs": [],
   "source": []
  }
 ],
 "metadata": {
  "kernelspec": {
   "display_name": "Julia 1.1.0",
   "language": "julia",
   "name": "julia-1.1"
  },
  "language_info": {
   "file_extension": ".jl",
   "mimetype": "application/julia",
   "name": "julia",
   "version": "1.1.0"
  }
 },
 "nbformat": 4,
 "nbformat_minor": 4
}
